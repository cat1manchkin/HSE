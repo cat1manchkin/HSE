{
 "cells": [
  {
   "cell_type": "markdown",
   "id": "bb4e56c9",
   "metadata": {},
   "source": [
    "# Task 4"
   ]
  },
  {
   "cell_type": "markdown",
   "id": "38c64433",
   "metadata": {},
   "source": [
    "Исследуйте, как различные факторы влияют на красоту человека (красота измеряется по шкале от 1 до 5)."
   ]
  },
  {
   "cell_type": "code",
   "execution_count": 1,
   "id": "0e73cb61",
   "metadata": {
    "ExecuteTime": {
     "end_time": "2021-09-03T19:01:58.715748Z",
     "start_time": "2021-09-03T19:01:57.901699Z"
    }
   },
   "outputs": [],
   "source": [
    "import numpy as np\n",
    "import pandas as pd\n",
    "import seaborn as sns\n",
    "import matplotlib.pyplot as plt"
   ]
  },
  {
   "cell_type": "markdown",
   "id": "79247913",
   "metadata": {},
   "source": [
    "Загрузите файл beauty.csv.\n",
    "Столбец looks - это красота человека."
   ]
  },
  {
   "cell_type": "code",
   "execution_count": 2,
   "id": "d1492d00",
   "metadata": {
    "ExecuteTime": {
     "end_time": "2021-09-03T19:02:22.243447Z",
     "start_time": "2021-09-03T19:02:22.240252Z"
    }
   },
   "outputs": [],
   "source": [
    "df = pd.read_csv(\"beauty.csv\")"
   ]
  },
  {
   "cell_type": "code",
   "execution_count": 3,
   "id": "68a25442",
   "metadata": {},
   "outputs": [
    {
     "data": {
      "text/html": [
       "<div>\n",
       "<style scoped>\n",
       "    .dataframe tbody tr th:only-of-type {\n",
       "        vertical-align: middle;\n",
       "    }\n",
       "\n",
       "    .dataframe tbody tr th {\n",
       "        vertical-align: top;\n",
       "    }\n",
       "\n",
       "    .dataframe thead th {\n",
       "        text-align: right;\n",
       "    }\n",
       "</style>\n",
       "<table border=\"1\" class=\"dataframe\">\n",
       "  <thead>\n",
       "    <tr style=\"text-align: right;\">\n",
       "      <th></th>\n",
       "      <th>wage</th>\n",
       "      <th>exper</th>\n",
       "      <th>union</th>\n",
       "      <th>goodhlth</th>\n",
       "      <th>black</th>\n",
       "      <th>female</th>\n",
       "      <th>married</th>\n",
       "      <th>service</th>\n",
       "      <th>educ</th>\n",
       "      <th>looks</th>\n",
       "    </tr>\n",
       "  </thead>\n",
       "  <tbody>\n",
       "    <tr>\n",
       "      <th>0</th>\n",
       "      <td>5.73</td>\n",
       "      <td>30</td>\n",
       "      <td>0</td>\n",
       "      <td>1</td>\n",
       "      <td>0</td>\n",
       "      <td>1</td>\n",
       "      <td>1</td>\n",
       "      <td>1</td>\n",
       "      <td>14</td>\n",
       "      <td>4</td>\n",
       "    </tr>\n",
       "    <tr>\n",
       "      <th>1</th>\n",
       "      <td>4.28</td>\n",
       "      <td>28</td>\n",
       "      <td>0</td>\n",
       "      <td>1</td>\n",
       "      <td>0</td>\n",
       "      <td>1</td>\n",
       "      <td>1</td>\n",
       "      <td>0</td>\n",
       "      <td>12</td>\n",
       "      <td>3</td>\n",
       "    </tr>\n",
       "    <tr>\n",
       "      <th>2</th>\n",
       "      <td>7.96</td>\n",
       "      <td>35</td>\n",
       "      <td>0</td>\n",
       "      <td>1</td>\n",
       "      <td>0</td>\n",
       "      <td>1</td>\n",
       "      <td>0</td>\n",
       "      <td>0</td>\n",
       "      <td>10</td>\n",
       "      <td>4</td>\n",
       "    </tr>\n",
       "    <tr>\n",
       "      <th>3</th>\n",
       "      <td>11.57</td>\n",
       "      <td>38</td>\n",
       "      <td>0</td>\n",
       "      <td>1</td>\n",
       "      <td>0</td>\n",
       "      <td>0</td>\n",
       "      <td>1</td>\n",
       "      <td>1</td>\n",
       "      <td>16</td>\n",
       "      <td>3</td>\n",
       "    </tr>\n",
       "    <tr>\n",
       "      <th>4</th>\n",
       "      <td>11.42</td>\n",
       "      <td>27</td>\n",
       "      <td>0</td>\n",
       "      <td>1</td>\n",
       "      <td>0</td>\n",
       "      <td>0</td>\n",
       "      <td>1</td>\n",
       "      <td>0</td>\n",
       "      <td>16</td>\n",
       "      <td>3</td>\n",
       "    </tr>\n",
       "  </tbody>\n",
       "</table>\n",
       "</div>"
      ],
      "text/plain": [
       "    wage  exper  union  goodhlth  black  female  married  service  educ  looks\n",
       "0   5.73     30      0         1      0       1        1        1    14      4\n",
       "1   4.28     28      0         1      0       1        1        0    12      3\n",
       "2   7.96     35      0         1      0       1        0        0    10      4\n",
       "3  11.57     38      0         1      0       0        1        1    16      3\n",
       "4  11.42     27      0         1      0       0        1        0    16      3"
      ]
     },
     "execution_count": 3,
     "metadata": {},
     "output_type": "execute_result"
    }
   ],
   "source": [
    "df.head()"
   ]
  },
  {
   "cell_type": "code",
   "execution_count": 5,
   "id": "016e10b5",
   "metadata": {},
   "outputs": [
    {
     "name": "stdout",
     "output_type": "stream",
     "text": [
      "<class 'pandas.core.frame.DataFrame'>\n",
      "RangeIndex: 1260 entries, 0 to 1259\n",
      "Data columns (total 10 columns):\n",
      " #   Column    Non-Null Count  Dtype  \n",
      "---  ------    --------------  -----  \n",
      " 0   wage      1260 non-null   float64\n",
      " 1   exper     1260 non-null   int64  \n",
      " 2   union     1260 non-null   int64  \n",
      " 3   goodhlth  1260 non-null   int64  \n",
      " 4   black     1260 non-null   int64  \n",
      " 5   female    1260 non-null   int64  \n",
      " 6   married   1260 non-null   int64  \n",
      " 7   service   1260 non-null   int64  \n",
      " 8   educ      1260 non-null   int64  \n",
      " 9   looks     1260 non-null   int64  \n",
      "dtypes: float64(1), int64(9)\n",
      "memory usage: 98.6 KB\n"
     ]
    }
   ],
   "source": [
    "df.info()"
   ]
  },
  {
   "cell_type": "code",
   "execution_count": 6,
   "id": "4e866708",
   "metadata": {},
   "outputs": [
    {
     "data": {
      "text/html": [
       "<div>\n",
       "<style scoped>\n",
       "    .dataframe tbody tr th:only-of-type {\n",
       "        vertical-align: middle;\n",
       "    }\n",
       "\n",
       "    .dataframe tbody tr th {\n",
       "        vertical-align: top;\n",
       "    }\n",
       "\n",
       "    .dataframe thead th {\n",
       "        text-align: right;\n",
       "    }\n",
       "</style>\n",
       "<table border=\"1\" class=\"dataframe\">\n",
       "  <thead>\n",
       "    <tr style=\"text-align: right;\">\n",
       "      <th></th>\n",
       "      <th>wage</th>\n",
       "      <th>exper</th>\n",
       "      <th>union</th>\n",
       "      <th>goodhlth</th>\n",
       "      <th>black</th>\n",
       "      <th>female</th>\n",
       "      <th>married</th>\n",
       "      <th>service</th>\n",
       "      <th>educ</th>\n",
       "      <th>looks</th>\n",
       "    </tr>\n",
       "  </thead>\n",
       "  <tbody>\n",
       "    <tr>\n",
       "      <th>count</th>\n",
       "      <td>1260.000000</td>\n",
       "      <td>1260.000000</td>\n",
       "      <td>1260.000000</td>\n",
       "      <td>1260.000000</td>\n",
       "      <td>1260.000000</td>\n",
       "      <td>1260.000000</td>\n",
       "      <td>1260.000000</td>\n",
       "      <td>1260.000000</td>\n",
       "      <td>1260.000000</td>\n",
       "      <td>1260.000000</td>\n",
       "    </tr>\n",
       "    <tr>\n",
       "      <th>mean</th>\n",
       "      <td>6.306690</td>\n",
       "      <td>18.206349</td>\n",
       "      <td>0.272222</td>\n",
       "      <td>0.933333</td>\n",
       "      <td>0.073810</td>\n",
       "      <td>0.346032</td>\n",
       "      <td>0.691270</td>\n",
       "      <td>0.273810</td>\n",
       "      <td>12.563492</td>\n",
       "      <td>3.185714</td>\n",
       "    </tr>\n",
       "    <tr>\n",
       "      <th>std</th>\n",
       "      <td>4.660639</td>\n",
       "      <td>11.963485</td>\n",
       "      <td>0.445280</td>\n",
       "      <td>0.249543</td>\n",
       "      <td>0.261564</td>\n",
       "      <td>0.475892</td>\n",
       "      <td>0.462153</td>\n",
       "      <td>0.446089</td>\n",
       "      <td>2.624489</td>\n",
       "      <td>0.684877</td>\n",
       "    </tr>\n",
       "    <tr>\n",
       "      <th>min</th>\n",
       "      <td>1.020000</td>\n",
       "      <td>0.000000</td>\n",
       "      <td>0.000000</td>\n",
       "      <td>0.000000</td>\n",
       "      <td>0.000000</td>\n",
       "      <td>0.000000</td>\n",
       "      <td>0.000000</td>\n",
       "      <td>0.000000</td>\n",
       "      <td>5.000000</td>\n",
       "      <td>1.000000</td>\n",
       "    </tr>\n",
       "    <tr>\n",
       "      <th>25%</th>\n",
       "      <td>3.707500</td>\n",
       "      <td>8.000000</td>\n",
       "      <td>0.000000</td>\n",
       "      <td>1.000000</td>\n",
       "      <td>0.000000</td>\n",
       "      <td>0.000000</td>\n",
       "      <td>0.000000</td>\n",
       "      <td>0.000000</td>\n",
       "      <td>12.000000</td>\n",
       "      <td>3.000000</td>\n",
       "    </tr>\n",
       "    <tr>\n",
       "      <th>50%</th>\n",
       "      <td>5.300000</td>\n",
       "      <td>15.000000</td>\n",
       "      <td>0.000000</td>\n",
       "      <td>1.000000</td>\n",
       "      <td>0.000000</td>\n",
       "      <td>0.000000</td>\n",
       "      <td>1.000000</td>\n",
       "      <td>0.000000</td>\n",
       "      <td>12.000000</td>\n",
       "      <td>3.000000</td>\n",
       "    </tr>\n",
       "    <tr>\n",
       "      <th>75%</th>\n",
       "      <td>7.695000</td>\n",
       "      <td>27.000000</td>\n",
       "      <td>1.000000</td>\n",
       "      <td>1.000000</td>\n",
       "      <td>0.000000</td>\n",
       "      <td>1.000000</td>\n",
       "      <td>1.000000</td>\n",
       "      <td>1.000000</td>\n",
       "      <td>13.000000</td>\n",
       "      <td>4.000000</td>\n",
       "    </tr>\n",
       "    <tr>\n",
       "      <th>max</th>\n",
       "      <td>77.720000</td>\n",
       "      <td>48.000000</td>\n",
       "      <td>1.000000</td>\n",
       "      <td>1.000000</td>\n",
       "      <td>1.000000</td>\n",
       "      <td>1.000000</td>\n",
       "      <td>1.000000</td>\n",
       "      <td>1.000000</td>\n",
       "      <td>17.000000</td>\n",
       "      <td>5.000000</td>\n",
       "    </tr>\n",
       "  </tbody>\n",
       "</table>\n",
       "</div>"
      ],
      "text/plain": [
       "              wage        exper        union     goodhlth        black  \\\n",
       "count  1260.000000  1260.000000  1260.000000  1260.000000  1260.000000   \n",
       "mean      6.306690    18.206349     0.272222     0.933333     0.073810   \n",
       "std       4.660639    11.963485     0.445280     0.249543     0.261564   \n",
       "min       1.020000     0.000000     0.000000     0.000000     0.000000   \n",
       "25%       3.707500     8.000000     0.000000     1.000000     0.000000   \n",
       "50%       5.300000    15.000000     0.000000     1.000000     0.000000   \n",
       "75%       7.695000    27.000000     1.000000     1.000000     0.000000   \n",
       "max      77.720000    48.000000     1.000000     1.000000     1.000000   \n",
       "\n",
       "            female      married      service         educ        looks  \n",
       "count  1260.000000  1260.000000  1260.000000  1260.000000  1260.000000  \n",
       "mean      0.346032     0.691270     0.273810    12.563492     3.185714  \n",
       "std       0.475892     0.462153     0.446089     2.624489     0.684877  \n",
       "min       0.000000     0.000000     0.000000     5.000000     1.000000  \n",
       "25%       0.000000     0.000000     0.000000    12.000000     3.000000  \n",
       "50%       0.000000     1.000000     0.000000    12.000000     3.000000  \n",
       "75%       1.000000     1.000000     1.000000    13.000000     4.000000  \n",
       "max       1.000000     1.000000     1.000000    17.000000     5.000000  "
      ]
     },
     "execution_count": 6,
     "metadata": {},
     "output_type": "execute_result"
    }
   ],
   "source": [
    "df.describe()"
   ]
  },
  {
   "cell_type": "markdown",
   "id": "41983073",
   "metadata": {},
   "source": [
    "Проведите однофакторный анализ\n",
    "А именно, исследуйте влияние каждого фактора в отдельности на красоту человека."
   ]
  },
  {
   "cell_type": "code",
   "execution_count": 9,
   "id": "569d1c28",
   "metadata": {},
   "outputs": [
    {
     "data": {
      "text/html": [
       "<div>\n",
       "<style scoped>\n",
       "    .dataframe tbody tr th:only-of-type {\n",
       "        vertical-align: middle;\n",
       "    }\n",
       "\n",
       "    .dataframe tbody tr th {\n",
       "        vertical-align: top;\n",
       "    }\n",
       "\n",
       "    .dataframe thead th {\n",
       "        text-align: right;\n",
       "    }\n",
       "</style>\n",
       "<table border=\"1\" class=\"dataframe\">\n",
       "  <thead>\n",
       "    <tr style=\"text-align: right;\">\n",
       "      <th></th>\n",
       "      <th>wage</th>\n",
       "      <th>exper</th>\n",
       "      <th>union</th>\n",
       "      <th>goodhlth</th>\n",
       "      <th>black</th>\n",
       "      <th>female</th>\n",
       "      <th>married</th>\n",
       "      <th>service</th>\n",
       "      <th>educ</th>\n",
       "      <th>looks</th>\n",
       "    </tr>\n",
       "  </thead>\n",
       "  <tbody>\n",
       "    <tr>\n",
       "      <th>wage</th>\n",
       "      <td>1.000000</td>\n",
       "      <td>0.234632</td>\n",
       "      <td>0.094529</td>\n",
       "      <td>0.006756</td>\n",
       "      <td>-0.059052</td>\n",
       "      <td>-0.313419</td>\n",
       "      <td>0.184521</td>\n",
       "      <td>-0.053653</td>\n",
       "      <td>0.212333</td>\n",
       "      <td>0.055019</td>\n",
       "    </tr>\n",
       "    <tr>\n",
       "      <th>exper</th>\n",
       "      <td>0.234632</td>\n",
       "      <td>1.000000</td>\n",
       "      <td>0.089792</td>\n",
       "      <td>-0.131609</td>\n",
       "      <td>0.007566</td>\n",
       "      <td>-0.247209</td>\n",
       "      <td>0.255607</td>\n",
       "      <td>-0.057328</td>\n",
       "      <td>-0.186200</td>\n",
       "      <td>-0.155035</td>\n",
       "    </tr>\n",
       "    <tr>\n",
       "      <th>union</th>\n",
       "      <td>0.094529</td>\n",
       "      <td>0.089792</td>\n",
       "      <td>1.000000</td>\n",
       "      <td>-0.022398</td>\n",
       "      <td>0.031939</td>\n",
       "      <td>-0.100037</td>\n",
       "      <td>0.053629</td>\n",
       "      <td>-0.103633</td>\n",
       "      <td>-0.096022</td>\n",
       "      <td>-0.043495</td>\n",
       "    </tr>\n",
       "    <tr>\n",
       "      <th>goodhlth</th>\n",
       "      <td>0.006756</td>\n",
       "      <td>-0.131609</td>\n",
       "      <td>-0.022398</td>\n",
       "      <td>1.000000</td>\n",
       "      <td>-0.034073</td>\n",
       "      <td>-0.039684</td>\n",
       "      <td>-0.013315</td>\n",
       "      <td>0.049947</td>\n",
       "      <td>0.107129</td>\n",
       "      <td>0.058558</td>\n",
       "    </tr>\n",
       "    <tr>\n",
       "      <th>black</th>\n",
       "      <td>-0.059052</td>\n",
       "      <td>0.007566</td>\n",
       "      <td>0.031939</td>\n",
       "      <td>-0.034073</td>\n",
       "      <td>1.000000</td>\n",
       "      <td>0.113703</td>\n",
       "      <td>-0.133306</td>\n",
       "      <td>0.017261</td>\n",
       "      <td>-0.138157</td>\n",
       "      <td>0.012098</td>\n",
       "    </tr>\n",
       "    <tr>\n",
       "      <th>female</th>\n",
       "      <td>-0.313419</td>\n",
       "      <td>-0.247209</td>\n",
       "      <td>-0.100037</td>\n",
       "      <td>-0.039684</td>\n",
       "      <td>0.113703</td>\n",
       "      <td>1.000000</td>\n",
       "      <td>-0.319228</td>\n",
       "      <td>0.267961</td>\n",
       "      <td>0.009105</td>\n",
       "      <td>0.017129</td>\n",
       "    </tr>\n",
       "    <tr>\n",
       "      <th>married</th>\n",
       "      <td>0.184521</td>\n",
       "      <td>0.255607</td>\n",
       "      <td>0.053629</td>\n",
       "      <td>-0.013315</td>\n",
       "      <td>-0.133306</td>\n",
       "      <td>-0.319228</td>\n",
       "      <td>1.000000</td>\n",
       "      <td>-0.075082</td>\n",
       "      <td>-0.047674</td>\n",
       "      <td>-0.064636</td>\n",
       "    </tr>\n",
       "    <tr>\n",
       "      <th>service</th>\n",
       "      <td>-0.053653</td>\n",
       "      <td>-0.057328</td>\n",
       "      <td>-0.103633</td>\n",
       "      <td>0.049947</td>\n",
       "      <td>0.017261</td>\n",
       "      <td>0.267961</td>\n",
       "      <td>-0.075082</td>\n",
       "      <td>1.000000</td>\n",
       "      <td>0.301628</td>\n",
       "      <td>0.010213</td>\n",
       "    </tr>\n",
       "    <tr>\n",
       "      <th>educ</th>\n",
       "      <td>0.212333</td>\n",
       "      <td>-0.186200</td>\n",
       "      <td>-0.096022</td>\n",
       "      <td>0.107129</td>\n",
       "      <td>-0.138157</td>\n",
       "      <td>0.009105</td>\n",
       "      <td>-0.047674</td>\n",
       "      <td>0.301628</td>\n",
       "      <td>1.000000</td>\n",
       "      <td>0.153842</td>\n",
       "    </tr>\n",
       "    <tr>\n",
       "      <th>looks</th>\n",
       "      <td>0.055019</td>\n",
       "      <td>-0.155035</td>\n",
       "      <td>-0.043495</td>\n",
       "      <td>0.058558</td>\n",
       "      <td>0.012098</td>\n",
       "      <td>0.017129</td>\n",
       "      <td>-0.064636</td>\n",
       "      <td>0.010213</td>\n",
       "      <td>0.153842</td>\n",
       "      <td>1.000000</td>\n",
       "    </tr>\n",
       "  </tbody>\n",
       "</table>\n",
       "</div>"
      ],
      "text/plain": [
       "              wage     exper     union  goodhlth     black    female  \\\n",
       "wage      1.000000  0.234632  0.094529  0.006756 -0.059052 -0.313419   \n",
       "exper     0.234632  1.000000  0.089792 -0.131609  0.007566 -0.247209   \n",
       "union     0.094529  0.089792  1.000000 -0.022398  0.031939 -0.100037   \n",
       "goodhlth  0.006756 -0.131609 -0.022398  1.000000 -0.034073 -0.039684   \n",
       "black    -0.059052  0.007566  0.031939 -0.034073  1.000000  0.113703   \n",
       "female   -0.313419 -0.247209 -0.100037 -0.039684  0.113703  1.000000   \n",
       "married   0.184521  0.255607  0.053629 -0.013315 -0.133306 -0.319228   \n",
       "service  -0.053653 -0.057328 -0.103633  0.049947  0.017261  0.267961   \n",
       "educ      0.212333 -0.186200 -0.096022  0.107129 -0.138157  0.009105   \n",
       "looks     0.055019 -0.155035 -0.043495  0.058558  0.012098  0.017129   \n",
       "\n",
       "           married   service      educ     looks  \n",
       "wage      0.184521 -0.053653  0.212333  0.055019  \n",
       "exper     0.255607 -0.057328 -0.186200 -0.155035  \n",
       "union     0.053629 -0.103633 -0.096022 -0.043495  \n",
       "goodhlth -0.013315  0.049947  0.107129  0.058558  \n",
       "black    -0.133306  0.017261 -0.138157  0.012098  \n",
       "female   -0.319228  0.267961  0.009105  0.017129  \n",
       "married   1.000000 -0.075082 -0.047674 -0.064636  \n",
       "service  -0.075082  1.000000  0.301628  0.010213  \n",
       "educ     -0.047674  0.301628  1.000000  0.153842  \n",
       "looks    -0.064636  0.010213  0.153842  1.000000  "
      ]
     },
     "execution_count": 9,
     "metadata": {},
     "output_type": "execute_result"
    }
   ],
   "source": [
    "df.corr()"
   ]
  },
  {
   "cell_type": "code",
   "execution_count": 35,
   "id": "6add65cc",
   "metadata": {},
   "outputs": [
    {
     "data": {
      "text/plain": [
       "<AxesSubplot:>"
      ]
     },
     "execution_count": 35,
     "metadata": {},
     "output_type": "execute_result"
    },
    {
     "data": {
      "image/png": "[encoded data removed]",
      "text/plain": [
       "<Figure size 720x432 with 2 Axes>"
      ]
     },
     "metadata": {
      "needs_background": "light"
     },
     "output_type": "display_data"
    }
   ],
   "source": [
    "plt.figure(figsize=(10,6))\n",
    "sns.heatmap(df.corr(), annot=True,cmap=\"YlGnBu\")"
   ]
  },
  {
   "cell_type": "markdown",
   "id": "a6d52c6a",
   "metadata": {},
   "source": [
    "Из таблицы корреляции можно заметить, что графа \"красота\" почти не имеет связи с другими признаками. Максимальные значения для коэффициента корреляции -0.16 (\"exper\") и 0.15 (\"education\")"
   ]
  },
  {
   "cell_type": "code",
   "execution_count": 22,
   "id": "643c08bb",
   "metadata": {},
   "outputs": [
    {
     "data": {
      "text/plain": [
       "<AxesSubplot:>"
      ]
     },
     "execution_count": 22,
     "metadata": {},
     "output_type": "execute_result"
    },
    {
     "data": {
      "image/png": "[encoded data removed]",
      "text/plain": [
       "<Figure size 432x288 with 1 Axes>"
      ]
     },
     "metadata": {
      "needs_background": "light"
     },
     "output_type": "display_data"
    }
   ],
   "source": [
    "# Построим гистограмму распределения оценок красоты человека\n",
    "\n",
    "df[\"looks\"].value_counts().sort_values(ascending=False).plot.bar()\n"
   ]
  },
  {
   "cell_type": "markdown",
   "id": "cef9637b",
   "metadata": {},
   "source": [
    "Большинство поставленных оценок - 3.0, что является средним оценки красоты. Почти в 2 раза меньше оценок красоты 4.0. Значения 1.0 и 5.0 встречаются крайне редко."
   ]
  },
  {
   "cell_type": "code",
   "execution_count": 14,
   "id": "223fa734",
   "metadata": {},
   "outputs": [],
   "source": [
    "# Рассмотрим,как влияют разные факторы на красоту:\n",
    "# wage - зарплата\n",
    "# exper - \n",
    "# union - \n",
    "# goodhlth - здоровье\n",
    "# black - \n",
    "# female - пол\n",
    "# married - семейное положение\n",
    "# service - \n",
    "# educ - образование"
   ]
  },
  {
   "cell_type": "code",
   "execution_count": 21,
   "id": "59794469",
   "metadata": {},
   "outputs": [
    {
     "data": {
      "image/png": "[encoded data removed]",
      "text/plain": [
       "<Figure size 936x432 with 1 Axes>"
      ]
     },
     "metadata": {
      "needs_background": "light"
     },
     "output_type": "display_data"
    },
    {
     "data": {
      "image/png": "[encoded data removed]",
      "text/plain": [
       "<Figure size 432x288 with 1 Axes>"
      ]
     },
     "metadata": {
      "needs_background": "light"
     },
     "output_type": "display_data"
    },
    {
     "data": {
      "image/png": "[encoded data removed]",
      "text/plain": [
       "<Figure size 432x288 with 1 Axes>"
      ]
     },
     "metadata": {
      "needs_background": "light"
     },
     "output_type": "display_data"
    },
    {
     "data": {
      "image/png": "[encoded data removed]",
      "text/plain": [
       "<Figure size 432x288 with 1 Axes>"
      ]
     },
     "metadata": {
      "needs_background": "light"
     },
     "output_type": "display_data"
    },
    {
     "data": {
      "image/png": "[encoded data removed]",
      "text/plain": [
       "<Figure size 432x288 with 1 Axes>"
      ]
     },
     "metadata": {
      "needs_background": "light"
     },
     "output_type": "display_data"
    },
    {
     "data": {
      "image/png": "[encoded data removed]",
      "text/plain": [
       "<Figure size 432x288 with 1 Axes>"
      ]
     },
     "metadata": {
      "needs_background": "light"
     },
     "output_type": "display_data"
    },
    {
     "data": {
      "image/png": "[encoded data removed]",
      "text/plain": [
       "<Figure size 432x288 with 1 Axes>"
      ]
     },
     "metadata": {
      "needs_background": "light"
     },
     "output_type": "display_data"
    },
    {
     "data": {
      "image/png": "[encoded data removed]",
      "text/plain": [
       "<Figure size 432x288 with 1 Axes>"
      ]
     },
     "metadata": {
      "needs_background": "light"
     },
     "output_type": "display_data"
    },
    {
     "data": {
      "image/png": "[encoded data removed]",
      "text/plain": [
       "<Figure size 432x288 with 1 Axes>"
      ]
     },
     "metadata": {
      "needs_background": "light"
     },
     "output_type": "display_data"
    }
   ],
   "source": [
    "plt.figure(figsize=(13,6))\n",
    "sns.barplot(x='looks',y='wage',data=df, palette='spring')\n",
    "plt.title('WAGE')\n",
    "plt.show()\n",
    "\n",
    "sns.barplot(x='looks',y='exper',data=df, palette='spring')\n",
    "plt.title('EXPER')\n",
    "plt.show()\n",
    "\n",
    "sns.barplot(x='looks',y='union',data=df, palette='spring')\n",
    "plt.title('UNION')\n",
    "plt.show()\n",
    "\n",
    "sns.barplot(x='looks',y='goodhlth',data=df, palette='spring')\n",
    "plt.title('GOODHLTH')\n",
    "plt.show()\n",
    "\n",
    "sns.barplot(x='looks',y='black',data=df, palette='spring')\n",
    "plt.title('BLACK')\n",
    "plt.show()\n",
    "\n",
    "sns.barplot(x='looks',y='female',data=df, palette='spring')\n",
    "plt.title('FEMALE')\n",
    "plt.show()\n",
    "\n",
    "sns.barplot(x='looks',y='married',data=df, palette='spring')\n",
    "plt.title('MARRIED')\n",
    "plt.show()\n",
    "\n",
    "sns.barplot(x='looks',y='service',data=df, palette='spring')\n",
    "plt.title('SERVICE')\n",
    "plt.show()\n",
    "\n",
    "sns.barplot(x='looks',y='educ',data=df, palette='spring')\n",
    "plt.title('EDUC')\n",
    "plt.show()"
   ]
  },
  {
   "cell_type": "code",
   "execution_count": 25,
   "id": "0cec0467",
   "metadata": {},
   "outputs": [
    {
     "data": {
      "text/plain": [
       "<AxesSubplot:xlabel='looks', ylabel='wage'>"
      ]
     },
     "execution_count": 25,
     "metadata": {},
     "output_type": "execute_result"
    },
    {
     "data": {
      "image/png": "[encoded data removed]",
      "text/plain": [
       "<Figure size 432x288 with 1 Axes>"
      ]
     },
     "metadata": {
      "needs_background": "light"
     },
     "output_type": "display_data"
    }
   ],
   "source": [
    "sns.regplot(x=\"looks\",y=\"wage\", data = df)"
   ]
  },
  {
   "cell_type": "markdown",
   "id": "67a758b4",
   "metadata": {},
   "source": [
    "Машинное обучение\n",
    "Проверьте, что все категориальные признаки имеют ровно два значения. Переведите эти признаки в числовые следующим образом: одно значение (любое) замените на 0, а другое на 1.\n",
    "\n",
    "Разбейте данные на train и test.\n",
    "\n",
    "Обучите несколько алгоритмов классификации на полученных данных и выведите на экран качество (accuracy) каждого алгоритма на train и test."
   ]
  },
  {
   "cell_type": "code",
   "execution_count": 43,
   "id": "84fcbefd",
   "metadata": {
    "ExecuteTime": {
     "end_time": "2021-09-03T19:03:14.797270Z",
     "start_time": "2021-09-03T19:03:14.794663Z"
    }
   },
   "outputs": [
    {
     "name": "stdout",
     "output_type": "stream",
     "text": [
      "[0 1]\n",
      "[1 0]\n",
      "[0 1]\n",
      "[1 0]\n",
      "[1 0]\n",
      "[1 0]\n"
     ]
    }
   ],
   "source": [
    "print(df['union'].unique())\n",
    "print(df['goodhlth'].unique())\n",
    "print(df['black'].unique())\n",
    "print(df['female'].unique())\n",
    "print(df['married'].unique())\n",
    "print(df['service'].unique())"
   ]
  },
  {
   "cell_type": "markdown",
   "id": "0c502fb9",
   "metadata": {},
   "source": [
    "Все категориальные данные уже числовые"
   ]
  },
  {
   "cell_type": "code",
   "execution_count": 75,
   "id": "036fdb7c",
   "metadata": {},
   "outputs": [],
   "source": [
    "X = df[['union', 'goodhlth', 'black', 'female', 'married', 'service']]\n",
    "y = df['looks']"
   ]
  },
  {
   "cell_type": "code",
   "execution_count": 76,
   "id": "ccd79531",
   "metadata": {},
   "outputs": [],
   "source": [
    "# Разделение данных на train и test\n",
    "from sklearn.model_selection import train_test_split\n",
    "\n",
    "X_train, X_test, y_train, y_test = train_test_split(X, y, test_size=0.3)"
   ]
  },
  {
   "cell_type": "code",
   "execution_count": 78,
   "id": "63f7d063",
   "metadata": {},
   "outputs": [
    {
     "data": {
      "text/plain": [
       "((882, 6), (882,), (378, 6), (378,))"
      ]
     },
     "execution_count": 78,
     "metadata": {},
     "output_type": "execute_result"
    }
   ],
   "source": [
    "# Размеры \n",
    "X_train.shape, y_train.shape, X_test.shape, y_test.shape"
   ]
  },
  {
   "cell_type": "code",
   "execution_count": 77,
   "id": "beea1c05",
   "metadata": {},
   "outputs": [],
   "source": [
    "# Алгоритм обучения - LogisticRegression\n",
    "from sklearn.linear_model import LogisticRegression \n",
    "\n",
    "model = LogisticRegression()\n",
    "model.fit(X_train, y_train)\n",
    "\n",
    "prediction = model.predict(X_test)"
   ]
  },
  {
   "cell_type": "code",
   "execution_count": 79,
   "id": "d10ec6cc",
   "metadata": {},
   "outputs": [
    {
     "name": "stdout",
     "output_type": "stream",
     "text": [
      "0.5476190476190477\n"
     ]
    }
   ],
   "source": [
    "from sklearn.metrics import accuracy_score\n",
    "\n",
    "print(accuracy_score(y_test, prediction))"
   ]
  },
  {
   "cell_type": "code",
   "execution_count": 80,
   "id": "9c404100",
   "metadata": {},
   "outputs": [
    {
     "name": "stdout",
     "output_type": "stream",
     "text": [
      "0.5839002267573696\n"
     ]
    }
   ],
   "source": [
    "prediction_train = model.predict(X_train) #делаем предсказание на тренировочных данных\n",
    "print(accuracy_score(y_train, prediction_train))"
   ]
  },
  {
   "cell_type": "code",
   "execution_count": null,
   "id": "b3858ba8",
   "metadata": {},
   "outputs": [],
   "source": []
  },
  {
   "cell_type": "code",
   "execution_count": 81,
   "id": "a76df0ff",
   "metadata": {},
   "outputs": [],
   "source": [
    "from sklearn.svm import LinearSVC "
   ]
  },
  {
   "cell_type": "code",
   "execution_count": 84,
   "id": "29528220",
   "metadata": {},
   "outputs": [],
   "source": [
    "model = LinearSVC()\n",
    "model.fit(X_train, y_train)\n",
    "\n",
    "prediction = model.predict(X_test)"
   ]
  },
  {
   "cell_type": "code",
   "execution_count": 85,
   "id": "0ad120a3",
   "metadata": {},
   "outputs": [
    {
     "name": "stdout",
     "output_type": "stream",
     "text": [
      "0.5476190476190477\n"
     ]
    }
   ],
   "source": [
    "print(accuracy_score(y_test, prediction))"
   ]
  },
  {
   "cell_type": "code",
   "execution_count": 86,
   "id": "029740de",
   "metadata": {},
   "outputs": [
    {
     "name": "stdout",
     "output_type": "stream",
     "text": [
      "0.5839002267573696\n"
     ]
    }
   ],
   "source": [
    "prediction_train = model.predict(X_train) #делаем предсказание на тренировочных данных\n",
    "print(accuracy_score(y_train, prediction_train))"
   ]
  },
  {
   "cell_type": "code",
   "execution_count": null,
   "id": "fddb1a68",
   "metadata": {},
   "outputs": [],
   "source": []
  },
  {
   "cell_type": "code",
   "execution_count": 73,
   "id": "a898a3f6",
   "metadata": {},
   "outputs": [],
   "source": [
    "from sklearn.tree import DecisionTreeClassifier"
   ]
  },
  {
   "cell_type": "code",
   "execution_count": 87,
   "id": "090b157a",
   "metadata": {},
   "outputs": [],
   "source": [
    "model = DecisionTreeClassifier()\n",
    "model.fit(X_train, y_train)\n",
    "\n",
    "prediction = model.predict(X_test)"
   ]
  },
  {
   "cell_type": "code",
   "execution_count": 88,
   "id": "0e6449dd",
   "metadata": {},
   "outputs": [
    {
     "name": "stdout",
     "output_type": "stream",
     "text": [
      "0.5238095238095238\n"
     ]
    }
   ],
   "source": [
    "print(accuracy_score(y_test, prediction))"
   ]
  },
  {
   "cell_type": "code",
   "execution_count": 89,
   "id": "11063d04",
   "metadata": {},
   "outputs": [
    {
     "name": "stdout",
     "output_type": "stream",
     "text": [
      "0.5895691609977324\n"
     ]
    }
   ],
   "source": [
    "prediction_train = model.predict(X_train) #делаем предсказание на тренировочных данных\n",
    "print(accuracy_score(y_train, prediction_train))"
   ]
  },
  {
   "cell_type": "code",
   "execution_count": null,
   "id": "f3f0ff57",
   "metadata": {},
   "outputs": [],
   "source": []
  },
  {
   "cell_type": "code",
   "execution_count": 74,
   "id": "dd74afe5",
   "metadata": {},
   "outputs": [],
   "source": [
    "from sklearn.ensemble import RandomForestClassifier"
   ]
  },
  {
   "cell_type": "code",
   "execution_count": 90,
   "id": "c9d7a531",
   "metadata": {},
   "outputs": [],
   "source": [
    "model = RandomForestClassifier()\n",
    "model.fit(X_train, y_train)\n",
    "\n",
    "prediction = model.predict(X_test)"
   ]
  },
  {
   "cell_type": "code",
   "execution_count": 91,
   "id": "a2d29293",
   "metadata": {},
   "outputs": [
    {
     "name": "stdout",
     "output_type": "stream",
     "text": [
      "0.5317460317460317\n"
     ]
    }
   ],
   "source": [
    "print(accuracy_score(y_test, prediction))"
   ]
  },
  {
   "cell_type": "code",
   "execution_count": 92,
   "id": "3f0879aa",
   "metadata": {},
   "outputs": [
    {
     "name": "stdout",
     "output_type": "stream",
     "text": [
      "0.5895691609977324\n"
     ]
    }
   ],
   "source": [
    "prediction_train = model.predict(X_train) #делаем предсказание на тренировочных данных\n",
    "print(accuracy_score(y_train, prediction_train))"
   ]
  },
  {
   "cell_type": "markdown",
   "id": "972181bd",
   "metadata": {},
   "source": [
    "Алгоритмы, которые вы можете попробовать\n",
    "\n",
    "from sklearn.linear_model import LogisticRegression\n",
    "from sklearn.svm import LinearSVC\n",
    "from sklearn.tree import DecisionTreeClassifier\n",
    "from sklearn.ensemble import RandomForestClassifier\n",
    "\n",
    "model = LogisticRegression() #LinearSVC() и т.д."
   ]
  },
  {
   "cell_type": "markdown",
   "id": "d00b87a2",
   "metadata": {},
   "source": [
    "Сделайте выводы\n",
    "\n",
    "\n",
    "Какой или какие факторы сильнее всего влияют на красоту человека?\n",
    "\n",
    "Какой алгоритм сработал лучше всего?\n",
    "\n",
    "Какой алгоритм больше всего переобучился? (качество на test гораздо ниже, чем качество на train, при этом качество на train достаточно высокое; качество сильно меняется при различных разбиениях на train и test).\n"
   ]
  },
  {
   "cell_type": "markdown",
   "id": "90d58eb5",
   "metadata": {
    "ExecuteTime": {
     "end_time": "2021-09-03T19:04:09.617044Z",
     "start_time": "2021-09-03T19:04:09.614010Z"
    }
   },
   "source": [
    "Были опробованы 4 алгоритма, при этом качество довольно низкое как для train, так и для test. График heatmap показал низкое значение корреляции со всеми признаками.\n",
    "\n",
    "Исходная гистограмма также показывает небольшой разброс в оценке красоты. Преимущественно все получили оценку 3.0."
   ]
  },
  {
   "cell_type": "code",
   "execution_count": null,
   "id": "c55aeb3d",
   "metadata": {},
   "outputs": [],
   "source": []
  }
 ],
 "metadata": {
  "kernelspec": {
   "display_name": "Python 3",
   "language": "python",
   "name": "python3"
  },
  "language_info": {
   "codemirror_mode": {
    "name": "ipython",
    "version": 3
   },
   "file_extension": ".py",
   "mimetype": "text/x-python",
   "name": "python",
   "nbconvert_exporter": "python",
   "pygments_lexer": "ipython3",
   "version": "3.8.5"
  }
 },
 "nbformat": 4,
 "nbformat_minor": 5
}
