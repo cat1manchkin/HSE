{
 "cells": [
  {
   "cell_type": "code",
   "execution_count": 1,
   "metadata": {
    "ExecuteTime": {
     "end_time": "2021-11-13T14:50:58.752248Z",
     "start_time": "2021-11-13T14:50:58.354288Z"
    }
   },
   "outputs": [
    {
     "name": "stdout",
     "output_type": "stream",
     "text": [
      "0.26.1\n",
      "Python 3.7.10\r\n"
     ]
    }
   ],
   "source": [
    "import catboost\n",
    "print(catboost.__version__)\n",
    "!python --version"
   ]
  },
  {
   "cell_type": "markdown",
   "metadata": {},
   "source": [
    "# Считываем данные"
   ]
  },
  {
   "cell_type": "code",
   "execution_count": 2,
   "metadata": {
    "ExecuteTime": {
     "end_time": "2021-11-13T14:51:01.688004Z",
     "start_time": "2021-11-13T14:51:01.682990Z"
    }
   },
   "outputs": [],
   "source": [
    "import pandas as pd\n",
    "import os\n",
    "import numpy as np\n",
    "np.set_printoptions(precision=4)\n",
    "import catboost\n",
    "from catboost import *\n",
    "from catboost import datasets"
   ]
  },
  {
   "cell_type": "markdown",
   "metadata": {},
   "source": [
    "https://www.kaggle.com/c/amazon-employee-access-challenge/data"
   ]
  },
  {
   "cell_type": "code",
   "execution_count": 3,
   "metadata": {
    "ExecuteTime": {
     "end_time": "2021-11-13T14:51:05.780591Z",
     "start_time": "2021-11-13T14:51:05.714035Z"
    }
   },
   "outputs": [],
   "source": [
    "train_df = pd.read_csv('train amazon.csv')\n",
    "test_df = pd.read_csv('test_amazon.csv')"
   ]
  },
  {
   "cell_type": "code",
   "execution_count": 4,
   "metadata": {
    "ExecuteTime": {
     "end_time": "2021-11-13T14:51:06.555679Z",
     "start_time": "2021-11-13T14:51:06.542453Z"
    }
   },
   "outputs": [
    {
     "data": {
      "text/html": [
       "<div>\n",
       "<style scoped>\n",
       "    .dataframe tbody tr th:only-of-type {\n",
       "        vertical-align: middle;\n",
       "    }\n",
       "\n",
       "    .dataframe tbody tr th {\n",
       "        vertical-align: top;\n",
       "    }\n",
       "\n",
       "    .dataframe thead th {\n",
       "        text-align: right;\n",
       "    }\n",
       "</style>\n",
       "<table border=\"1\" class=\"dataframe\">\n",
       "  <thead>\n",
       "    <tr style=\"text-align: right;\">\n",
       "      <th></th>\n",
       "      <th>ACTION</th>\n",
       "      <th>RESOURCE</th>\n",
       "      <th>MGR_ID</th>\n",
       "      <th>ROLE_ROLLUP_1</th>\n",
       "      <th>ROLE_ROLLUP_2</th>\n",
       "      <th>ROLE_DEPTNAME</th>\n",
       "      <th>ROLE_TITLE</th>\n",
       "      <th>ROLE_FAMILY_DESC</th>\n",
       "      <th>ROLE_FAMILY</th>\n",
       "      <th>ROLE_CODE</th>\n",
       "    </tr>\n",
       "  </thead>\n",
       "  <tbody>\n",
       "    <tr>\n",
       "      <th>0</th>\n",
       "      <td>1</td>\n",
       "      <td>39353</td>\n",
       "      <td>85475</td>\n",
       "      <td>117961</td>\n",
       "      <td>118300</td>\n",
       "      <td>123472</td>\n",
       "      <td>117905</td>\n",
       "      <td>117906</td>\n",
       "      <td>290919</td>\n",
       "      <td>117908</td>\n",
       "    </tr>\n",
       "    <tr>\n",
       "      <th>1</th>\n",
       "      <td>1</td>\n",
       "      <td>17183</td>\n",
       "      <td>1540</td>\n",
       "      <td>117961</td>\n",
       "      <td>118343</td>\n",
       "      <td>123125</td>\n",
       "      <td>118536</td>\n",
       "      <td>118536</td>\n",
       "      <td>308574</td>\n",
       "      <td>118539</td>\n",
       "    </tr>\n",
       "    <tr>\n",
       "      <th>2</th>\n",
       "      <td>1</td>\n",
       "      <td>36724</td>\n",
       "      <td>14457</td>\n",
       "      <td>118219</td>\n",
       "      <td>118220</td>\n",
       "      <td>117884</td>\n",
       "      <td>117879</td>\n",
       "      <td>267952</td>\n",
       "      <td>19721</td>\n",
       "      <td>117880</td>\n",
       "    </tr>\n",
       "    <tr>\n",
       "      <th>3</th>\n",
       "      <td>1</td>\n",
       "      <td>36135</td>\n",
       "      <td>5396</td>\n",
       "      <td>117961</td>\n",
       "      <td>118343</td>\n",
       "      <td>119993</td>\n",
       "      <td>118321</td>\n",
       "      <td>240983</td>\n",
       "      <td>290919</td>\n",
       "      <td>118322</td>\n",
       "    </tr>\n",
       "    <tr>\n",
       "      <th>4</th>\n",
       "      <td>1</td>\n",
       "      <td>42680</td>\n",
       "      <td>5905</td>\n",
       "      <td>117929</td>\n",
       "      <td>117930</td>\n",
       "      <td>119569</td>\n",
       "      <td>119323</td>\n",
       "      <td>123932</td>\n",
       "      <td>19793</td>\n",
       "      <td>119325</td>\n",
       "    </tr>\n",
       "  </tbody>\n",
       "</table>\n",
       "</div>"
      ],
      "text/plain": [
       "   ACTION  RESOURCE  MGR_ID  ROLE_ROLLUP_1  ROLE_ROLLUP_2  ROLE_DEPTNAME  \\\n",
       "0       1     39353   85475         117961         118300         123472   \n",
       "1       1     17183    1540         117961         118343         123125   \n",
       "2       1     36724   14457         118219         118220         117884   \n",
       "3       1     36135    5396         117961         118343         119993   \n",
       "4       1     42680    5905         117929         117930         119569   \n",
       "\n",
       "   ROLE_TITLE  ROLE_FAMILY_DESC  ROLE_FAMILY  ROLE_CODE  \n",
       "0      117905            117906       290919     117908  \n",
       "1      118536            118536       308574     118539  \n",
       "2      117879            267952        19721     117880  \n",
       "3      118321            240983       290919     118322  \n",
       "4      119323            123932        19793     119325  "
      ]
     },
     "execution_count": 4,
     "metadata": {},
     "output_type": "execute_result"
    }
   ],
   "source": [
    "train_df.head()"
   ]
  },
  {
   "cell_type": "markdown",
   "metadata": {},
   "source": [
    "# Подготовка данных"
   ]
  },
  {
   "cell_type": "code",
   "execution_count": 5,
   "metadata": {
    "ExecuteTime": {
     "end_time": "2021-11-13T14:51:14.777943Z",
     "start_time": "2021-11-13T14:51:14.773915Z"
    }
   },
   "outputs": [],
   "source": [
    "y = train_df.ACTION\n",
    "X = train_df.drop('ACTION', axis=1)"
   ]
  },
  {
   "cell_type": "code",
   "execution_count": 6,
   "metadata": {
    "ExecuteTime": {
     "end_time": "2021-11-13T14:51:21.675134Z",
     "start_time": "2021-11-13T14:51:21.672346Z"
    }
   },
   "outputs": [
    {
     "name": "stdout",
     "output_type": "stream",
     "text": [
      "[0, 1, 2, 3, 4, 5, 6, 7, 8]\n"
     ]
    }
   ],
   "source": [
    "cat_features = list(range(0, X.shape[1]))\n",
    "print(cat_features)"
   ]
  },
  {
   "cell_type": "code",
   "execution_count": 7,
   "metadata": {
    "ExecuteTime": {
     "end_time": "2021-11-13T14:51:35.500889Z",
     "start_time": "2021-11-13T14:51:35.492054Z"
    }
   },
   "outputs": [
    {
     "name": "stdout",
     "output_type": "stream",
     "text": [
      "Labels: {0, 1}\n",
      "Zero count = 1897, One count = 30872\n"
     ]
    }
   ],
   "source": [
    "print('Labels: {}'.format(set(y)))\n",
    "print('Zero count = {}, One count = {}'.format(len(y) - sum(y), sum(y)))"
   ]
  },
  {
   "cell_type": "code",
   "execution_count": 8,
   "metadata": {
    "ExecuteTime": {
     "end_time": "2021-11-13T14:51:49.177465Z",
     "start_time": "2021-11-13T14:51:48.733376Z"
    }
   },
   "outputs": [],
   "source": [
    "dataset_dir = './amazon'\n",
    "if not os.path.exists(dataset_dir):\n",
    "    os.makedirs(dataset_dir)\n",
    "\n",
    "# We will be able to work with files with/without header and\n",
    "# with different separators.\n",
    "train_df.to_csv(\n",
    "    os.path.join(dataset_dir, 'train.tsv'),\n",
    "    index=False, sep='\\t', header=False\n",
    ")\n",
    "test_df.to_csv(\n",
    "    os.path.join(dataset_dir, 'test.tsv'),\n",
    "    index=False, sep='\\t', header=False\n",
    ")\n",
    "\n",
    "train_df.to_csv(\n",
    "    os.path.join(dataset_dir, 'train.csv'),\n",
    "    index=False, sep=',', header=True\n",
    ")\n",
    "test_df.to_csv(\n",
    "    os.path.join(dataset_dir, 'test.csv'),\n",
    "    index=False, sep=',', header=True\n",
    ")"
   ]
  },
  {
   "cell_type": "code",
   "execution_count": 9,
   "metadata": {
    "ExecuteTime": {
     "end_time": "2021-11-13T14:51:55.315085Z",
     "start_time": "2021-11-13T14:51:55.000984Z"
    }
   },
   "outputs": [],
   "source": [
    "from sklearn.model_selection import train_test_split\n",
    "X_train, X_validation, y_train, y_validation = train_test_split(X, y, train_size=0.8, random_state=1234)"
   ]
  },
  {
   "cell_type": "markdown",
   "metadata": {},
   "source": [
    "# Обучение"
   ]
  },
  {
   "cell_type": "code",
   "execution_count": null,
   "metadata": {
    "ExecuteTime": {
     "start_time": "2021-11-13T14:52:14.694Z"
    }
   },
   "outputs": [],
   "source": [
    "from catboost import CatBoostClassifier\n",
    "model = CatBoostClassifier(\n",
    "    iterations=5,\n",
    "    learning_rate=0.1,\n",
    "    # loss_function='CrossEntropy'\n",
    ")\n",
    "model.fit(\n",
    "    X_train, y_train,\n",
    "    cat_features=cat_features,\n",
    "    eval_set=(X_validation, y_validation),\n",
    "    verbose=False\n",
    ")\n",
    "print('Model is fitted: ' + str(model.is_fitted()))\n",
    "print('Model params:')\n",
    "print(model.get_params())"
   ]
  },
  {
   "cell_type": "markdown",
   "metadata": {},
   "source": [
    "# Печать результатов обучения"
   ]
  },
  {
   "cell_type": "code",
   "execution_count": 11,
   "metadata": {
    "ExecuteTime": {
     "end_time": "2021-11-13T10:34:08.375165Z",
     "start_time": "2021-11-13T10:34:07.846812Z"
    }
   },
   "outputs": [
    {
     "name": "stdout",
     "output_type": "stream",
     "text": [
      "Learning rate set to 0.441257\n",
      "0:\tlearn: 0.4220777\ttest: 0.4223741\tbest: 0.4223741 (0)\ttotal: 17.5ms\tremaining: 245ms\n",
      "1:\tlearn: 0.3149660\ttest: 0.3151186\tbest: 0.3151186 (1)\ttotal: 34ms\tremaining: 221ms\n",
      "2:\tlearn: 0.2621494\ttest: 0.2629766\tbest: 0.2629766 (2)\ttotal: 46.2ms\tremaining: 185ms\n",
      "3:\tlearn: 0.2302316\ttest: 0.2302315\tbest: 0.2302315 (3)\ttotal: 65.9ms\tremaining: 181ms\n",
      "4:\tlearn: 0.2060274\ttest: 0.2019603\tbest: 0.2019603 (4)\ttotal: 81.8ms\tremaining: 164ms\n",
      "5:\tlearn: 0.1956107\ttest: 0.1894627\tbest: 0.1894627 (5)\ttotal: 93.6ms\tremaining: 140ms\n",
      "6:\tlearn: 0.1870345\ttest: 0.1790904\tbest: 0.1790904 (6)\ttotal: 106ms\tremaining: 122ms\n",
      "7:\tlearn: 0.1836943\ttest: 0.1748030\tbest: 0.1748030 (7)\ttotal: 116ms\tremaining: 102ms\n",
      "8:\tlearn: 0.1807119\ttest: 0.1707896\tbest: 0.1707896 (8)\ttotal: 127ms\tremaining: 84.9ms\n",
      "9:\tlearn: 0.1775777\ttest: 0.1662489\tbest: 0.1662489 (9)\ttotal: 143ms\tremaining: 71.5ms\n",
      "10:\tlearn: 0.1762130\ttest: 0.1654446\tbest: 0.1654446 (10)\ttotal: 156ms\tremaining: 56.7ms\n",
      "11:\tlearn: 0.1760650\ttest: 0.1653191\tbest: 0.1653191 (11)\ttotal: 161ms\tremaining: 40.2ms\n",
      "12:\tlearn: 0.1748232\ttest: 0.1642093\tbest: 0.1642093 (12)\ttotal: 172ms\tremaining: 26.4ms\n",
      "13:\tlearn: 0.1742028\ttest: 0.1638902\tbest: 0.1638902 (13)\ttotal: 182ms\tremaining: 13ms\n",
      "14:\tlearn: 0.1733966\ttest: 0.1627237\tbest: 0.1627237 (14)\ttotal: 193ms\tremaining: 0us\n",
      "\n",
      "bestTest = 0.162723674\n",
      "bestIteration = 14\n",
      "\n"
     ]
    },
    {
     "data": {
      "text/plain": [
       "<catboost.core.CatBoostClassifier at 0x7fcea05c5ba8>"
      ]
     },
     "execution_count": 11,
     "metadata": {},
     "output_type": "execute_result"
    }
   ],
   "source": [
    "from catboost import CatBoostClassifier\n",
    "model = CatBoostClassifier(\n",
    "    iterations=15,\n",
    "#     verbose=5,\n",
    ")\n",
    "model.fit(\n",
    "    X_train, y_train,\n",
    "    cat_features=cat_features,\n",
    "    eval_set=(X_validation, y_validation),\n",
    ")"
   ]
  },
  {
   "cell_type": "markdown",
   "metadata": {},
   "source": [
    "# Вычисление метрик и визуализация"
   ]
  },
  {
   "cell_type": "code",
   "execution_count": 12,
   "metadata": {
    "ExecuteTime": {
     "end_time": "2021-11-13T10:34:15.221052Z",
     "start_time": "2021-11-13T10:34:14.416383Z"
    }
   },
   "outputs": [
    {
     "name": "stdout",
     "output_type": "stream",
     "text": [
      "Populating the interactive namespace from numpy and matplotlib\n"
     ]
    },
    {
     "name": "stderr",
     "output_type": "stream",
     "text": [
      "/data/home/irsafilo/course/shad/venv/lib/python3.7/site-packages/IPython/core/magics/pylab.py:160: UserWarning: pylab import has clobbered these variables: ['plt']\n",
      "`%matplotlib` prevents importing * from pylab and numpy\n",
      "  \"\\n`%matplotlib` prevents importing * from pylab and numpy\"\n"
     ]
    },
    {
     "data": {
      "application/vnd.jupyter.widget-view+json": {
       "model_id": "9e7daa38b0084343acba1827e791fe61",
       "version_major": 2,
       "version_minor": 0
      },
      "text/plain": [
       "MetricVisualizer(layout=Layout(align_self='stretch', height='500px'))"
      ]
     },
     "metadata": {},
     "output_type": "display_data"
    },
    {
     "data": {
      "text/plain": [
       "<catboost.core.CatBoostClassifier at 0x7fcdd8179cc0>"
      ]
     },
     "execution_count": 12,
     "metadata": {},
     "output_type": "execute_result"
    }
   ],
   "source": [
    "from matplotlib import pylab as plt\n",
    "%pylab inline\n",
    "\n",
    "from catboost import CatBoostClassifier\n",
    "model = CatBoostClassifier(\n",
    "    iterations=10,\n",
    "    random_seed=63,\n",
    "    learning_rate=0.5,\n",
    "    custom_loss=['AUC', 'Accuracy']\n",
    ")\n",
    "model.fit(\n",
    "    X_train, y_train,\n",
    "    cat_features=cat_features,\n",
    "    eval_set=(X_validation, y_validation),\n",
    "    verbose=False,\n",
    "    plot=True\n",
    ")"
   ]
  },
  {
   "cell_type": "markdown",
   "metadata": {},
   "source": [
    "# Сравнение моделей"
   ]
  },
  {
   "cell_type": "code",
   "execution_count": 13,
   "metadata": {
    "ExecuteTime": {
     "end_time": "2021-11-13T10:34:34.309375Z",
     "start_time": "2021-11-13T10:34:33.300022Z"
    }
   },
   "outputs": [
    {
     "data": {
      "text/plain": [
       "<catboost.core.CatBoostClassifier at 0x7fcdd80b7860>"
      ]
     },
     "execution_count": 13,
     "metadata": {},
     "output_type": "execute_result"
    }
   ],
   "source": [
    "model1 = CatBoostClassifier(\n",
    "    learning_rate=0.7,\n",
    "    iterations=10,\n",
    "    random_seed=0,\n",
    "    train_dir='learing_rate_0.7'\n",
    ")\n",
    "\n",
    "model2 = CatBoostClassifier(\n",
    "    learning_rate=0.01,\n",
    "    iterations=10,\n",
    "    random_seed=0,\n",
    "    train_dir='learing_rate_0.01'\n",
    ")\n",
    "model1.fit(\n",
    "    X_train, y_train,\n",
    "    eval_set=(X_validation, y_validation),\n",
    "    cat_features=cat_features,\n",
    "    verbose=False\n",
    ")\n",
    "model2.fit(\n",
    "    X_train, y_train,\n",
    "    eval_set=(X_validation, y_validation),\n",
    "    cat_features=cat_features,\n",
    "    verbose=False\n",
    ")"
   ]
  },
  {
   "cell_type": "code",
   "execution_count": 14,
   "metadata": {
    "ExecuteTime": {
     "end_time": "2021-11-13T10:34:34.965135Z",
     "start_time": "2021-11-13T10:34:34.948301Z"
    }
   },
   "outputs": [
    {
     "data": {
      "application/vnd.jupyter.widget-view+json": {
       "model_id": "84a8b96af4f844159470d3cbf54a6952",
       "version_major": 2,
       "version_minor": 0
      },
      "text/plain": [
       "MetricVisualizer(layout=Layout(align_self='stretch', height='500px'))"
      ]
     },
     "metadata": {},
     "output_type": "display_data"
    }
   ],
   "source": [
    "from catboost import MetricVisualizer\n",
    "MetricVisualizer(['learing_rate_0.01', 'learing_rate_0.7']).start()"
   ]
  },
  {
   "cell_type": "markdown",
   "metadata": {},
   "source": [
    "# Наилучшее количество деревьев"
   ]
  },
  {
   "cell_type": "code",
   "execution_count": 15,
   "metadata": {
    "ExecuteTime": {
     "end_time": "2021-11-13T10:34:40.602503Z",
     "start_time": "2021-11-13T10:34:40.026471Z"
    }
   },
   "outputs": [
    {
     "data": {
      "application/vnd.jupyter.widget-view+json": {
       "model_id": "ad1d5bd994694e20b8721aabdd125607",
       "version_major": 2,
       "version_minor": 0
      },
      "text/plain": [
       "MetricVisualizer(layout=Layout(align_self='stretch', height='500px'))"
      ]
     },
     "metadata": {},
     "output_type": "display_data"
    },
    {
     "data": {
      "text/plain": [
       "<catboost.core.CatBoostClassifier at 0x7fcdd80b7e10>"
      ]
     },
     "execution_count": 15,
     "metadata": {},
     "output_type": "execute_result"
    }
   ],
   "source": [
    "from catboost import CatBoostClassifier\n",
    "model = CatBoostClassifier(\n",
    "    iterations=10,\n",
    "    random_seed=63,\n",
    "    learning_rate=0.5,\n",
    "#     use_best_model=False\n",
    ")\n",
    "model.fit(\n",
    "    X_train, y_train,\n",
    "    cat_features=cat_features,\n",
    "    eval_set=(X_validation, y_validation),\n",
    "    verbose=False,\n",
    "    plot=True\n",
    ")"
   ]
  },
  {
   "cell_type": "code",
   "execution_count": 16,
   "metadata": {
    "ExecuteTime": {
     "end_time": "2021-11-13T10:34:41.678124Z",
     "start_time": "2021-11-13T10:34:41.674530Z"
    }
   },
   "outputs": [
    {
     "name": "stdout",
     "output_type": "stream",
     "text": [
      "Tree count: 10\n"
     ]
    }
   ],
   "source": [
    "print('Tree count: ' + str(model.tree_count_))"
   ]
  },
  {
   "cell_type": "markdown",
   "metadata": {},
   "source": [
    "# Кросс-валидация"
   ]
  },
  {
   "cell_type": "code",
   "execution_count": 18,
   "metadata": {
    "ExecuteTime": {
     "end_time": "2021-11-13T10:35:14.965877Z",
     "start_time": "2021-11-13T10:35:05.043608Z"
    }
   },
   "outputs": [
    {
     "name": "stderr",
     "output_type": "stream",
     "text": [
      "Custom logger is already specified. Specify more than one logger at same time is not thread safe."
     ]
    },
    {
     "data": {
      "application/vnd.jupyter.widget-view+json": {
       "model_id": "3a5c2473dad542a7b4caae74d253b3bb",
       "version_major": 2,
       "version_minor": 0
      },
      "text/plain": [
       "MetricVisualizer(layout=Layout(align_self='stretch', height='500px'))"
      ]
     },
     "metadata": {},
     "output_type": "display_data"
    }
   ],
   "source": [
    "from catboost import cv\n",
    "\n",
    "params = {}\n",
    "params['loss_function'] = 'Logloss'\n",
    "params['iterations'] = 20\n",
    "params['custom_loss'] = 'AUC'\n",
    "params['random_seed'] = 63\n",
    "params['learning_rate'] = 0.5\n",
    "\n",
    "cv_data = cv(\n",
    "    params = params,\n",
    "    pool = Pool(X, label=y, cat_features=cat_features),\n",
    "    fold_count=5,\n",
    "    shuffle=True,\n",
    "    partition_random_seed=0,\n",
    "    plot=True,\n",
    "    stratified=False,\n",
    "    verbose=False\n",
    ")"
   ]
  },
  {
   "cell_type": "code",
   "execution_count": 19,
   "metadata": {
    "ExecuteTime": {
     "end_time": "2021-11-13T10:35:14.982816Z",
     "start_time": "2021-11-13T10:35:14.968696Z"
    }
   },
   "outputs": [
    {
     "data": {
      "text/html": [
       "<div>\n",
       "<style scoped>\n",
       "    .dataframe tbody tr th:only-of-type {\n",
       "        vertical-align: middle;\n",
       "    }\n",
       "\n",
       "    .dataframe tbody tr th {\n",
       "        vertical-align: top;\n",
       "    }\n",
       "\n",
       "    .dataframe thead th {\n",
       "        text-align: right;\n",
       "    }\n",
       "</style>\n",
       "<table border=\"1\" class=\"dataframe\">\n",
       "  <thead>\n",
       "    <tr style=\"text-align: right;\">\n",
       "      <th></th>\n",
       "      <th>iterations</th>\n",
       "      <th>test-Logloss-mean</th>\n",
       "      <th>test-Logloss-std</th>\n",
       "      <th>train-Logloss-mean</th>\n",
       "      <th>train-Logloss-std</th>\n",
       "      <th>test-AUC-mean</th>\n",
       "      <th>test-AUC-std</th>\n",
       "    </tr>\n",
       "  </thead>\n",
       "  <tbody>\n",
       "    <tr>\n",
       "      <th>0</th>\n",
       "      <td>0</td>\n",
       "      <td>0.302364</td>\n",
       "      <td>0.003822</td>\n",
       "      <td>0.302515</td>\n",
       "      <td>0.003228</td>\n",
       "      <td>0.527207</td>\n",
       "      <td>0.024999</td>\n",
       "    </tr>\n",
       "    <tr>\n",
       "      <th>1</th>\n",
       "      <td>1</td>\n",
       "      <td>0.229273</td>\n",
       "      <td>0.010174</td>\n",
       "      <td>0.230326</td>\n",
       "      <td>0.003786</td>\n",
       "      <td>0.626225</td>\n",
       "      <td>0.049300</td>\n",
       "    </tr>\n",
       "    <tr>\n",
       "      <th>2</th>\n",
       "      <td>2</td>\n",
       "      <td>0.191364</td>\n",
       "      <td>0.007548</td>\n",
       "      <td>0.197340</td>\n",
       "      <td>0.002161</td>\n",
       "      <td>0.785209</td>\n",
       "      <td>0.022718</td>\n",
       "    </tr>\n",
       "    <tr>\n",
       "      <th>3</th>\n",
       "      <td>3</td>\n",
       "      <td>0.179259</td>\n",
       "      <td>0.008272</td>\n",
       "      <td>0.187322</td>\n",
       "      <td>0.001199</td>\n",
       "      <td>0.810380</td>\n",
       "      <td>0.009422</td>\n",
       "    </tr>\n",
       "    <tr>\n",
       "      <th>4</th>\n",
       "      <td>4</td>\n",
       "      <td>0.173020</td>\n",
       "      <td>0.007728</td>\n",
       "      <td>0.182187</td>\n",
       "      <td>0.001872</td>\n",
       "      <td>0.825013</td>\n",
       "      <td>0.010570</td>\n",
       "    </tr>\n",
       "  </tbody>\n",
       "</table>\n",
       "</div>"
      ],
      "text/plain": [
       "   iterations  test-Logloss-mean  test-Logloss-std  train-Logloss-mean  \\\n",
       "0           0           0.302364          0.003822            0.302515   \n",
       "1           1           0.229273          0.010174            0.230326   \n",
       "2           2           0.191364          0.007548            0.197340   \n",
       "3           3           0.179259          0.008272            0.187322   \n",
       "4           4           0.173020          0.007728            0.182187   \n",
       "\n",
       "   train-Logloss-std  test-AUC-mean  test-AUC-std  \n",
       "0           0.003228       0.527207      0.024999  \n",
       "1           0.003786       0.626225      0.049300  \n",
       "2           0.002161       0.785209      0.022718  \n",
       "3           0.001199       0.810380      0.009422  \n",
       "4           0.001872       0.825013      0.010570  "
      ]
     },
     "execution_count": 19,
     "metadata": {},
     "output_type": "execute_result"
    }
   ],
   "source": [
    "cv_data.head()"
   ]
  },
  {
   "cell_type": "code",
   "execution_count": 20,
   "metadata": {
    "ExecuteTime": {
     "end_time": "2021-11-13T10:35:14.987898Z",
     "start_time": "2021-11-13T10:35:14.984012Z"
    }
   },
   "outputs": [
    {
     "name": "stdout",
     "output_type": "stream",
     "text": [
      "Best validation Logloss score, not stratified: 0.1598±0.0081 on step 19\n"
     ]
    }
   ],
   "source": [
    "best_value = np.min(cv_data['test-Logloss-mean'])\n",
    "best_iter = np.argmin(cv_data['test-Logloss-mean'])\n",
    "\n",
    "print('Best validation Logloss score, not stratified: {:.4f}±{:.4f} on step {}'.format(\n",
    "    best_value,\n",
    "    cv_data['test-Logloss-std'][best_iter],\n",
    "    best_iter)\n",
    ")"
   ]
  },
  {
   "cell_type": "code",
   "execution_count": 21,
   "metadata": {
    "ExecuteTime": {
     "end_time": "2021-11-13T10:35:24.064642Z",
     "start_time": "2021-11-13T10:35:14.989350Z"
    }
   },
   "outputs": [
    {
     "data": {
      "application/vnd.jupyter.widget-view+json": {
       "model_id": "b7c3fb69adbd4b2ba946ba0247c39d27",
       "version_major": 2,
       "version_minor": 0
      },
      "text/plain": [
       "MetricVisualizer(layout=Layout(align_self='stretch', height='500px'))"
      ]
     },
     "metadata": {},
     "output_type": "display_data"
    },
    {
     "name": "stdout",
     "output_type": "stream",
     "text": [
      "Best validation Logloss score, stratified: 0.1598±0.0024 on step 17\n"
     ]
    }
   ],
   "source": [
    "cv_data = cv(\n",
    "    params = params,\n",
    "    pool = Pool(X, label=y, cat_features=cat_features),\n",
    "    fold_count=5,\n",
    "    inverted=False,\n",
    "    shuffle=True,\n",
    "    partition_random_seed=0,\n",
    "    plot=True,\n",
    "    stratified=True,\n",
    "    verbose=False\n",
    ")\n",
    "\n",
    "best_value = np.min(cv_data['test-Logloss-mean'])\n",
    "best_iter = np.argmin(cv_data['test-Logloss-mean'])\n",
    "\n",
    "print('Best validation Logloss score, stratified: {:.4f}±{:.4f} on step {}'.format(\n",
    "    best_value,\n",
    "    cv_data['test-Logloss-std'][best_iter],\n",
    "    best_iter)\n",
    ")"
   ]
  },
  {
   "cell_type": "markdown",
   "metadata": {},
   "source": [
    "# Детектор переобучения"
   ]
  },
  {
   "cell_type": "code",
   "execution_count": 22,
   "metadata": {
    "ExecuteTime": {
     "end_time": "2021-11-13T10:35:24.520515Z",
     "start_time": "2021-11-13T10:35:24.067252Z"
    }
   },
   "outputs": [
    {
     "data": {
      "application/vnd.jupyter.widget-view+json": {
       "model_id": "252e854514c34ca9af9f18f6b6c7ad5a",
       "version_major": 2,
       "version_minor": 0
      },
      "text/plain": [
       "MetricVisualizer(layout=Layout(align_self='stretch', height='500px'))"
      ]
     },
     "metadata": {},
     "output_type": "display_data"
    },
    {
     "data": {
      "text/plain": [
       "<catboost.core.CatBoostClassifier at 0x7fcdc012bfd0>"
      ]
     },
     "execution_count": 22,
     "metadata": {},
     "output_type": "execute_result"
    }
   ],
   "source": [
    "model_with_early_stop = CatBoostClassifier(\n",
    "    iterations=20,\n",
    "    random_seed=63,\n",
    "    learning_rate=0.5,\n",
    "    early_stopping_rounds=20\n",
    ")\n",
    "model_with_early_stop.fit(\n",
    "    X_train, y_train,\n",
    "    cat_features=cat_features,\n",
    "    eval_set=(X_validation, y_validation),\n",
    "    verbose=False,\n",
    "    plot=True\n",
    ")"
   ]
  },
  {
   "cell_type": "code",
   "execution_count": 23,
   "metadata": {
    "ExecuteTime": {
     "end_time": "2021-11-13T10:35:24.524397Z",
     "start_time": "2021-11-13T10:35:24.521782Z"
    }
   },
   "outputs": [
    {
     "name": "stdout",
     "output_type": "stream",
     "text": [
      "20\n"
     ]
    }
   ],
   "source": [
    "print(model_with_early_stop.tree_count_)"
   ]
  },
  {
   "cell_type": "code",
   "execution_count": 24,
   "metadata": {
    "ExecuteTime": {
     "end_time": "2021-11-13T10:35:24.973751Z",
     "start_time": "2021-11-13T10:35:24.525889Z"
    }
   },
   "outputs": [
    {
     "data": {
      "application/vnd.jupyter.widget-view+json": {
       "model_id": "2479db07d0dd459e84b3d3e405ec26bd",
       "version_major": 2,
       "version_minor": 0
      },
      "text/plain": [
       "MetricVisualizer(layout=Layout(align_self='stretch', height='500px'))"
      ]
     },
     "metadata": {},
     "output_type": "display_data"
    },
    {
     "data": {
      "text/plain": [
       "<catboost.core.CatBoostClassifier at 0x7fcdc00d2160>"
      ]
     },
     "execution_count": 24,
     "metadata": {},
     "output_type": "execute_result"
    }
   ],
   "source": [
    "model_with_early_stop = CatBoostClassifier(\n",
    "    eval_metric='AUC',\n",
    "    iterations=20,\n",
    "    random_seed=63,\n",
    "    learning_rate=0.5,\n",
    "    early_stopping_rounds=20\n",
    ")\n",
    "model_with_early_stop.fit(\n",
    "    X_train, y_train,\n",
    "    cat_features=cat_features,\n",
    "    eval_set=(X_validation, y_validation),\n",
    "    verbose=False,\n",
    "    plot=True\n",
    ")"
   ]
  },
  {
   "cell_type": "code",
   "execution_count": 25,
   "metadata": {
    "ExecuteTime": {
     "end_time": "2021-11-13T10:35:24.977245Z",
     "start_time": "2021-11-13T10:35:24.974879Z"
    }
   },
   "outputs": [
    {
     "name": "stdout",
     "output_type": "stream",
     "text": [
      "20\n"
     ]
    }
   ],
   "source": [
    "print(model_with_early_stop.tree_count_)"
   ]
  },
  {
   "cell_type": "markdown",
   "metadata": {},
   "source": [
    "# Выбор порога"
   ]
  },
  {
   "cell_type": "code",
   "execution_count": null,
   "metadata": {
    "ExecuteTime": {
     "start_time": "2021-11-13T14:55:22.750Z"
    }
   },
   "outputs": [],
   "source": [
    "model = CatBoostClassifier(\n",
    "    random_seed=63,\n",
    "    iterations=20,\n",
    "    learning_rate=0.03,\n",
    ")\n",
    "model.fit(\n",
    "    X_train, y_train,\n",
    "    cat_features=cat_features,\n",
    "    verbose=False,\n",
    "    plot=True\n",
    ")"
   ]
  },
  {
   "cell_type": "code",
   "execution_count": null,
   "metadata": {
    "ExecuteTime": {
     "start_time": "2021-11-13T14:55:23.241Z"
    }
   },
   "outputs": [],
   "source": [
    "from catboost.utils import get_roc_curve\n",
    "import sklearn\n",
    "from sklearn import metrics\n",
    "\n",
    "eval_pool = Pool(X_validation, y_validation, cat_features=cat_features)\n",
    "curve = get_roc_curve(model, eval_pool)\n",
    "(fpr, tpr, thresholds) = curve\n",
    "roc_auc = sklearn.metrics.auc(fpr, tpr)"
   ]
  },
  {
   "cell_type": "code",
   "execution_count": null,
   "metadata": {
    "ExecuteTime": {
     "start_time": "2021-11-13T14:55:24.274Z"
    }
   },
   "outputs": [],
   "source": [
    "import matplotlib.pyplot as plt\n",
    "\n",
    "plt.figure(figsize=(8, 8))\n",
    "lw = 2\n",
    "\n",
    "plt.plot(fpr, tpr, color='darkorange',\n",
    "         lw=lw, label='ROC curve (area = %0.2f)' % roc_auc, alpha=0.5)\n",
    "\n",
    "plt.plot([0, 1], [0, 1], color='navy', lw=lw, linestyle='--', alpha=0.5)\n",
    "\n",
    "plt.xlim([0.0, 1.0])\n",
    "plt.ylim([0.0, 1.05])\n",
    "plt.xticks(fontsize=16)\n",
    "plt.yticks(fontsize=16)\n",
    "plt.grid(True)\n",
    "plt.xlabel('False Positive Rate', fontsize=16)\n",
    "plt.ylabel('True Positive Rate', fontsize=16)\n",
    "plt.title('Receiver operating characteristic', fontsize=20)\n",
    "plt.legend(loc=\"lower right\", fontsize=16)\n",
    "plt.show()"
   ]
  },
  {
   "cell_type": "code",
   "execution_count": 29,
   "metadata": {
    "ExecuteTime": {
     "end_time": "2021-11-13T10:35:36.660317Z",
     "start_time": "2021-11-13T10:35:36.654591Z"
    }
   },
   "outputs": [],
   "source": [
    "from catboost.utils import get_fpr_curve\n",
    "from catboost.utils import get_fnr_curve\n",
    "\n",
    "(thresholds, fpr) = get_fpr_curve(curve=curve)\n",
    "(thresholds, fnr) = get_fnr_curve(curve=curve)"
   ]
  },
  {
   "cell_type": "code",
   "execution_count": 30,
   "metadata": {
    "ExecuteTime": {
     "end_time": "2021-11-13T10:35:37.167739Z",
     "start_time": "2021-11-13T10:35:36.979874Z"
    }
   },
   "outputs": [
    {
     "data": {
      "image/png": "[encoded data removed]",
      "text/plain": [
       "<Figure size 576x576 with 1 Axes>"
      ]
     },
     "metadata": {
      "needs_background": "light"
     },
     "output_type": "display_data"
    }
   ],
   "source": [
    "plt.figure(figsize=(8, 8))\n",
    "lw = 2\n",
    "\n",
    "plt.plot(thresholds, fpr, color='blue', lw=lw, label='FPR', alpha=0.5)\n",
    "plt.plot(thresholds, fnr, color='green', lw=lw, label='FNR', alpha=0.5)\n",
    "\n",
    "plt.xlim([0.0, 1.0])\n",
    "plt.ylim([0.0, 1.05])\n",
    "plt.xticks(fontsize=16)\n",
    "plt.yticks(fontsize=16)\n",
    "plt.grid(True)\n",
    "plt.xlabel('Threshold', fontsize=16)\n",
    "plt.ylabel('Error Rate', fontsize=16)\n",
    "plt.title('FPR-FNR curves', fontsize=20)\n",
    "plt.legend(loc=\"lower left\", fontsize=16)\n",
    "plt.show()"
   ]
  },
  {
   "cell_type": "code",
   "execution_count": 31,
   "metadata": {
    "ExecuteTime": {
     "end_time": "2021-11-13T10:35:39.403253Z",
     "start_time": "2021-11-13T10:35:39.367900Z"
    }
   },
   "outputs": [
    {
     "name": "stdout",
     "output_type": "stream",
     "text": [
      "0.6837656016853847\n",
      "0.705526243233672\n"
     ]
    }
   ],
   "source": [
    "from catboost.utils import select_threshold\n",
    "\n",
    "print(select_threshold(model=model, data=eval_pool, FNR=0.01))\n",
    "print(select_threshold(model=model, data=eval_pool, FPR=0.01))"
   ]
  },
  {
   "cell_type": "markdown",
   "metadata": {},
   "source": [
    "# Предсказания модели"
   ]
  },
  {
   "cell_type": "code",
   "execution_count": 34,
   "metadata": {
    "ExecuteTime": {
     "end_time": "2021-11-13T10:36:03.242708Z",
     "start_time": "2021-11-13T10:36:03.198156Z"
    }
   },
   "outputs": [
    {
     "name": "stdout",
     "output_type": "stream",
     "text": [
      "[[0.298  0.702 ]\n",
      " [0.3001 0.6999]\n",
      " [0.3023 0.6977]\n",
      " ...\n",
      " [0.3042 0.6958]\n",
      " [0.295  0.705 ]\n",
      " [0.3059 0.6941]]\n"
     ]
    }
   ],
   "source": [
    "print(model.predict_proba(X_validation))"
   ]
  },
  {
   "cell_type": "code",
   "execution_count": 35,
   "metadata": {
    "ExecuteTime": {
     "end_time": "2021-11-13T10:36:08.210027Z",
     "start_time": "2021-11-13T10:36:08.164811Z"
    }
   },
   "outputs": [
    {
     "name": "stdout",
     "output_type": "stream",
     "text": [
      "[1 1 1 ... 1 1 1]\n"
     ]
    }
   ],
   "source": [
    "print(model.predict(X_validation))"
   ]
  },
  {
   "cell_type": "code",
   "execution_count": 36,
   "metadata": {
    "ExecuteTime": {
     "end_time": "2021-11-13T10:36:11.382508Z",
     "start_time": "2021-11-13T10:36:11.312068Z"
    }
   },
   "outputs": [
    {
     "name": "stdout",
     "output_type": "stream",
     "text": [
      "[0.8568 0.8466 0.8365 ... 0.8273 0.8712 0.8195]\n"
     ]
    }
   ],
   "source": [
    "raw_pred = model.predict(\n",
    "    data=X_validation,\n",
    "    prediction_type='RawFormulaVal'\n",
    ")\n",
    "print(raw_pred)"
   ]
  },
  {
   "cell_type": "code",
   "execution_count": 37,
   "metadata": {
    "ExecuteTime": {
     "end_time": "2021-11-13T10:36:12.489661Z",
     "start_time": "2021-11-13T10:36:12.484464Z"
    }
   },
   "outputs": [
    {
     "name": "stdout",
     "output_type": "stream",
     "text": [
      "[0.702  0.6999 0.6977 ... 0.6958 0.705  0.6941]\n"
     ]
    }
   ],
   "source": [
    "from numpy import exp\n",
    "\n",
    "sigmoid = lambda x: 1 / (1 + exp(-x))\n",
    "\n",
    "probabilities = sigmoid(raw_pred)\n",
    "\n",
    "print(probabilities)"
   ]
  },
  {
   "cell_type": "markdown",
   "metadata": {},
   "source": [
    "# Последовательные предсказания"
   ]
  },
  {
   "cell_type": "code",
   "execution_count": 38,
   "metadata": {
    "ExecuteTime": {
     "end_time": "2021-11-13T10:36:14.476667Z",
     "start_time": "2021-11-13T10:36:14.334422Z"
    },
    "scrolled": true
   },
   "outputs": [
    {
     "name": "stdout",
     "output_type": "stream",
     "text": [
      "Iteration 0, predictions:\n",
      "[[0.4867 0.5133]\n",
      " [0.4867 0.5133]\n",
      " [0.4867 0.5133]\n",
      " ...\n",
      " [0.4867 0.5133]\n",
      " [0.4867 0.5133]\n",
      " [0.4867 0.5133]]\n",
      "Iteration 1, predictions:\n",
      "[[0.4739 0.5261]\n",
      " [0.4739 0.5261]\n",
      " [0.4739 0.5261]\n",
      " ...\n",
      " [0.4739 0.5261]\n",
      " [0.4739 0.5261]\n",
      " [0.4739 0.5261]]\n",
      "Iteration 2, predictions:\n",
      "[[0.4612 0.5388]\n",
      " [0.4612 0.5388]\n",
      " [0.4626 0.5374]\n",
      " ...\n",
      " [0.4626 0.5374]\n",
      " [0.4612 0.5388]\n",
      " [0.4626 0.5374]]\n",
      "Iteration 3, predictions:\n",
      "[[0.4491 0.5509]\n",
      " [0.4491 0.5509]\n",
      " [0.4506 0.5494]\n",
      " ...\n",
      " [0.4506 0.5494]\n",
      " [0.4491 0.5509]\n",
      " [0.4506 0.5494]]\n",
      "Iteration 4, predictions:\n",
      "[[0.4378 0.5622]\n",
      " [0.4378 0.5622]\n",
      " [0.4387 0.5613]\n",
      " ...\n",
      " [0.4393 0.5607]\n",
      " [0.4372 0.5628]\n",
      " [0.4393 0.5607]]\n"
     ]
    }
   ],
   "source": [
    "predictions_gen = model.staged_predict_proba(\n",
    "    data=X_validation,\n",
    "    ntree_start=0, \n",
    "    ntree_end=5, \n",
    "    eval_period=1\n",
    ")\n",
    "try:\n",
    "    for iteration, predictions in enumerate(predictions_gen):\n",
    "        print('Iteration ' + str(iteration) + ', predictions:')\n",
    "        print(predictions)\n",
    "except Exception:\n",
    "    pass"
   ]
  },
  {
   "cell_type": "markdown",
   "metadata": {},
   "source": [
    "# Многоклассовая классификация"
   ]
  },
  {
   "cell_type": "code",
   "execution_count": 39,
   "metadata": {
    "ExecuteTime": {
     "end_time": "2021-11-13T10:36:19.913960Z",
     "start_time": "2021-11-13T10:36:18.995520Z"
    }
   },
   "outputs": [
    {
     "data": {
      "application/vnd.jupyter.widget-view+json": {
       "model_id": "3ae65ffce1b645caab2d94094f032c06",
       "version_major": 2,
       "version_minor": 0
      },
      "text/plain": [
       "MetricVisualizer(layout=Layout(align_self='stretch', height='500px'))"
      ]
     },
     "metadata": {},
     "output_type": "display_data"
    },
    {
     "data": {
      "text/plain": [
       "<catboost.core.CatBoostClassifier at 0x7fcdc00736d8>"
      ]
     },
     "execution_count": 39,
     "metadata": {},
     "output_type": "execute_result"
    }
   ],
   "source": [
    "from catboost import CatBoostClassifier\n",
    "model = CatBoostClassifier(\n",
    "    iterations=50,\n",
    "    random_seed=43,\n",
    "    loss_function='MultiClass'\n",
    ")\n",
    "model.fit(\n",
    "    X_train, y_train,\n",
    "    cat_features=cat_features,\n",
    "    eval_set=(X_validation, y_validation),\n",
    "    verbose=False,\n",
    "    plot=True\n",
    ")"
   ]
  },
  {
   "cell_type": "markdown",
   "metadata": {},
   "source": [
    "# Важность признаков"
   ]
  },
  {
   "cell_type": "code",
   "execution_count": 40,
   "metadata": {
    "ExecuteTime": {
     "end_time": "2021-11-13T10:36:21.432383Z",
     "start_time": "2021-11-13T10:36:21.409703Z"
    }
   },
   "outputs": [
    {
     "data": {
      "text/html": [
       "<div>\n",
       "<style scoped>\n",
       "    .dataframe tbody tr th:only-of-type {\n",
       "        vertical-align: middle;\n",
       "    }\n",
       "\n",
       "    .dataframe tbody tr th {\n",
       "        vertical-align: top;\n",
       "    }\n",
       "\n",
       "    .dataframe thead th {\n",
       "        text-align: right;\n",
       "    }\n",
       "</style>\n",
       "<table border=\"1\" class=\"dataframe\">\n",
       "  <thead>\n",
       "    <tr style=\"text-align: right;\">\n",
       "      <th></th>\n",
       "      <th>Feature Id</th>\n",
       "      <th>Importances</th>\n",
       "    </tr>\n",
       "  </thead>\n",
       "  <tbody>\n",
       "    <tr>\n",
       "      <th>0</th>\n",
       "      <td>MGR_ID</td>\n",
       "      <td>31.659932</td>\n",
       "    </tr>\n",
       "    <tr>\n",
       "      <th>1</th>\n",
       "      <td>RESOURCE</td>\n",
       "      <td>17.171955</td>\n",
       "    </tr>\n",
       "    <tr>\n",
       "      <th>2</th>\n",
       "      <td>ROLE_FAMILY_DESC</td>\n",
       "      <td>12.332457</td>\n",
       "    </tr>\n",
       "    <tr>\n",
       "      <th>3</th>\n",
       "      <td>ROLE_DEPTNAME</td>\n",
       "      <td>10.864216</td>\n",
       "    </tr>\n",
       "    <tr>\n",
       "      <th>4</th>\n",
       "      <td>ROLE_CODE</td>\n",
       "      <td>8.994698</td>\n",
       "    </tr>\n",
       "    <tr>\n",
       "      <th>5</th>\n",
       "      <td>ROLE_ROLLUP_2</td>\n",
       "      <td>8.847865</td>\n",
       "    </tr>\n",
       "    <tr>\n",
       "      <th>6</th>\n",
       "      <td>ROLE_ROLLUP_1</td>\n",
       "      <td>5.537394</td>\n",
       "    </tr>\n",
       "    <tr>\n",
       "      <th>7</th>\n",
       "      <td>ROLE_TITLE</td>\n",
       "      <td>2.484312</td>\n",
       "    </tr>\n",
       "    <tr>\n",
       "      <th>8</th>\n",
       "      <td>ROLE_FAMILY</td>\n",
       "      <td>2.107171</td>\n",
       "    </tr>\n",
       "  </tbody>\n",
       "</table>\n",
       "</div>"
      ],
      "text/plain": [
       "         Feature Id  Importances\n",
       "0            MGR_ID    31.659932\n",
       "1          RESOURCE    17.171955\n",
       "2  ROLE_FAMILY_DESC    12.332457\n",
       "3     ROLE_DEPTNAME    10.864216\n",
       "4         ROLE_CODE     8.994698\n",
       "5     ROLE_ROLLUP_2     8.847865\n",
       "6     ROLE_ROLLUP_1     5.537394\n",
       "7        ROLE_TITLE     2.484312\n",
       "8       ROLE_FAMILY     2.107171"
      ]
     },
     "execution_count": 40,
     "metadata": {},
     "output_type": "execute_result"
    }
   ],
   "source": [
    "model.get_feature_importance(prettified=True)"
   ]
  },
  {
   "cell_type": "markdown",
   "metadata": {},
   "source": [
    "# Сохранение модели"
   ]
  },
  {
   "cell_type": "code",
   "execution_count": 41,
   "metadata": {
    "ExecuteTime": {
     "end_time": "2021-11-13T10:36:23.168622Z",
     "start_time": "2021-11-13T10:36:22.693315Z"
    }
   },
   "outputs": [],
   "source": [
    "my_best_model = CatBoostClassifier(iterations=10)\n",
    "my_best_model.fit(\n",
    "    X_train, y_train,\n",
    "    eval_set=(X_validation, y_validation),\n",
    "    cat_features=cat_features,\n",
    "    verbose=False\n",
    ")\n",
    "my_best_model.save_model('catboost_model.bin')\n",
    "my_best_model.save_model('catboost_model.json', format='json')"
   ]
  },
  {
   "cell_type": "code",
   "execution_count": 42,
   "metadata": {
    "ExecuteTime": {
     "end_time": "2021-11-13T10:36:23.679257Z",
     "start_time": "2021-11-13T10:36:23.672390Z"
    }
   },
   "outputs": [
    {
     "name": "stdout",
     "output_type": "stream",
     "text": [
      "{'iterations': 10, 'loss_function': 'Logloss', 'verbose': 0}\n",
      "0\n"
     ]
    }
   ],
   "source": [
    "my_best_model.load_model('catboost_model.bin')\n",
    "print(my_best_model.get_params())\n",
    "print(my_best_model.random_seed_)"
   ]
  },
  {
   "cell_type": "markdown",
   "metadata": {},
   "source": [
    "# Настройка гиперпараметров"
   ]
  },
  {
   "cell_type": "markdown",
   "metadata": {},
   "source": [
    "## Скорость обучения"
   ]
  },
  {
   "cell_type": "code",
   "execution_count": 43,
   "metadata": {
    "ExecuteTime": {
     "end_time": "2021-11-13T10:36:26.512522Z",
     "start_time": "2021-11-13T10:36:24.629336Z"
    }
   },
   "outputs": [
    {
     "data": {
      "application/vnd.jupyter.widget-view+json": {
       "model_id": "57e1b0afdea14289898753af0709ca86",
       "version_major": 2,
       "version_minor": 0
      },
      "text/plain": [
       "MetricVisualizer(layout=Layout(align_self='stretch', height='500px'))"
      ]
     },
     "metadata": {},
     "output_type": "display_data"
    },
    {
     "data": {
      "text/plain": [
       "<catboost.core.CatBoostClassifier at 0x7fcda0162fd0>"
      ]
     },
     "execution_count": 43,
     "metadata": {},
     "output_type": "execute_result"
    }
   ],
   "source": [
    "from catboost import CatBoost\n",
    "fast_model = CatBoostClassifier(\n",
    "    random_seed=63,\n",
    "    iterations=150,\n",
    "    learning_rate=0.01,\n",
    "    boosting_type='Plain',\n",
    "    bootstrap_type='Bernoulli',\n",
    "    subsample=0.5,\n",
    "    one_hot_max_size=20,\n",
    "    rsm=0.5,\n",
    "    leaf_estimation_iterations=5,\n",
    "    max_ctr_complexity=1)\n",
    "\n",
    "fast_model.fit(\n",
    "    X_train, y_train,\n",
    "    cat_features=cat_features,\n",
    "    verbose=False,\n",
    "    plot=True\n",
    ")"
   ]
  },
  {
   "cell_type": "markdown",
   "metadata": {},
   "source": [
    "# Точность"
   ]
  },
  {
   "cell_type": "code",
   "execution_count": 44,
   "metadata": {
    "ExecuteTime": {
     "end_time": "2021-11-13T10:37:54.275888Z",
     "start_time": "2021-11-13T10:36:26.513961Z"
    }
   },
   "outputs": [
    {
     "data": {
      "application/vnd.jupyter.widget-view+json": {
       "model_id": "2d4e3356e4fe42d286ebe9dee008df86",
       "version_major": 2,
       "version_minor": 0
      },
      "text/plain": [
       "MetricVisualizer(layout=Layout(align_self='stretch', height='500px'))"
      ]
     },
     "metadata": {},
     "output_type": "display_data"
    },
    {
     "data": {
      "text/plain": [
       "<catboost.core.CatBoostClassifier at 0x7fcdc00d2eb8>"
      ]
     },
     "execution_count": 44,
     "metadata": {},
     "output_type": "execute_result"
    }
   ],
   "source": [
    "tunned_model = CatBoostClassifier(\n",
    "    random_seed=63,\n",
    "    iterations=1000,\n",
    "    learning_rate=0.03,\n",
    "    l2_leaf_reg=3,\n",
    "    bagging_temperature=1,\n",
    "    random_strength=1,\n",
    "    one_hot_max_size=2,\n",
    "    leaf_estimation_method='Newton'\n",
    ")\n",
    "tunned_model.fit(\n",
    "    X_train, y_train,\n",
    "    cat_features=cat_features,\n",
    "    verbose=False,\n",
    "    eval_set=(X_validation, y_validation),\n",
    "    plot=True\n",
    ")"
   ]
  },
  {
   "cell_type": "markdown",
   "metadata": {},
   "source": [
    "# Задание\n",
    "\n",
    "1) Решите задачу с данными train_medium.csv, test_medium.csv с помощью CatBoost. Найдите оптимальные параметры. Сравните скорость обучения и качество с результатами xgboost.\n",
    "\n",
    "2) Выполните пункт 1) для LightGBM. "
   ]
  },
  {
   "cell_type": "code",
   "execution_count": 45,
   "metadata": {
    "ExecuteTime": {
     "end_time": "2021-11-13T10:37:54.389843Z",
     "start_time": "2021-11-13T10:37:54.278197Z"
    }
   },
   "outputs": [],
   "source": [
    "X_train = pd.read_csv('train_small.csv')\n",
    "X_test = pd.read_csv('test_small.csv')\n",
    "\n",
    "ytrain = X_train['Disbursed']\n",
    "Xtrain = X_train.copy()\n",
    "del Xtrain['Disbursed']\n",
    "\n",
    "ytest = X_test['Disbursed']\n",
    "Xtest = X_test.copy()\n",
    "del Xtest['Disbursed']"
   ]
  },
  {
   "cell_type": "code",
   "execution_count": 24,
   "metadata": {
    "scrolled": true
   },
   "outputs": [
    {
     "name": "stdout",
     "output_type": "stream",
     "text": [
      "0:\tlearn: 0.6113154\ttotal: 113ms\tremaining: 1m 53s\n",
      "1:\tlearn: 0.5367929\ttotal: 194ms\tremaining: 1m 36s\n",
      "2:\tlearn: 0.4756459\ttotal: 268ms\tremaining: 1m 29s\n",
      "3:\tlearn: 0.4197119\ttotal: 342ms\tremaining: 1m 25s\n",
      "4:\tlearn: 0.3737361\ttotal: 407ms\tremaining: 1m 21s\n",
      "5:\tlearn: 0.3340686\ttotal: 487ms\tremaining: 1m 20s\n",
      "6:\tlearn: 0.2980078\ttotal: 571ms\tremaining: 1m 21s\n",
      "7:\tlearn: 0.2688943\ttotal: 637ms\tremaining: 1m 18s\n",
      "8:\tlearn: 0.2447650\ttotal: 697ms\tremaining: 1m 16s\n",
      "9:\tlearn: 0.2235932\ttotal: 772ms\tremaining: 1m 16s\n",
      "10:\tlearn: 0.2046964\ttotal: 824ms\tremaining: 1m 14s\n",
      "11:\tlearn: 0.1884799\ttotal: 898ms\tremaining: 1m 13s\n",
      "12:\tlearn: 0.1746336\ttotal: 957ms\tremaining: 1m 12s\n",
      "13:\tlearn: 0.1618113\ttotal: 1s\tremaining: 1m 10s\n",
      "14:\tlearn: 0.1515570\ttotal: 1.07s\tremaining: 1m 10s\n",
      "15:\tlearn: 0.1424975\ttotal: 1.16s\tremaining: 1m 11s\n",
      "16:\tlearn: 0.1345491\ttotal: 1.24s\tremaining: 1m 11s\n",
      "17:\tlearn: 0.1277615\ttotal: 1.31s\tremaining: 1m 11s\n",
      "18:\tlearn: 0.1202118\ttotal: 1.38s\tremaining: 1m 11s\n",
      "19:\tlearn: 0.1136042\ttotal: 1.43s\tremaining: 1m 10s\n",
      "20:\tlearn: 0.1089733\ttotal: 1.5s\tremaining: 1m 9s\n",
      "21:\tlearn: 0.1051327\ttotal: 1.57s\tremaining: 1m 10s\n",
      "22:\tlearn: 0.1016986\ttotal: 1.63s\tremaining: 1m 9s\n",
      "23:\tlearn: 0.0985731\ttotal: 1.69s\tremaining: 1m 8s\n",
      "24:\tlearn: 0.0954508\ttotal: 1.76s\tremaining: 1m 8s\n",
      "25:\tlearn: 0.0931902\ttotal: 1.84s\tremaining: 1m 9s\n",
      "26:\tlearn: 0.0910978\ttotal: 1.92s\tremaining: 1m 9s\n",
      "27:\tlearn: 0.0888775\ttotal: 1.99s\tremaining: 1m 9s\n",
      "28:\tlearn: 0.0871508\ttotal: 2.07s\tremaining: 1m 9s\n",
      "29:\tlearn: 0.0853270\ttotal: 2.14s\tremaining: 1m 9s\n",
      "30:\tlearn: 0.0840960\ttotal: 2.21s\tremaining: 1m 9s\n",
      "31:\tlearn: 0.0826772\ttotal: 2.29s\tremaining: 1m 9s\n",
      "32:\tlearn: 0.0807521\ttotal: 2.35s\tremaining: 1m 9s\n",
      "33:\tlearn: 0.0796660\ttotal: 2.42s\tremaining: 1m 8s\n",
      "34:\tlearn: 0.0784525\ttotal: 2.49s\tremaining: 1m 8s\n",
      "35:\tlearn: 0.0774140\ttotal: 2.56s\tremaining: 1m 8s\n",
      "36:\tlearn: 0.0767996\ttotal: 2.63s\tremaining: 1m 8s\n",
      "37:\tlearn: 0.0761036\ttotal: 2.71s\tremaining: 1m 8s\n",
      "38:\tlearn: 0.0756523\ttotal: 2.76s\tremaining: 1m 7s\n",
      "39:\tlearn: 0.0751133\ttotal: 2.81s\tremaining: 1m 7s\n",
      "40:\tlearn: 0.0747433\ttotal: 2.88s\tremaining: 1m 7s\n",
      "41:\tlearn: 0.0743498\ttotal: 2.95s\tremaining: 1m 7s\n",
      "42:\tlearn: 0.0737862\ttotal: 3.02s\tremaining: 1m 7s\n",
      "43:\tlearn: 0.0734797\ttotal: 3.09s\tremaining: 1m 7s\n",
      "44:\tlearn: 0.0732147\ttotal: 3.16s\tremaining: 1m 6s\n",
      "45:\tlearn: 0.0726485\ttotal: 3.24s\tremaining: 1m 7s\n",
      "46:\tlearn: 0.0722858\ttotal: 3.32s\tremaining: 1m 7s\n",
      "47:\tlearn: 0.0720908\ttotal: 3.4s\tremaining: 1m 7s\n",
      "48:\tlearn: 0.0717956\ttotal: 3.48s\tremaining: 1m 7s\n",
      "49:\tlearn: 0.0715441\ttotal: 3.56s\tremaining: 1m 7s\n",
      "50:\tlearn: 0.0712436\ttotal: 3.64s\tremaining: 1m 7s\n",
      "51:\tlearn: 0.0708879\ttotal: 3.72s\tremaining: 1m 7s\n",
      "52:\tlearn: 0.0704904\ttotal: 3.79s\tremaining: 1m 7s\n",
      "53:\tlearn: 0.0702732\ttotal: 3.86s\tremaining: 1m 7s\n",
      "54:\tlearn: 0.0700835\ttotal: 3.94s\tremaining: 1m 7s\n",
      "55:\tlearn: 0.0698638\ttotal: 4.01s\tremaining: 1m 7s\n",
      "56:\tlearn: 0.0696433\ttotal: 4.09s\tremaining: 1m 7s\n",
      "57:\tlearn: 0.0694126\ttotal: 4.16s\tremaining: 1m 7s\n",
      "58:\tlearn: 0.0693333\ttotal: 4.23s\tremaining: 1m 7s\n",
      "59:\tlearn: 0.0690255\ttotal: 4.29s\tremaining: 1m 7s\n",
      "60:\tlearn: 0.0688703\ttotal: 4.35s\tremaining: 1m 7s\n",
      "61:\tlearn: 0.0686866\ttotal: 4.42s\tremaining: 1m 6s\n",
      "62:\tlearn: 0.0685783\ttotal: 4.5s\tremaining: 1m 6s\n",
      "63:\tlearn: 0.0684002\ttotal: 4.58s\tremaining: 1m 6s\n",
      "64:\tlearn: 0.0680885\ttotal: 4.66s\tremaining: 1m 7s\n",
      "65:\tlearn: 0.0679833\ttotal: 4.73s\tremaining: 1m 6s\n",
      "66:\tlearn: 0.0677655\ttotal: 4.79s\tremaining: 1m 6s\n",
      "67:\tlearn: 0.0676554\ttotal: 4.88s\tremaining: 1m 6s\n",
      "68:\tlearn: 0.0676011\ttotal: 4.95s\tremaining: 1m 6s\n",
      "69:\tlearn: 0.0674974\ttotal: 5.03s\tremaining: 1m 6s\n",
      "70:\tlearn: 0.0673632\ttotal: 5.11s\tremaining: 1m 6s\n",
      "71:\tlearn: 0.0672239\ttotal: 5.18s\tremaining: 1m 6s\n",
      "72:\tlearn: 0.0672060\ttotal: 5.24s\tremaining: 1m 6s\n",
      "73:\tlearn: 0.0670859\ttotal: 5.32s\tremaining: 1m 6s\n",
      "74:\tlearn: 0.0668998\ttotal: 5.4s\tremaining: 1m 6s\n",
      "75:\tlearn: 0.0667858\ttotal: 5.47s\tremaining: 1m 6s\n",
      "76:\tlearn: 0.0666908\ttotal: 5.52s\tremaining: 1m 6s\n",
      "77:\tlearn: 0.0666192\ttotal: 5.59s\tremaining: 1m 6s\n",
      "78:\tlearn: 0.0665018\ttotal: 5.67s\tremaining: 1m 6s\n",
      "79:\tlearn: 0.0664506\ttotal: 5.74s\tremaining: 1m 6s\n",
      "80:\tlearn: 0.0663785\ttotal: 5.82s\tremaining: 1m 6s\n",
      "81:\tlearn: 0.0662072\ttotal: 5.88s\tremaining: 1m 5s\n",
      "82:\tlearn: 0.0661700\ttotal: 5.96s\tremaining: 1m 5s\n",
      "83:\tlearn: 0.0660610\ttotal: 6.04s\tremaining: 1m 5s\n",
      "84:\tlearn: 0.0660268\ttotal: 6.12s\tremaining: 1m 5s\n",
      "85:\tlearn: 0.0659404\ttotal: 6.19s\tremaining: 1m 5s\n",
      "86:\tlearn: 0.0658705\ttotal: 6.28s\tremaining: 1m 5s\n",
      "87:\tlearn: 0.0658141\ttotal: 6.35s\tremaining: 1m 5s\n",
      "88:\tlearn: 0.0656961\ttotal: 6.42s\tremaining: 1m 5s\n",
      "89:\tlearn: 0.0656003\ttotal: 6.5s\tremaining: 1m 5s\n",
      "90:\tlearn: 0.0654930\ttotal: 6.57s\tremaining: 1m 5s\n",
      "91:\tlearn: 0.0654027\ttotal: 6.65s\tremaining: 1m 5s\n",
      "92:\tlearn: 0.0653562\ttotal: 6.72s\tremaining: 1m 5s\n",
      "93:\tlearn: 0.0653185\ttotal: 6.8s\tremaining: 1m 5s\n",
      "94:\tlearn: 0.0652694\ttotal: 6.88s\tremaining: 1m 5s\n",
      "95:\tlearn: 0.0651452\ttotal: 6.96s\tremaining: 1m 5s\n",
      "96:\tlearn: 0.0650772\ttotal: 7.02s\tremaining: 1m 5s\n",
      "97:\tlearn: 0.0650112\ttotal: 7.09s\tremaining: 1m 5s\n",
      "98:\tlearn: 0.0649680\ttotal: 7.17s\tremaining: 1m 5s\n",
      "99:\tlearn: 0.0649065\ttotal: 7.24s\tremaining: 1m 5s\n",
      "100:\tlearn: 0.0648337\ttotal: 7.31s\tremaining: 1m 5s\n",
      "101:\tlearn: 0.0647825\ttotal: 7.38s\tremaining: 1m 4s\n",
      "102:\tlearn: 0.0647196\ttotal: 7.46s\tremaining: 1m 4s\n",
      "103:\tlearn: 0.0646934\ttotal: 7.53s\tremaining: 1m 4s\n",
      "104:\tlearn: 0.0646567\ttotal: 7.62s\tremaining: 1m 4s\n",
      "105:\tlearn: 0.0645945\ttotal: 7.69s\tremaining: 1m 4s\n",
      "106:\tlearn: 0.0645626\ttotal: 7.75s\tremaining: 1m 4s\n",
      "107:\tlearn: 0.0644956\ttotal: 7.82s\tremaining: 1m 4s\n",
      "108:\tlearn: 0.0644559\ttotal: 7.89s\tremaining: 1m 4s\n",
      "109:\tlearn: 0.0644243\ttotal: 7.97s\tremaining: 1m 4s\n",
      "110:\tlearn: 0.0643221\ttotal: 8.05s\tremaining: 1m 4s\n",
      "111:\tlearn: 0.0642737\ttotal: 8.11s\tremaining: 1m 4s\n",
      "112:\tlearn: 0.0642323\ttotal: 8.19s\tremaining: 1m 4s\n",
      "113:\tlearn: 0.0641877\ttotal: 8.26s\tremaining: 1m 4s\n",
      "114:\tlearn: 0.0641401\ttotal: 8.33s\tremaining: 1m 4s\n",
      "115:\tlearn: 0.0640933\ttotal: 8.4s\tremaining: 1m 4s\n",
      "116:\tlearn: 0.0640519\ttotal: 8.48s\tremaining: 1m 4s\n",
      "117:\tlearn: 0.0640034\ttotal: 8.56s\tremaining: 1m 3s\n",
      "118:\tlearn: 0.0639779\ttotal: 8.62s\tremaining: 1m 3s\n",
      "119:\tlearn: 0.0639618\ttotal: 8.67s\tremaining: 1m 3s\n",
      "120:\tlearn: 0.0639185\ttotal: 8.73s\tremaining: 1m 3s\n",
      "121:\tlearn: 0.0638666\ttotal: 8.8s\tremaining: 1m 3s\n",
      "122:\tlearn: 0.0638257\ttotal: 8.88s\tremaining: 1m 3s\n",
      "123:\tlearn: 0.0637976\ttotal: 8.94s\tremaining: 1m 3s\n",
      "124:\tlearn: 0.0637306\ttotal: 9.02s\tremaining: 1m 3s\n",
      "125:\tlearn: 0.0636852\ttotal: 9.1s\tremaining: 1m 3s\n",
      "126:\tlearn: 0.0636599\ttotal: 9.17s\tremaining: 1m 3s\n",
      "127:\tlearn: 0.0635907\ttotal: 9.26s\tremaining: 1m 3s\n",
      "128:\tlearn: 0.0635070\ttotal: 9.34s\tremaining: 1m 3s\n",
      "129:\tlearn: 0.0634876\ttotal: 9.42s\tremaining: 1m 3s\n",
      "130:\tlearn: 0.0634486\ttotal: 9.5s\tremaining: 1m 2s\n",
      "131:\tlearn: 0.0634125\ttotal: 9.6s\tremaining: 1m 3s\n",
      "132:\tlearn: 0.0633635\ttotal: 9.67s\tremaining: 1m 3s\n",
      "133:\tlearn: 0.0633269\ttotal: 9.74s\tremaining: 1m 2s\n",
      "134:\tlearn: 0.0632988\ttotal: 9.8s\tremaining: 1m 2s\n",
      "135:\tlearn: 0.0632515\ttotal: 9.87s\tremaining: 1m 2s\n",
      "136:\tlearn: 0.0632035\ttotal: 9.95s\tremaining: 1m 2s\n",
      "137:\tlearn: 0.0631539\ttotal: 10s\tremaining: 1m 2s\n",
      "138:\tlearn: 0.0631159\ttotal: 10.1s\tremaining: 1m 2s\n",
      "139:\tlearn: 0.0630765\ttotal: 10.2s\tremaining: 1m 2s\n",
      "140:\tlearn: 0.0630570\ttotal: 10.2s\tremaining: 1m 2s\n",
      "141:\tlearn: 0.0630475\ttotal: 10.3s\tremaining: 1m 2s\n",
      "142:\tlearn: 0.0630316\ttotal: 10.4s\tremaining: 1m 2s\n",
      "143:\tlearn: 0.0630048\ttotal: 10.4s\tremaining: 1m 2s\n",
      "144:\tlearn: 0.0629462\ttotal: 10.5s\tremaining: 1m 1s\n",
      "145:\tlearn: 0.0628645\ttotal: 10.6s\tremaining: 1m 1s\n",
      "146:\tlearn: 0.0628524\ttotal: 10.6s\tremaining: 1m 1s\n",
      "147:\tlearn: 0.0627543\ttotal: 10.7s\tremaining: 1m 1s\n",
      "148:\tlearn: 0.0627156\ttotal: 10.8s\tremaining: 1m 1s\n",
      "149:\tlearn: 0.0626943\ttotal: 10.8s\tremaining: 1m 1s\n",
      "150:\tlearn: 0.0626751\ttotal: 10.9s\tremaining: 1m 1s\n",
      "151:\tlearn: 0.0626546\ttotal: 11s\tremaining: 1m 1s\n",
      "152:\tlearn: 0.0626354\ttotal: 11.1s\tremaining: 1m 1s\n",
      "153:\tlearn: 0.0625970\ttotal: 11.1s\tremaining: 1m 1s\n",
      "154:\tlearn: 0.0625269\ttotal: 11.2s\tremaining: 1m 1s\n",
      "155:\tlearn: 0.0624884\ttotal: 11.3s\tremaining: 1m 1s\n",
      "156:\tlearn: 0.0624799\ttotal: 11.3s\tremaining: 1m\n",
      "157:\tlearn: 0.0624697\ttotal: 11.4s\tremaining: 1m\n",
      "158:\tlearn: 0.0624612\ttotal: 11.4s\tremaining: 1m\n",
      "159:\tlearn: 0.0624347\ttotal: 11.5s\tremaining: 1m\n",
      "160:\tlearn: 0.0624087\ttotal: 11.6s\tremaining: 1m\n",
      "161:\tlearn: 0.0623889\ttotal: 11.6s\tremaining: 1m\n"
     ]
    },
    {
     "name": "stdout",
     "output_type": "stream",
     "text": [
      "162:\tlearn: 0.0623695\ttotal: 11.7s\tremaining: 1m\n",
      "163:\tlearn: 0.0622537\ttotal: 11.8s\tremaining: 1m\n",
      "164:\tlearn: 0.0622041\ttotal: 11.9s\tremaining: 1m\n",
      "165:\tlearn: 0.0621821\ttotal: 12s\tremaining: 1m\n",
      "166:\tlearn: 0.0621472\ttotal: 12s\tremaining: 1m\n",
      "167:\tlearn: 0.0621221\ttotal: 12.1s\tremaining: 60s\n",
      "168:\tlearn: 0.0620873\ttotal: 12.2s\tremaining: 59.9s\n",
      "169:\tlearn: 0.0620647\ttotal: 12.3s\tremaining: 59.9s\n",
      "170:\tlearn: 0.0620446\ttotal: 12.3s\tremaining: 59.8s\n",
      "171:\tlearn: 0.0620150\ttotal: 12.4s\tremaining: 59.7s\n",
      "172:\tlearn: 0.0619586\ttotal: 12.5s\tremaining: 59.7s\n",
      "173:\tlearn: 0.0619509\ttotal: 12.6s\tremaining: 59.6s\n",
      "174:\tlearn: 0.0619355\ttotal: 12.6s\tremaining: 59.6s\n",
      "175:\tlearn: 0.0619191\ttotal: 12.7s\tremaining: 59.5s\n",
      "176:\tlearn: 0.0619038\ttotal: 12.8s\tremaining: 59.4s\n",
      "177:\tlearn: 0.0618516\ttotal: 12.9s\tremaining: 59.4s\n",
      "178:\tlearn: 0.0618265\ttotal: 13s\tremaining: 59.4s\n",
      "179:\tlearn: 0.0617944\ttotal: 13s\tremaining: 59.4s\n",
      "180:\tlearn: 0.0617565\ttotal: 13.1s\tremaining: 59.3s\n",
      "181:\tlearn: 0.0616482\ttotal: 13.2s\tremaining: 59.3s\n",
      "182:\tlearn: 0.0616238\ttotal: 13.3s\tremaining: 59.2s\n",
      "183:\tlearn: 0.0616039\ttotal: 13.3s\tremaining: 59s\n",
      "184:\tlearn: 0.0615767\ttotal: 13.4s\tremaining: 59s\n",
      "185:\tlearn: 0.0615505\ttotal: 13.5s\tremaining: 58.9s\n",
      "186:\tlearn: 0.0614968\ttotal: 13.5s\tremaining: 58.8s\n",
      "187:\tlearn: 0.0614676\ttotal: 13.6s\tremaining: 58.8s\n",
      "188:\tlearn: 0.0614411\ttotal: 13.7s\tremaining: 58.7s\n",
      "189:\tlearn: 0.0614210\ttotal: 13.7s\tremaining: 58.6s\n",
      "190:\tlearn: 0.0613861\ttotal: 13.8s\tremaining: 58.6s\n",
      "191:\tlearn: 0.0613598\ttotal: 13.9s\tremaining: 58.5s\n",
      "192:\tlearn: 0.0613219\ttotal: 14s\tremaining: 58.5s\n",
      "193:\tlearn: 0.0613124\ttotal: 14.1s\tremaining: 58.4s\n",
      "194:\tlearn: 0.0612504\ttotal: 14.1s\tremaining: 58.4s\n",
      "195:\tlearn: 0.0612253\ttotal: 14.2s\tremaining: 58.3s\n",
      "196:\tlearn: 0.0612019\ttotal: 14.3s\tremaining: 58.2s\n",
      "197:\tlearn: 0.0611977\ttotal: 14.3s\tremaining: 58.1s\n",
      "198:\tlearn: 0.0611787\ttotal: 14.4s\tremaining: 58.1s\n",
      "199:\tlearn: 0.0611346\ttotal: 14.5s\tremaining: 58s\n",
      "200:\tlearn: 0.0611190\ttotal: 14.6s\tremaining: 57.9s\n",
      "201:\tlearn: 0.0610886\ttotal: 14.6s\tremaining: 57.8s\n",
      "202:\tlearn: 0.0610694\ttotal: 14.7s\tremaining: 57.7s\n",
      "203:\tlearn: 0.0610624\ttotal: 14.8s\tremaining: 57.7s\n",
      "204:\tlearn: 0.0610164\ttotal: 14.9s\tremaining: 57.7s\n",
      "205:\tlearn: 0.0609883\ttotal: 15s\tremaining: 57.6s\n",
      "206:\tlearn: 0.0609776\ttotal: 15s\tremaining: 57.6s\n",
      "207:\tlearn: 0.0609440\ttotal: 15.1s\tremaining: 57.5s\n",
      "208:\tlearn: 0.0609195\ttotal: 15.1s\tremaining: 57.3s\n",
      "209:\tlearn: 0.0608962\ttotal: 15.2s\tremaining: 57.2s\n",
      "210:\tlearn: 0.0608635\ttotal: 15.3s\tremaining: 57.1s\n",
      "211:\tlearn: 0.0608306\ttotal: 15.4s\tremaining: 57.1s\n",
      "212:\tlearn: 0.0608269\ttotal: 15.4s\tremaining: 57s\n",
      "213:\tlearn: 0.0608014\ttotal: 15.5s\tremaining: 56.9s\n",
      "214:\tlearn: 0.0607718\ttotal: 15.6s\tremaining: 56.8s\n",
      "215:\tlearn: 0.0607613\ttotal: 15.6s\tremaining: 56.6s\n",
      "216:\tlearn: 0.0607295\ttotal: 15.7s\tremaining: 56.6s\n",
      "217:\tlearn: 0.0607066\ttotal: 15.8s\tremaining: 56.6s\n",
      "218:\tlearn: 0.0606691\ttotal: 15.8s\tremaining: 56.4s\n",
      "219:\tlearn: 0.0606348\ttotal: 15.9s\tremaining: 56.4s\n",
      "220:\tlearn: 0.0606149\ttotal: 16s\tremaining: 56.3s\n",
      "221:\tlearn: 0.0605934\ttotal: 16.1s\tremaining: 56.3s\n",
      "222:\tlearn: 0.0605486\ttotal: 16.1s\tremaining: 56.2s\n",
      "223:\tlearn: 0.0605271\ttotal: 16.2s\tremaining: 56.1s\n",
      "224:\tlearn: 0.0605092\ttotal: 16.3s\tremaining: 56s\n",
      "225:\tlearn: 0.0604694\ttotal: 16.3s\tremaining: 56s\n",
      "226:\tlearn: 0.0603916\ttotal: 16.4s\tremaining: 55.9s\n",
      "227:\tlearn: 0.0603529\ttotal: 16.5s\tremaining: 55.9s\n",
      "228:\tlearn: 0.0603183\ttotal: 16.6s\tremaining: 55.8s\n",
      "229:\tlearn: 0.0602893\ttotal: 16.6s\tremaining: 55.7s\n",
      "230:\tlearn: 0.0602796\ttotal: 16.7s\tremaining: 55.7s\n",
      "231:\tlearn: 0.0602551\ttotal: 16.8s\tremaining: 55.6s\n",
      "232:\tlearn: 0.0602394\ttotal: 16.9s\tremaining: 55.5s\n",
      "233:\tlearn: 0.0602157\ttotal: 17s\tremaining: 55.5s\n",
      "234:\tlearn: 0.0601707\ttotal: 17s\tremaining: 55.4s\n",
      "235:\tlearn: 0.0601528\ttotal: 17.1s\tremaining: 55.4s\n",
      "236:\tlearn: 0.0600839\ttotal: 17.2s\tremaining: 55.3s\n",
      "237:\tlearn: 0.0600674\ttotal: 17.3s\tremaining: 55.3s\n",
      "238:\tlearn: 0.0599646\ttotal: 17.3s\tremaining: 55.2s\n",
      "239:\tlearn: 0.0599562\ttotal: 17.4s\tremaining: 55.2s\n",
      "240:\tlearn: 0.0599254\ttotal: 17.5s\tremaining: 55.1s\n",
      "241:\tlearn: 0.0598860\ttotal: 17.6s\tremaining: 55s\n",
      "242:\tlearn: 0.0598678\ttotal: 17.6s\tremaining: 55s\n",
      "243:\tlearn: 0.0598193\ttotal: 17.7s\tremaining: 54.9s\n",
      "244:\tlearn: 0.0597701\ttotal: 17.8s\tremaining: 54.8s\n",
      "245:\tlearn: 0.0597594\ttotal: 17.9s\tremaining: 54.7s\n",
      "246:\tlearn: 0.0597115\ttotal: 18s\tremaining: 54.7s\n",
      "247:\tlearn: 0.0596881\ttotal: 18s\tremaining: 54.7s\n",
      "248:\tlearn: 0.0596677\ttotal: 18.1s\tremaining: 54.6s\n",
      "249:\tlearn: 0.0596187\ttotal: 18.2s\tremaining: 54.5s\n",
      "250:\tlearn: 0.0595648\ttotal: 18.2s\tremaining: 54.5s\n",
      "251:\tlearn: 0.0594919\ttotal: 18.3s\tremaining: 54.4s\n",
      "252:\tlearn: 0.0594624\ttotal: 18.4s\tremaining: 54.3s\n",
      "253:\tlearn: 0.0594565\ttotal: 18.5s\tremaining: 54.2s\n",
      "254:\tlearn: 0.0594126\ttotal: 18.5s\tremaining: 54.1s\n",
      "255:\tlearn: 0.0593791\ttotal: 18.6s\tremaining: 54.1s\n",
      "256:\tlearn: 0.0593501\ttotal: 18.7s\tremaining: 54s\n",
      "257:\tlearn: 0.0593442\ttotal: 18.7s\tremaining: 53.9s\n",
      "258:\tlearn: 0.0592849\ttotal: 18.8s\tremaining: 53.9s\n",
      "259:\tlearn: 0.0592599\ttotal: 18.9s\tremaining: 53.8s\n",
      "260:\tlearn: 0.0592306\ttotal: 19s\tremaining: 53.7s\n",
      "261:\tlearn: 0.0592020\ttotal: 19.1s\tremaining: 53.7s\n",
      "262:\tlearn: 0.0591705\ttotal: 19.1s\tremaining: 53.6s\n",
      "263:\tlearn: 0.0590716\ttotal: 19.2s\tremaining: 53.5s\n",
      "264:\tlearn: 0.0590516\ttotal: 19.3s\tremaining: 53.5s\n",
      "265:\tlearn: 0.0590094\ttotal: 19.4s\tremaining: 53.4s\n",
      "266:\tlearn: 0.0589829\ttotal: 19.4s\tremaining: 53.3s\n",
      "267:\tlearn: 0.0589508\ttotal: 19.5s\tremaining: 53.3s\n",
      "268:\tlearn: 0.0589100\ttotal: 19.6s\tremaining: 53.2s\n",
      "269:\tlearn: 0.0588656\ttotal: 19.6s\tremaining: 53.1s\n",
      "270:\tlearn: 0.0588443\ttotal: 19.7s\tremaining: 53s\n",
      "271:\tlearn: 0.0587929\ttotal: 19.8s\tremaining: 53s\n",
      "272:\tlearn: 0.0587441\ttotal: 19.9s\tremaining: 52.9s\n",
      "273:\tlearn: 0.0586532\ttotal: 19.9s\tremaining: 52.8s\n",
      "274:\tlearn: 0.0586074\ttotal: 20s\tremaining: 52.7s\n",
      "275:\tlearn: 0.0585717\ttotal: 20.1s\tremaining: 52.7s\n",
      "276:\tlearn: 0.0585401\ttotal: 20.1s\tremaining: 52.6s\n",
      "277:\tlearn: 0.0585071\ttotal: 20.2s\tremaining: 52.5s\n",
      "278:\tlearn: 0.0584632\ttotal: 20.3s\tremaining: 52.4s\n",
      "279:\tlearn: 0.0584242\ttotal: 20.4s\tremaining: 52.4s\n",
      "280:\tlearn: 0.0583837\ttotal: 20.5s\tremaining: 52.3s\n",
      "281:\tlearn: 0.0583431\ttotal: 20.5s\tremaining: 52.3s\n",
      "282:\tlearn: 0.0583162\ttotal: 20.6s\tremaining: 52.2s\n",
      "283:\tlearn: 0.0582725\ttotal: 20.7s\tremaining: 52.2s\n",
      "284:\tlearn: 0.0582619\ttotal: 20.8s\tremaining: 52.1s\n",
      "285:\tlearn: 0.0582369\ttotal: 20.9s\tremaining: 52.1s\n",
      "286:\tlearn: 0.0582284\ttotal: 20.9s\tremaining: 52s\n",
      "287:\tlearn: 0.0582036\ttotal: 21s\tremaining: 51.9s\n",
      "288:\tlearn: 0.0581611\ttotal: 21.1s\tremaining: 51.8s\n",
      "289:\tlearn: 0.0581366\ttotal: 21.1s\tremaining: 51.8s\n",
      "290:\tlearn: 0.0581160\ttotal: 21.2s\tremaining: 51.7s\n",
      "291:\tlearn: 0.0581120\ttotal: 21.3s\tremaining: 51.6s\n",
      "292:\tlearn: 0.0580800\ttotal: 21.4s\tremaining: 51.5s\n",
      "293:\tlearn: 0.0580511\ttotal: 21.4s\tremaining: 51.5s\n",
      "294:\tlearn: 0.0580260\ttotal: 21.5s\tremaining: 51.4s\n",
      "295:\tlearn: 0.0579971\ttotal: 21.6s\tremaining: 51.4s\n",
      "296:\tlearn: 0.0579368\ttotal: 21.7s\tremaining: 51.3s\n",
      "297:\tlearn: 0.0579041\ttotal: 21.8s\tremaining: 51.2s\n",
      "298:\tlearn: 0.0578907\ttotal: 21.8s\tremaining: 51.2s\n",
      "299:\tlearn: 0.0578475\ttotal: 21.9s\tremaining: 51.1s\n",
      "300:\tlearn: 0.0578024\ttotal: 22s\tremaining: 51s\n",
      "301:\tlearn: 0.0577757\ttotal: 22s\tremaining: 50.9s\n",
      "302:\tlearn: 0.0577230\ttotal: 22.1s\tremaining: 50.9s\n",
      "303:\tlearn: 0.0577030\ttotal: 22.2s\tremaining: 50.8s\n",
      "304:\tlearn: 0.0577013\ttotal: 22.3s\tremaining: 50.7s\n",
      "305:\tlearn: 0.0576477\ttotal: 22.3s\tremaining: 50.7s\n",
      "306:\tlearn: 0.0576265\ttotal: 22.4s\tremaining: 50.6s\n",
      "307:\tlearn: 0.0576098\ttotal: 22.5s\tremaining: 50.5s\n",
      "308:\tlearn: 0.0575278\ttotal: 22.6s\tremaining: 50.4s\n",
      "309:\tlearn: 0.0574416\ttotal: 22.6s\tremaining: 50.4s\n",
      "310:\tlearn: 0.0574263\ttotal: 22.7s\tremaining: 50.3s\n",
      "311:\tlearn: 0.0573908\ttotal: 22.8s\tremaining: 50.2s\n",
      "312:\tlearn: 0.0573716\ttotal: 22.9s\tremaining: 50.2s\n",
      "313:\tlearn: 0.0573434\ttotal: 22.9s\tremaining: 50.1s\n",
      "314:\tlearn: 0.0573147\ttotal: 23s\tremaining: 50.1s\n",
      "315:\tlearn: 0.0572667\ttotal: 23.1s\tremaining: 50s\n",
      "316:\tlearn: 0.0572372\ttotal: 23.2s\tremaining: 49.9s\n",
      "317:\tlearn: 0.0571898\ttotal: 23.3s\tremaining: 49.9s\n",
      "318:\tlearn: 0.0571860\ttotal: 23.3s\tremaining: 49.8s\n",
      "319:\tlearn: 0.0571349\ttotal: 23.4s\tremaining: 49.7s\n",
      "320:\tlearn: 0.0571077\ttotal: 23.5s\tremaining: 49.6s\n",
      "321:\tlearn: 0.0570705\ttotal: 23.5s\tremaining: 49.6s\n",
      "322:\tlearn: 0.0570655\ttotal: 23.6s\tremaining: 49.5s\n"
     ]
    },
    {
     "name": "stdout",
     "output_type": "stream",
     "text": [
      "323:\tlearn: 0.0570203\ttotal: 23.7s\tremaining: 49.5s\n",
      "324:\tlearn: 0.0569765\ttotal: 23.8s\tremaining: 49.4s\n",
      "325:\tlearn: 0.0569446\ttotal: 23.9s\tremaining: 49.3s\n",
      "326:\tlearn: 0.0568961\ttotal: 23.9s\tremaining: 49.2s\n",
      "327:\tlearn: 0.0568908\ttotal: 24s\tremaining: 49.2s\n",
      "328:\tlearn: 0.0568651\ttotal: 24.1s\tremaining: 49.1s\n",
      "329:\tlearn: 0.0568648\ttotal: 24.1s\tremaining: 49s\n",
      "330:\tlearn: 0.0568313\ttotal: 24.2s\tremaining: 48.9s\n",
      "331:\tlearn: 0.0567728\ttotal: 24.3s\tremaining: 48.8s\n",
      "332:\tlearn: 0.0567497\ttotal: 24.4s\tremaining: 48.8s\n",
      "333:\tlearn: 0.0567109\ttotal: 24.4s\tremaining: 48.7s\n",
      "334:\tlearn: 0.0566492\ttotal: 24.5s\tremaining: 48.6s\n",
      "335:\tlearn: 0.0566170\ttotal: 24.6s\tremaining: 48.6s\n",
      "336:\tlearn: 0.0565783\ttotal: 24.6s\tremaining: 48.5s\n",
      "337:\tlearn: 0.0565615\ttotal: 24.7s\tremaining: 48.4s\n",
      "338:\tlearn: 0.0565342\ttotal: 24.8s\tremaining: 48.3s\n",
      "339:\tlearn: 0.0565009\ttotal: 24.9s\tremaining: 48.2s\n",
      "340:\tlearn: 0.0564574\ttotal: 24.9s\tremaining: 48.2s\n",
      "341:\tlearn: 0.0564426\ttotal: 25s\tremaining: 48.1s\n",
      "342:\tlearn: 0.0564415\ttotal: 25.1s\tremaining: 48.1s\n",
      "343:\tlearn: 0.0564190\ttotal: 25.2s\tremaining: 48s\n",
      "344:\tlearn: 0.0563719\ttotal: 25.2s\tremaining: 47.9s\n",
      "345:\tlearn: 0.0563363\ttotal: 25.3s\tremaining: 47.8s\n",
      "346:\tlearn: 0.0562965\ttotal: 25.4s\tremaining: 47.8s\n",
      "347:\tlearn: 0.0562717\ttotal: 25.5s\tremaining: 47.7s\n",
      "348:\tlearn: 0.0562116\ttotal: 25.5s\tremaining: 47.6s\n",
      "349:\tlearn: 0.0561986\ttotal: 25.6s\tremaining: 47.6s\n",
      "350:\tlearn: 0.0561408\ttotal: 25.7s\tremaining: 47.5s\n",
      "351:\tlearn: 0.0561157\ttotal: 25.8s\tremaining: 47.4s\n",
      "352:\tlearn: 0.0560827\ttotal: 25.8s\tremaining: 47.3s\n",
      "353:\tlearn: 0.0560300\ttotal: 25.9s\tremaining: 47.2s\n",
      "354:\tlearn: 0.0559521\ttotal: 26s\tremaining: 47.2s\n",
      "355:\tlearn: 0.0559303\ttotal: 26s\tremaining: 47.1s\n",
      "356:\tlearn: 0.0559036\ttotal: 26.1s\tremaining: 47s\n",
      "357:\tlearn: 0.0558503\ttotal: 26.2s\tremaining: 47s\n",
      "358:\tlearn: 0.0557981\ttotal: 26.3s\tremaining: 46.9s\n",
      "359:\tlearn: 0.0557646\ttotal: 26.3s\tremaining: 46.8s\n",
      "360:\tlearn: 0.0557282\ttotal: 26.4s\tremaining: 46.8s\n",
      "361:\tlearn: 0.0557052\ttotal: 26.5s\tremaining: 46.7s\n",
      "362:\tlearn: 0.0556826\ttotal: 26.6s\tremaining: 46.6s\n",
      "363:\tlearn: 0.0555874\ttotal: 26.6s\tremaining: 46.6s\n",
      "364:\tlearn: 0.0555447\ttotal: 26.7s\tremaining: 46.5s\n",
      "365:\tlearn: 0.0555268\ttotal: 26.8s\tremaining: 46.4s\n",
      "366:\tlearn: 0.0554944\ttotal: 26.9s\tremaining: 46.4s\n",
      "367:\tlearn: 0.0554777\ttotal: 27s\tremaining: 46.3s\n",
      "368:\tlearn: 0.0554366\ttotal: 27s\tremaining: 46.2s\n",
      "369:\tlearn: 0.0554097\ttotal: 27.1s\tremaining: 46.2s\n",
      "370:\tlearn: 0.0553852\ttotal: 27.2s\tremaining: 46.1s\n",
      "371:\tlearn: 0.0553515\ttotal: 27.3s\tremaining: 46s\n",
      "372:\tlearn: 0.0553413\ttotal: 27.3s\tremaining: 46s\n",
      "373:\tlearn: 0.0553344\ttotal: 27.4s\tremaining: 45.9s\n",
      "374:\tlearn: 0.0553333\ttotal: 27.5s\tremaining: 45.8s\n",
      "375:\tlearn: 0.0553014\ttotal: 27.6s\tremaining: 45.8s\n",
      "376:\tlearn: 0.0552810\ttotal: 27.7s\tremaining: 45.7s\n",
      "377:\tlearn: 0.0552536\ttotal: 27.7s\tremaining: 45.6s\n",
      "378:\tlearn: 0.0552156\ttotal: 27.8s\tremaining: 45.5s\n",
      "379:\tlearn: 0.0552030\ttotal: 27.9s\tremaining: 45.5s\n",
      "380:\tlearn: 0.0551704\ttotal: 27.9s\tremaining: 45.4s\n",
      "381:\tlearn: 0.0551674\ttotal: 28s\tremaining: 45.3s\n",
      "382:\tlearn: 0.0551556\ttotal: 28.1s\tremaining: 45.2s\n",
      "383:\tlearn: 0.0551027\ttotal: 28.2s\tremaining: 45.2s\n",
      "384:\tlearn: 0.0550742\ttotal: 28.2s\tremaining: 45.1s\n",
      "385:\tlearn: 0.0550460\ttotal: 28.3s\tremaining: 45s\n",
      "386:\tlearn: 0.0550206\ttotal: 28.4s\tremaining: 45s\n",
      "387:\tlearn: 0.0550109\ttotal: 28.5s\tremaining: 44.9s\n",
      "388:\tlearn: 0.0549573\ttotal: 28.5s\tremaining: 44.8s\n",
      "389:\tlearn: 0.0548994\ttotal: 28.6s\tremaining: 44.7s\n",
      "390:\tlearn: 0.0548209\ttotal: 28.7s\tremaining: 44.7s\n",
      "391:\tlearn: 0.0548101\ttotal: 28.7s\tremaining: 44.6s\n",
      "392:\tlearn: 0.0547199\ttotal: 28.8s\tremaining: 44.5s\n",
      "393:\tlearn: 0.0546901\ttotal: 28.9s\tremaining: 44.5s\n",
      "394:\tlearn: 0.0546472\ttotal: 29s\tremaining: 44.4s\n",
      "395:\tlearn: 0.0546279\ttotal: 29.1s\tremaining: 44.3s\n",
      "396:\tlearn: 0.0545973\ttotal: 29.1s\tremaining: 44.3s\n",
      "397:\tlearn: 0.0545649\ttotal: 29.2s\tremaining: 44.2s\n",
      "398:\tlearn: 0.0545318\ttotal: 29.3s\tremaining: 44.1s\n",
      "399:\tlearn: 0.0545170\ttotal: 29.4s\tremaining: 44.1s\n",
      "400:\tlearn: 0.0544703\ttotal: 29.5s\tremaining: 44s\n",
      "401:\tlearn: 0.0544313\ttotal: 29.5s\tremaining: 43.9s\n",
      "402:\tlearn: 0.0543654\ttotal: 29.6s\tremaining: 43.9s\n",
      "403:\tlearn: 0.0543407\ttotal: 29.7s\tremaining: 43.8s\n",
      "404:\tlearn: 0.0543074\ttotal: 29.8s\tremaining: 43.7s\n",
      "405:\tlearn: 0.0542604\ttotal: 29.8s\tremaining: 43.7s\n",
      "406:\tlearn: 0.0542177\ttotal: 29.9s\tremaining: 43.6s\n",
      "407:\tlearn: 0.0542005\ttotal: 30s\tremaining: 43.5s\n",
      "408:\tlearn: 0.0541683\ttotal: 30.1s\tremaining: 43.5s\n",
      "409:\tlearn: 0.0541225\ttotal: 30.1s\tremaining: 43.4s\n",
      "410:\tlearn: 0.0541179\ttotal: 30.2s\tremaining: 43.3s\n",
      "411:\tlearn: 0.0541020\ttotal: 30.3s\tremaining: 43.3s\n",
      "412:\tlearn: 0.0541009\ttotal: 30.4s\tremaining: 43.2s\n",
      "413:\tlearn: 0.0540951\ttotal: 30.4s\tremaining: 43.1s\n",
      "414:\tlearn: 0.0540937\ttotal: 30.5s\tremaining: 43s\n",
      "415:\tlearn: 0.0540736\ttotal: 30.6s\tremaining: 42.9s\n",
      "416:\tlearn: 0.0540395\ttotal: 30.7s\tremaining: 42.9s\n",
      "417:\tlearn: 0.0540059\ttotal: 30.8s\tremaining: 42.8s\n",
      "418:\tlearn: 0.0539779\ttotal: 30.8s\tremaining: 42.8s\n",
      "419:\tlearn: 0.0539531\ttotal: 30.9s\tremaining: 42.7s\n",
      "420:\tlearn: 0.0539415\ttotal: 31s\tremaining: 42.6s\n",
      "421:\tlearn: 0.0539151\ttotal: 31.1s\tremaining: 42.5s\n",
      "422:\tlearn: 0.0539147\ttotal: 31.1s\tremaining: 42.5s\n",
      "423:\tlearn: 0.0538788\ttotal: 31.2s\tremaining: 42.4s\n",
      "424:\tlearn: 0.0538525\ttotal: 31.3s\tremaining: 42.3s\n",
      "425:\tlearn: 0.0538178\ttotal: 31.3s\tremaining: 42.2s\n",
      "426:\tlearn: 0.0537796\ttotal: 31.4s\tremaining: 42.2s\n",
      "427:\tlearn: 0.0537391\ttotal: 31.5s\tremaining: 42.1s\n",
      "428:\tlearn: 0.0536992\ttotal: 31.6s\tremaining: 42s\n",
      "429:\tlearn: 0.0536349\ttotal: 31.6s\tremaining: 41.9s\n",
      "430:\tlearn: 0.0536182\ttotal: 31.7s\tremaining: 41.9s\n",
      "431:\tlearn: 0.0535768\ttotal: 31.8s\tremaining: 41.8s\n",
      "432:\tlearn: 0.0535451\ttotal: 31.9s\tremaining: 41.7s\n",
      "433:\tlearn: 0.0535350\ttotal: 31.9s\tremaining: 41.7s\n",
      "434:\tlearn: 0.0535116\ttotal: 32s\tremaining: 41.6s\n",
      "435:\tlearn: 0.0534750\ttotal: 32.1s\tremaining: 41.5s\n",
      "436:\tlearn: 0.0534427\ttotal: 32.2s\tremaining: 41.5s\n",
      "437:\tlearn: 0.0534370\ttotal: 32.3s\tremaining: 41.4s\n",
      "438:\tlearn: 0.0534263\ttotal: 32.3s\tremaining: 41.3s\n",
      "439:\tlearn: 0.0534085\ttotal: 32.4s\tremaining: 41.3s\n",
      "440:\tlearn: 0.0533884\ttotal: 32.5s\tremaining: 41.2s\n",
      "441:\tlearn: 0.0533643\ttotal: 32.6s\tremaining: 41.1s\n",
      "442:\tlearn: 0.0533607\ttotal: 32.6s\tremaining: 41s\n",
      "443:\tlearn: 0.0533524\ttotal: 32.7s\tremaining: 41s\n",
      "444:\tlearn: 0.0533262\ttotal: 32.8s\tremaining: 40.9s\n",
      "445:\tlearn: 0.0533028\ttotal: 32.8s\tremaining: 40.8s\n",
      "446:\tlearn: 0.0532804\ttotal: 32.9s\tremaining: 40.7s\n",
      "447:\tlearn: 0.0532623\ttotal: 33s\tremaining: 40.6s\n",
      "448:\tlearn: 0.0532618\ttotal: 33.1s\tremaining: 40.6s\n",
      "449:\tlearn: 0.0532437\ttotal: 33.1s\tremaining: 40.5s\n",
      "450:\tlearn: 0.0532145\ttotal: 33.2s\tremaining: 40.5s\n",
      "451:\tlearn: 0.0532076\ttotal: 33.3s\tremaining: 40.4s\n",
      "452:\tlearn: 0.0531673\ttotal: 33.4s\tremaining: 40.3s\n",
      "453:\tlearn: 0.0531571\ttotal: 33.5s\tremaining: 40.2s\n",
      "454:\tlearn: 0.0531160\ttotal: 33.5s\tremaining: 40.2s\n",
      "455:\tlearn: 0.0531157\ttotal: 33.6s\tremaining: 40.1s\n",
      "456:\tlearn: 0.0530873\ttotal: 33.7s\tremaining: 40s\n",
      "457:\tlearn: 0.0530519\ttotal: 33.7s\tremaining: 39.9s\n",
      "458:\tlearn: 0.0530335\ttotal: 33.8s\tremaining: 39.9s\n",
      "459:\tlearn: 0.0530240\ttotal: 33.9s\tremaining: 39.8s\n",
      "460:\tlearn: 0.0530196\ttotal: 34s\tremaining: 39.7s\n",
      "461:\tlearn: 0.0529944\ttotal: 34s\tremaining: 39.6s\n",
      "462:\tlearn: 0.0529447\ttotal: 34.1s\tremaining: 39.6s\n",
      "463:\tlearn: 0.0529201\ttotal: 34.2s\tremaining: 39.5s\n",
      "464:\tlearn: 0.0529162\ttotal: 34.2s\tremaining: 39.4s\n",
      "465:\tlearn: 0.0528965\ttotal: 34.3s\tremaining: 39.3s\n",
      "466:\tlearn: 0.0528842\ttotal: 34.4s\tremaining: 39.3s\n",
      "467:\tlearn: 0.0528814\ttotal: 34.5s\tremaining: 39.2s\n",
      "468:\tlearn: 0.0528646\ttotal: 34.5s\tremaining: 39.1s\n",
      "469:\tlearn: 0.0528419\ttotal: 34.6s\tremaining: 39s\n",
      "470:\tlearn: 0.0528231\ttotal: 34.7s\tremaining: 39s\n",
      "471:\tlearn: 0.0527865\ttotal: 34.8s\tremaining: 38.9s\n",
      "472:\tlearn: 0.0527689\ttotal: 34.8s\tremaining: 38.8s\n",
      "473:\tlearn: 0.0527413\ttotal: 34.9s\tremaining: 38.8s\n",
      "474:\tlearn: 0.0526925\ttotal: 35s\tremaining: 38.7s\n",
      "475:\tlearn: 0.0526505\ttotal: 35.1s\tremaining: 38.6s\n",
      "476:\tlearn: 0.0526315\ttotal: 35.2s\tremaining: 38.5s\n",
      "477:\tlearn: 0.0526140\ttotal: 35.2s\tremaining: 38.5s\n",
      "478:\tlearn: 0.0525904\ttotal: 35.3s\tremaining: 38.4s\n",
      "479:\tlearn: 0.0525386\ttotal: 35.4s\tremaining: 38.3s\n",
      "480:\tlearn: 0.0525279\ttotal: 35.5s\tremaining: 38.3s\n",
      "481:\tlearn: 0.0525156\ttotal: 35.6s\tremaining: 38.2s\n",
      "482:\tlearn: 0.0524739\ttotal: 35.6s\tremaining: 38.1s\n"
     ]
    },
    {
     "name": "stdout",
     "output_type": "stream",
     "text": [
      "483:\tlearn: 0.0524637\ttotal: 35.7s\tremaining: 38.1s\n",
      "484:\tlearn: 0.0524526\ttotal: 35.8s\tremaining: 38s\n",
      "485:\tlearn: 0.0524183\ttotal: 35.8s\tremaining: 37.9s\n",
      "486:\tlearn: 0.0523332\ttotal: 35.9s\tremaining: 37.8s\n",
      "487:\tlearn: 0.0522913\ttotal: 36s\tremaining: 37.8s\n",
      "488:\tlearn: 0.0522739\ttotal: 36.1s\tremaining: 37.7s\n",
      "489:\tlearn: 0.0522405\ttotal: 36.1s\tremaining: 37.6s\n",
      "490:\tlearn: 0.0522226\ttotal: 36.2s\tremaining: 37.5s\n",
      "491:\tlearn: 0.0521958\ttotal: 36.3s\tremaining: 37.5s\n",
      "492:\tlearn: 0.0521752\ttotal: 36.4s\tremaining: 37.4s\n",
      "493:\tlearn: 0.0521395\ttotal: 36.4s\tremaining: 37.3s\n",
      "494:\tlearn: 0.0521030\ttotal: 36.5s\tremaining: 37.2s\n",
      "495:\tlearn: 0.0520806\ttotal: 36.6s\tremaining: 37.2s\n",
      "496:\tlearn: 0.0520579\ttotal: 36.7s\tremaining: 37.1s\n",
      "497:\tlearn: 0.0520527\ttotal: 36.7s\tremaining: 37s\n",
      "498:\tlearn: 0.0520458\ttotal: 36.8s\tremaining: 37s\n",
      "499:\tlearn: 0.0520443\ttotal: 36.9s\tremaining: 36.9s\n",
      "500:\tlearn: 0.0520415\ttotal: 36.9s\tremaining: 36.8s\n",
      "501:\tlearn: 0.0520096\ttotal: 37s\tremaining: 36.7s\n",
      "502:\tlearn: 0.0519666\ttotal: 37.1s\tremaining: 36.7s\n",
      "503:\tlearn: 0.0519467\ttotal: 37.2s\tremaining: 36.6s\n",
      "504:\tlearn: 0.0519356\ttotal: 37.3s\tremaining: 36.5s\n",
      "505:\tlearn: 0.0519267\ttotal: 37.3s\tremaining: 36.4s\n",
      "506:\tlearn: 0.0519062\ttotal: 37.4s\tremaining: 36.4s\n",
      "507:\tlearn: 0.0518839\ttotal: 37.5s\tremaining: 36.3s\n",
      "508:\tlearn: 0.0518368\ttotal: 37.5s\tremaining: 36.2s\n",
      "509:\tlearn: 0.0518345\ttotal: 37.6s\tremaining: 36.1s\n",
      "510:\tlearn: 0.0518343\ttotal: 37.7s\tremaining: 36.1s\n",
      "511:\tlearn: 0.0518084\ttotal: 37.7s\tremaining: 36s\n",
      "512:\tlearn: 0.0518016\ttotal: 37.8s\tremaining: 35.9s\n",
      "513:\tlearn: 0.0517816\ttotal: 37.9s\tremaining: 35.8s\n",
      "514:\tlearn: 0.0517693\ttotal: 38s\tremaining: 35.8s\n",
      "515:\tlearn: 0.0517195\ttotal: 38.1s\tremaining: 35.7s\n",
      "516:\tlearn: 0.0517122\ttotal: 38.1s\tremaining: 35.6s\n",
      "517:\tlearn: 0.0517017\ttotal: 38.2s\tremaining: 35.6s\n",
      "518:\tlearn: 0.0516782\ttotal: 38.3s\tremaining: 35.5s\n",
      "519:\tlearn: 0.0516518\ttotal: 38.4s\tremaining: 35.4s\n",
      "520:\tlearn: 0.0516360\ttotal: 38.4s\tremaining: 35.3s\n",
      "521:\tlearn: 0.0516101\ttotal: 38.5s\tremaining: 35.3s\n",
      "522:\tlearn: 0.0516091\ttotal: 38.6s\tremaining: 35.2s\n",
      "523:\tlearn: 0.0515682\ttotal: 38.7s\tremaining: 35.1s\n",
      "524:\tlearn: 0.0515324\ttotal: 38.7s\tremaining: 35s\n",
      "525:\tlearn: 0.0515318\ttotal: 38.8s\tremaining: 35s\n",
      "526:\tlearn: 0.0514981\ttotal: 38.9s\tremaining: 34.9s\n",
      "527:\tlearn: 0.0514837\ttotal: 39s\tremaining: 34.8s\n",
      "528:\tlearn: 0.0514760\ttotal: 39s\tremaining: 34.8s\n",
      "529:\tlearn: 0.0514498\ttotal: 39.1s\tremaining: 34.7s\n",
      "530:\tlearn: 0.0514173\ttotal: 39.2s\tremaining: 34.6s\n",
      "531:\tlearn: 0.0513990\ttotal: 39.3s\tremaining: 34.6s\n",
      "532:\tlearn: 0.0513703\ttotal: 39.4s\tremaining: 34.5s\n",
      "533:\tlearn: 0.0513386\ttotal: 39.4s\tremaining: 34.4s\n",
      "534:\tlearn: 0.0513271\ttotal: 39.5s\tremaining: 34.3s\n",
      "535:\tlearn: 0.0512995\ttotal: 39.6s\tremaining: 34.3s\n",
      "536:\tlearn: 0.0512536\ttotal: 39.7s\tremaining: 34.2s\n",
      "537:\tlearn: 0.0512007\ttotal: 39.7s\tremaining: 34.1s\n",
      "538:\tlearn: 0.0511862\ttotal: 39.8s\tremaining: 34.1s\n",
      "539:\tlearn: 0.0511588\ttotal: 39.9s\tremaining: 34s\n",
      "540:\tlearn: 0.0511178\ttotal: 40s\tremaining: 33.9s\n",
      "541:\tlearn: 0.0511104\ttotal: 40s\tremaining: 33.8s\n",
      "542:\tlearn: 0.0510892\ttotal: 40.1s\tremaining: 33.8s\n",
      "543:\tlearn: 0.0510870\ttotal: 40.2s\tremaining: 33.7s\n",
      "544:\tlearn: 0.0510825\ttotal: 40.3s\tremaining: 33.6s\n",
      "545:\tlearn: 0.0510695\ttotal: 40.3s\tremaining: 33.5s\n",
      "546:\tlearn: 0.0510556\ttotal: 40.4s\tremaining: 33.5s\n",
      "547:\tlearn: 0.0510424\ttotal: 40.5s\tremaining: 33.4s\n",
      "548:\tlearn: 0.0510328\ttotal: 40.5s\tremaining: 33.3s\n",
      "549:\tlearn: 0.0509946\ttotal: 40.6s\tremaining: 33.2s\n",
      "550:\tlearn: 0.0509898\ttotal: 40.7s\tremaining: 33.2s\n",
      "551:\tlearn: 0.0509242\ttotal: 40.8s\tremaining: 33.1s\n",
      "552:\tlearn: 0.0509237\ttotal: 40.9s\tremaining: 33s\n",
      "553:\tlearn: 0.0509199\ttotal: 40.9s\tremaining: 32.9s\n",
      "554:\tlearn: 0.0508800\ttotal: 41s\tremaining: 32.9s\n",
      "555:\tlearn: 0.0508696\ttotal: 41.1s\tremaining: 32.8s\n",
      "556:\tlearn: 0.0508547\ttotal: 41.2s\tremaining: 32.7s\n",
      "557:\tlearn: 0.0508371\ttotal: 41.2s\tremaining: 32.7s\n",
      "558:\tlearn: 0.0508238\ttotal: 41.3s\tremaining: 32.6s\n",
      "559:\tlearn: 0.0508101\ttotal: 41.4s\tremaining: 32.5s\n",
      "560:\tlearn: 0.0507740\ttotal: 41.4s\tremaining: 32.4s\n",
      "561:\tlearn: 0.0507347\ttotal: 41.5s\tremaining: 32.4s\n",
      "562:\tlearn: 0.0507308\ttotal: 41.6s\tremaining: 32.3s\n",
      "563:\tlearn: 0.0507074\ttotal: 41.7s\tremaining: 32.2s\n",
      "564:\tlearn: 0.0506858\ttotal: 41.7s\tremaining: 32.1s\n",
      "565:\tlearn: 0.0506671\ttotal: 41.8s\tremaining: 32.1s\n",
      "566:\tlearn: 0.0506561\ttotal: 41.9s\tremaining: 32s\n",
      "567:\tlearn: 0.0506374\ttotal: 42s\tremaining: 31.9s\n",
      "568:\tlearn: 0.0506271\ttotal: 42s\tremaining: 31.8s\n",
      "569:\tlearn: 0.0506091\ttotal: 42.1s\tremaining: 31.8s\n",
      "570:\tlearn: 0.0505976\ttotal: 42.2s\tremaining: 31.7s\n",
      "571:\tlearn: 0.0505817\ttotal: 42.2s\tremaining: 31.6s\n",
      "572:\tlearn: 0.0505780\ttotal: 42.3s\tremaining: 31.5s\n",
      "573:\tlearn: 0.0505685\ttotal: 42.4s\tremaining: 31.5s\n",
      "574:\tlearn: 0.0505447\ttotal: 42.5s\tremaining: 31.4s\n",
      "575:\tlearn: 0.0505193\ttotal: 42.5s\tremaining: 31.3s\n",
      "576:\tlearn: 0.0505141\ttotal: 42.6s\tremaining: 31.2s\n",
      "577:\tlearn: 0.0505011\ttotal: 42.7s\tremaining: 31.2s\n",
      "578:\tlearn: 0.0504846\ttotal: 42.8s\tremaining: 31.1s\n",
      "579:\tlearn: 0.0504627\ttotal: 42.9s\tremaining: 31s\n",
      "580:\tlearn: 0.0504414\ttotal: 42.9s\tremaining: 31s\n",
      "581:\tlearn: 0.0504218\ttotal: 43s\tremaining: 30.9s\n",
      "582:\tlearn: 0.0503871\ttotal: 43.1s\tremaining: 30.8s\n",
      "583:\tlearn: 0.0503633\ttotal: 43.2s\tremaining: 30.8s\n",
      "584:\tlearn: 0.0503537\ttotal: 43.3s\tremaining: 30.7s\n",
      "585:\tlearn: 0.0503357\ttotal: 43.3s\tremaining: 30.6s\n",
      "586:\tlearn: 0.0503096\ttotal: 43.4s\tremaining: 30.5s\n",
      "587:\tlearn: 0.0502969\ttotal: 43.5s\tremaining: 30.5s\n",
      "588:\tlearn: 0.0502917\ttotal: 43.5s\tremaining: 30.4s\n",
      "589:\tlearn: 0.0502721\ttotal: 43.6s\tremaining: 30.3s\n",
      "590:\tlearn: 0.0502691\ttotal: 43.7s\tremaining: 30.2s\n",
      "591:\tlearn: 0.0502644\ttotal: 43.8s\tremaining: 30.2s\n",
      "592:\tlearn: 0.0502439\ttotal: 43.8s\tremaining: 30.1s\n",
      "593:\tlearn: 0.0502173\ttotal: 43.9s\tremaining: 30s\n",
      "594:\tlearn: 0.0502136\ttotal: 44s\tremaining: 29.9s\n",
      "595:\tlearn: 0.0501829\ttotal: 44.1s\tremaining: 29.9s\n",
      "596:\tlearn: 0.0501732\ttotal: 44.1s\tremaining: 29.8s\n",
      "597:\tlearn: 0.0501614\ttotal: 44.2s\tremaining: 29.7s\n",
      "598:\tlearn: 0.0501592\ttotal: 44.3s\tremaining: 29.6s\n",
      "599:\tlearn: 0.0501374\ttotal: 44.4s\tremaining: 29.6s\n",
      "600:\tlearn: 0.0501105\ttotal: 44.4s\tremaining: 29.5s\n",
      "601:\tlearn: 0.0500771\ttotal: 44.5s\tremaining: 29.4s\n",
      "602:\tlearn: 0.0500462\ttotal: 44.6s\tremaining: 29.3s\n",
      "603:\tlearn: 0.0500253\ttotal: 44.6s\tremaining: 29.3s\n",
      "604:\tlearn: 0.0500233\ttotal: 44.7s\tremaining: 29.2s\n",
      "605:\tlearn: 0.0500091\ttotal: 44.8s\tremaining: 29.1s\n",
      "606:\tlearn: 0.0499594\ttotal: 44.9s\tremaining: 29s\n",
      "607:\tlearn: 0.0499505\ttotal: 44.9s\tremaining: 29s\n",
      "608:\tlearn: 0.0499430\ttotal: 45s\tremaining: 28.9s\n",
      "609:\tlearn: 0.0499405\ttotal: 45.1s\tremaining: 28.8s\n",
      "610:\tlearn: 0.0499278\ttotal: 45.1s\tremaining: 28.7s\n",
      "611:\tlearn: 0.0499048\ttotal: 45.2s\tremaining: 28.7s\n",
      "612:\tlearn: 0.0498746\ttotal: 45.3s\tremaining: 28.6s\n",
      "613:\tlearn: 0.0498656\ttotal: 45.4s\tremaining: 28.5s\n",
      "614:\tlearn: 0.0498514\ttotal: 45.5s\tremaining: 28.5s\n",
      "615:\tlearn: 0.0498484\ttotal: 45.5s\tremaining: 28.4s\n",
      "616:\tlearn: 0.0498252\ttotal: 45.6s\tremaining: 28.3s\n",
      "617:\tlearn: 0.0498080\ttotal: 45.7s\tremaining: 28.2s\n",
      "618:\tlearn: 0.0497768\ttotal: 45.8s\tremaining: 28.2s\n",
      "619:\tlearn: 0.0497571\ttotal: 45.8s\tremaining: 28.1s\n",
      "620:\tlearn: 0.0497483\ttotal: 45.9s\tremaining: 28s\n",
      "621:\tlearn: 0.0497245\ttotal: 46s\tremaining: 28s\n",
      "622:\tlearn: 0.0497207\ttotal: 46.1s\tremaining: 27.9s\n",
      "623:\tlearn: 0.0497117\ttotal: 46.1s\tremaining: 27.8s\n",
      "624:\tlearn: 0.0496817\ttotal: 46.2s\tremaining: 27.7s\n",
      "625:\tlearn: 0.0496684\ttotal: 46.3s\tremaining: 27.7s\n",
      "626:\tlearn: 0.0496488\ttotal: 46.4s\tremaining: 27.6s\n",
      "627:\tlearn: 0.0496015\ttotal: 46.4s\tremaining: 27.5s\n",
      "628:\tlearn: 0.0495779\ttotal: 46.5s\tremaining: 27.4s\n",
      "629:\tlearn: 0.0495564\ttotal: 46.6s\tremaining: 27.4s\n",
      "630:\tlearn: 0.0495455\ttotal: 46.7s\tremaining: 27.3s\n",
      "631:\tlearn: 0.0495360\ttotal: 46.8s\tremaining: 27.2s\n",
      "632:\tlearn: 0.0495015\ttotal: 46.8s\tremaining: 27.2s\n",
      "633:\tlearn: 0.0494916\ttotal: 46.9s\tremaining: 27.1s\n",
      "634:\tlearn: 0.0494231\ttotal: 47s\tremaining: 27s\n",
      "635:\tlearn: 0.0494092\ttotal: 47s\tremaining: 26.9s\n",
      "636:\tlearn: 0.0493636\ttotal: 47.1s\tremaining: 26.9s\n",
      "637:\tlearn: 0.0493578\ttotal: 47.2s\tremaining: 26.8s\n",
      "638:\tlearn: 0.0493411\ttotal: 47.3s\tremaining: 26.7s\n",
      "639:\tlearn: 0.0493342\ttotal: 47.4s\tremaining: 26.6s\n",
      "640:\tlearn: 0.0493265\ttotal: 47.4s\tremaining: 26.6s\n",
      "641:\tlearn: 0.0493088\ttotal: 47.5s\tremaining: 26.5s\n"
     ]
    },
    {
     "name": "stdout",
     "output_type": "stream",
     "text": [
      "642:\tlearn: 0.0493031\ttotal: 47.6s\tremaining: 26.4s\n",
      "643:\tlearn: 0.0492933\ttotal: 47.6s\tremaining: 26.3s\n",
      "644:\tlearn: 0.0492807\ttotal: 47.7s\tremaining: 26.3s\n",
      "645:\tlearn: 0.0492488\ttotal: 47.8s\tremaining: 26.2s\n",
      "646:\tlearn: 0.0492448\ttotal: 47.8s\tremaining: 26.1s\n",
      "647:\tlearn: 0.0492056\ttotal: 47.9s\tremaining: 26s\n",
      "648:\tlearn: 0.0491722\ttotal: 48s\tremaining: 26s\n",
      "649:\tlearn: 0.0491683\ttotal: 48.1s\tremaining: 25.9s\n",
      "650:\tlearn: 0.0491604\ttotal: 48.2s\tremaining: 25.8s\n",
      "651:\tlearn: 0.0491591\ttotal: 48.2s\tremaining: 25.7s\n",
      "652:\tlearn: 0.0491553\ttotal: 48.3s\tremaining: 25.7s\n",
      "653:\tlearn: 0.0491538\ttotal: 48.4s\tremaining: 25.6s\n",
      "654:\tlearn: 0.0491241\ttotal: 48.5s\tremaining: 25.5s\n",
      "655:\tlearn: 0.0490836\ttotal: 48.6s\tremaining: 25.5s\n",
      "656:\tlearn: 0.0490676\ttotal: 48.6s\tremaining: 25.4s\n",
      "657:\tlearn: 0.0490555\ttotal: 48.7s\tremaining: 25.3s\n",
      "658:\tlearn: 0.0490360\ttotal: 48.8s\tremaining: 25.2s\n",
      "659:\tlearn: 0.0490216\ttotal: 48.9s\tremaining: 25.2s\n",
      "660:\tlearn: 0.0490058\ttotal: 48.9s\tremaining: 25.1s\n",
      "661:\tlearn: 0.0489630\ttotal: 49s\tremaining: 25s\n",
      "662:\tlearn: 0.0489394\ttotal: 49.1s\tremaining: 25s\n",
      "663:\tlearn: 0.0489331\ttotal: 49.2s\tremaining: 24.9s\n",
      "664:\tlearn: 0.0489190\ttotal: 49.3s\tremaining: 24.8s\n",
      "665:\tlearn: 0.0489078\ttotal: 49.3s\tremaining: 24.7s\n",
      "666:\tlearn: 0.0489065\ttotal: 49.4s\tremaining: 24.7s\n",
      "667:\tlearn: 0.0489028\ttotal: 49.5s\tremaining: 24.6s\n",
      "668:\tlearn: 0.0488717\ttotal: 49.5s\tremaining: 24.5s\n",
      "669:\tlearn: 0.0488588\ttotal: 49.6s\tremaining: 24.4s\n",
      "670:\tlearn: 0.0488253\ttotal: 49.7s\tremaining: 24.4s\n",
      "671:\tlearn: 0.0488148\ttotal: 49.8s\tremaining: 24.3s\n",
      "672:\tlearn: 0.0487971\ttotal: 49.8s\tremaining: 24.2s\n",
      "673:\tlearn: 0.0487943\ttotal: 49.9s\tremaining: 24.1s\n",
      "674:\tlearn: 0.0487669\ttotal: 50s\tremaining: 24.1s\n",
      "675:\tlearn: 0.0487161\ttotal: 50s\tremaining: 24s\n",
      "676:\tlearn: 0.0487146\ttotal: 50.1s\tremaining: 23.9s\n",
      "677:\tlearn: 0.0487067\ttotal: 50.2s\tremaining: 23.8s\n",
      "678:\tlearn: 0.0486997\ttotal: 50.2s\tremaining: 23.7s\n",
      "679:\tlearn: 0.0486990\ttotal: 50.3s\tremaining: 23.7s\n",
      "680:\tlearn: 0.0486782\ttotal: 50.3s\tremaining: 23.6s\n",
      "681:\tlearn: 0.0486781\ttotal: 50.4s\tremaining: 23.5s\n",
      "682:\tlearn: 0.0486776\ttotal: 50.5s\tremaining: 23.4s\n",
      "683:\tlearn: 0.0486630\ttotal: 50.5s\tremaining: 23.3s\n",
      "684:\tlearn: 0.0486555\ttotal: 50.6s\tremaining: 23.3s\n",
      "685:\tlearn: 0.0486530\ttotal: 50.7s\tremaining: 23.2s\n",
      "686:\tlearn: 0.0486372\ttotal: 50.8s\tremaining: 23.1s\n",
      "687:\tlearn: 0.0486008\ttotal: 50.8s\tremaining: 23.1s\n",
      "688:\tlearn: 0.0485816\ttotal: 50.9s\tremaining: 23s\n",
      "689:\tlearn: 0.0485658\ttotal: 51s\tremaining: 22.9s\n",
      "690:\tlearn: 0.0485568\ttotal: 51.1s\tremaining: 22.8s\n",
      "691:\tlearn: 0.0485421\ttotal: 51.2s\tremaining: 22.8s\n",
      "692:\tlearn: 0.0485208\ttotal: 51.3s\tremaining: 22.7s\n",
      "693:\tlearn: 0.0485170\ttotal: 51.3s\tremaining: 22.6s\n",
      "694:\tlearn: 0.0485065\ttotal: 51.4s\tremaining: 22.6s\n",
      "695:\tlearn: 0.0485053\ttotal: 51.5s\tremaining: 22.5s\n",
      "696:\tlearn: 0.0484913\ttotal: 51.6s\tremaining: 22.4s\n",
      "697:\tlearn: 0.0484887\ttotal: 51.6s\tremaining: 22.3s\n",
      "698:\tlearn: 0.0484856\ttotal: 51.7s\tremaining: 22.3s\n",
      "699:\tlearn: 0.0484817\ttotal: 51.8s\tremaining: 22.2s\n",
      "700:\tlearn: 0.0484708\ttotal: 51.9s\tremaining: 22.1s\n",
      "701:\tlearn: 0.0484500\ttotal: 52s\tremaining: 22.1s\n",
      "702:\tlearn: 0.0484426\ttotal: 52.1s\tremaining: 22s\n",
      "703:\tlearn: 0.0484267\ttotal: 52.1s\tremaining: 21.9s\n",
      "704:\tlearn: 0.0484243\ttotal: 52.2s\tremaining: 21.9s\n",
      "705:\tlearn: 0.0483777\ttotal: 52.3s\tremaining: 21.8s\n",
      "706:\tlearn: 0.0483685\ttotal: 52.4s\tremaining: 21.7s\n",
      "707:\tlearn: 0.0483562\ttotal: 52.5s\tremaining: 21.6s\n",
      "708:\tlearn: 0.0483165\ttotal: 52.6s\tremaining: 21.6s\n",
      "709:\tlearn: 0.0482780\ttotal: 52.6s\tremaining: 21.5s\n",
      "710:\tlearn: 0.0482504\ttotal: 52.7s\tremaining: 21.4s\n",
      "711:\tlearn: 0.0482444\ttotal: 52.8s\tremaining: 21.3s\n",
      "712:\tlearn: 0.0482404\ttotal: 52.8s\tremaining: 21.3s\n",
      "713:\tlearn: 0.0482189\ttotal: 52.9s\tremaining: 21.2s\n",
      "714:\tlearn: 0.0482045\ttotal: 53s\tremaining: 21.1s\n",
      "715:\tlearn: 0.0481789\ttotal: 53.1s\tremaining: 21s\n",
      "716:\tlearn: 0.0481386\ttotal: 53.1s\tremaining: 21s\n",
      "717:\tlearn: 0.0480960\ttotal: 53.2s\tremaining: 20.9s\n",
      "718:\tlearn: 0.0480906\ttotal: 53.3s\tremaining: 20.8s\n",
      "719:\tlearn: 0.0480897\ttotal: 53.4s\tremaining: 20.8s\n",
      "720:\tlearn: 0.0480752\ttotal: 53.5s\tremaining: 20.7s\n",
      "721:\tlearn: 0.0480530\ttotal: 53.5s\tremaining: 20.6s\n",
      "722:\tlearn: 0.0480388\ttotal: 53.6s\tremaining: 20.5s\n",
      "723:\tlearn: 0.0480242\ttotal: 53.7s\tremaining: 20.5s\n",
      "724:\tlearn: 0.0480234\ttotal: 53.7s\tremaining: 20.4s\n",
      "725:\tlearn: 0.0480004\ttotal: 53.8s\tremaining: 20.3s\n",
      "726:\tlearn: 0.0479762\ttotal: 53.9s\tremaining: 20.2s\n",
      "727:\tlearn: 0.0479502\ttotal: 54s\tremaining: 20.2s\n",
      "728:\tlearn: 0.0479445\ttotal: 54.1s\tremaining: 20.1s\n",
      "729:\tlearn: 0.0479280\ttotal: 54.1s\tremaining: 20s\n",
      "730:\tlearn: 0.0478651\ttotal: 54.2s\tremaining: 20s\n",
      "731:\tlearn: 0.0478468\ttotal: 54.3s\tremaining: 19.9s\n",
      "732:\tlearn: 0.0478445\ttotal: 54.4s\tremaining: 19.8s\n",
      "733:\tlearn: 0.0478007\ttotal: 54.5s\tremaining: 19.7s\n",
      "734:\tlearn: 0.0477924\ttotal: 54.6s\tremaining: 19.7s\n",
      "735:\tlearn: 0.0477712\ttotal: 54.6s\tremaining: 19.6s\n",
      "736:\tlearn: 0.0477704\ttotal: 54.7s\tremaining: 19.5s\n",
      "737:\tlearn: 0.0477577\ttotal: 54.8s\tremaining: 19.5s\n",
      "738:\tlearn: 0.0477552\ttotal: 54.9s\tremaining: 19.4s\n",
      "739:\tlearn: 0.0477530\ttotal: 54.9s\tremaining: 19.3s\n",
      "740:\tlearn: 0.0477500\ttotal: 55s\tremaining: 19.2s\n",
      "741:\tlearn: 0.0477473\ttotal: 55.1s\tremaining: 19.2s\n",
      "742:\tlearn: 0.0477448\ttotal: 55.2s\tremaining: 19.1s\n",
      "743:\tlearn: 0.0477430\ttotal: 55.2s\tremaining: 19s\n",
      "744:\tlearn: 0.0477334\ttotal: 55.3s\tremaining: 18.9s\n",
      "745:\tlearn: 0.0477169\ttotal: 55.4s\tremaining: 18.9s\n",
      "746:\tlearn: 0.0477081\ttotal: 55.5s\tremaining: 18.8s\n",
      "747:\tlearn: 0.0476842\ttotal: 55.5s\tremaining: 18.7s\n",
      "748:\tlearn: 0.0476804\ttotal: 55.6s\tremaining: 18.6s\n",
      "749:\tlearn: 0.0476625\ttotal: 55.7s\tremaining: 18.6s\n",
      "750:\tlearn: 0.0476443\ttotal: 55.8s\tremaining: 18.5s\n",
      "751:\tlearn: 0.0476311\ttotal: 55.8s\tremaining: 18.4s\n",
      "752:\tlearn: 0.0476106\ttotal: 55.9s\tremaining: 18.3s\n",
      "753:\tlearn: 0.0475992\ttotal: 56s\tremaining: 18.3s\n",
      "754:\tlearn: 0.0475587\ttotal: 56s\tremaining: 18.2s\n",
      "755:\tlearn: 0.0475565\ttotal: 56.1s\tremaining: 18.1s\n",
      "756:\tlearn: 0.0475287\ttotal: 56.2s\tremaining: 18s\n",
      "757:\tlearn: 0.0475160\ttotal: 56.3s\tremaining: 18s\n",
      "758:\tlearn: 0.0474886\ttotal: 56.3s\tremaining: 17.9s\n",
      "759:\tlearn: 0.0474787\ttotal: 56.4s\tremaining: 17.8s\n",
      "760:\tlearn: 0.0474711\ttotal: 56.5s\tremaining: 17.7s\n",
      "761:\tlearn: 0.0474635\ttotal: 56.6s\tremaining: 17.7s\n",
      "762:\tlearn: 0.0474540\ttotal: 56.6s\tremaining: 17.6s\n",
      "763:\tlearn: 0.0474371\ttotal: 56.7s\tremaining: 17.5s\n",
      "764:\tlearn: 0.0474276\ttotal: 56.8s\tremaining: 17.4s\n",
      "765:\tlearn: 0.0474276\ttotal: 56.9s\tremaining: 17.4s\n",
      "766:\tlearn: 0.0474204\ttotal: 56.9s\tremaining: 17.3s\n",
      "767:\tlearn: 0.0474113\ttotal: 57s\tremaining: 17.2s\n",
      "768:\tlearn: 0.0473849\ttotal: 57.1s\tremaining: 17.1s\n",
      "769:\tlearn: 0.0473507\ttotal: 57.2s\tremaining: 17.1s\n",
      "770:\tlearn: 0.0473381\ttotal: 57.2s\tremaining: 17s\n",
      "771:\tlearn: 0.0473371\ttotal: 57.3s\tremaining: 16.9s\n",
      "772:\tlearn: 0.0473353\ttotal: 57.4s\tremaining: 16.8s\n",
      "773:\tlearn: 0.0473218\ttotal: 57.5s\tremaining: 16.8s\n",
      "774:\tlearn: 0.0473204\ttotal: 57.5s\tremaining: 16.7s\n",
      "775:\tlearn: 0.0472979\ttotal: 57.6s\tremaining: 16.6s\n",
      "776:\tlearn: 0.0472775\ttotal: 57.7s\tremaining: 16.5s\n",
      "777:\tlearn: 0.0472331\ttotal: 57.7s\tremaining: 16.5s\n",
      "778:\tlearn: 0.0471732\ttotal: 57.8s\tremaining: 16.4s\n",
      "779:\tlearn: 0.0471576\ttotal: 57.9s\tremaining: 16.3s\n",
      "780:\tlearn: 0.0471515\ttotal: 58s\tremaining: 16.3s\n",
      "781:\tlearn: 0.0471497\ttotal: 58s\tremaining: 16.2s\n",
      "782:\tlearn: 0.0471491\ttotal: 58.1s\tremaining: 16.1s\n",
      "783:\tlearn: 0.0471025\ttotal: 58.2s\tremaining: 16s\n",
      "784:\tlearn: 0.0470973\ttotal: 58.3s\tremaining: 16s\n",
      "785:\tlearn: 0.0470821\ttotal: 58.3s\tremaining: 15.9s\n",
      "786:\tlearn: 0.0470695\ttotal: 58.4s\tremaining: 15.8s\n",
      "787:\tlearn: 0.0470694\ttotal: 58.5s\tremaining: 15.7s\n",
      "788:\tlearn: 0.0470508\ttotal: 58.6s\tremaining: 15.7s\n",
      "789:\tlearn: 0.0470500\ttotal: 58.6s\tremaining: 15.6s\n",
      "790:\tlearn: 0.0470413\ttotal: 58.7s\tremaining: 15.5s\n",
      "791:\tlearn: 0.0470275\ttotal: 58.8s\tremaining: 15.4s\n",
      "792:\tlearn: 0.0470086\ttotal: 58.8s\tremaining: 15.4s\n",
      "793:\tlearn: 0.0469946\ttotal: 58.9s\tremaining: 15.3s\n",
      "794:\tlearn: 0.0469945\ttotal: 59s\tremaining: 15.2s\n",
      "795:\tlearn: 0.0469870\ttotal: 59s\tremaining: 15.1s\n",
      "796:\tlearn: 0.0469744\ttotal: 59.1s\tremaining: 15.1s\n",
      "797:\tlearn: 0.0469735\ttotal: 59.2s\tremaining: 15s\n",
      "798:\tlearn: 0.0469469\ttotal: 59.3s\tremaining: 14.9s\n",
      "799:\tlearn: 0.0469466\ttotal: 59.3s\tremaining: 14.8s\n",
      "800:\tlearn: 0.0469376\ttotal: 59.4s\tremaining: 14.8s\n"
     ]
    },
    {
     "name": "stdout",
     "output_type": "stream",
     "text": [
      "801:\tlearn: 0.0469365\ttotal: 59.5s\tremaining: 14.7s\n",
      "802:\tlearn: 0.0469175\ttotal: 59.5s\tremaining: 14.6s\n",
      "803:\tlearn: 0.0469068\ttotal: 59.6s\tremaining: 14.5s\n",
      "804:\tlearn: 0.0468963\ttotal: 59.7s\tremaining: 14.5s\n",
      "805:\tlearn: 0.0468956\ttotal: 59.8s\tremaining: 14.4s\n",
      "806:\tlearn: 0.0468939\ttotal: 59.8s\tremaining: 14.3s\n",
      "807:\tlearn: 0.0468620\ttotal: 59.9s\tremaining: 14.2s\n",
      "808:\tlearn: 0.0468615\ttotal: 60s\tremaining: 14.2s\n",
      "809:\tlearn: 0.0468590\ttotal: 1m\tremaining: 14.1s\n",
      "810:\tlearn: 0.0468569\ttotal: 1m\tremaining: 14s\n",
      "811:\tlearn: 0.0468492\ttotal: 1m\tremaining: 13.9s\n",
      "812:\tlearn: 0.0468450\ttotal: 1m\tremaining: 13.9s\n",
      "813:\tlearn: 0.0468284\ttotal: 1m\tremaining: 13.8s\n",
      "814:\tlearn: 0.0468134\ttotal: 1m\tremaining: 13.7s\n",
      "815:\tlearn: 0.0468092\ttotal: 1m\tremaining: 13.6s\n",
      "816:\tlearn: 0.0468054\ttotal: 1m\tremaining: 13.6s\n",
      "817:\tlearn: 0.0467774\ttotal: 1m\tremaining: 13.5s\n",
      "818:\tlearn: 0.0467545\ttotal: 1m\tremaining: 13.4s\n",
      "819:\tlearn: 0.0467504\ttotal: 1m\tremaining: 13.3s\n",
      "820:\tlearn: 0.0467083\ttotal: 1m\tremaining: 13.3s\n",
      "821:\tlearn: 0.0466764\ttotal: 1m\tremaining: 13.2s\n",
      "822:\tlearn: 0.0466541\ttotal: 1m 1s\tremaining: 13.1s\n",
      "823:\tlearn: 0.0466422\ttotal: 1m 1s\tremaining: 13.1s\n",
      "824:\tlearn: 0.0466376\ttotal: 1m 1s\tremaining: 13s\n",
      "825:\tlearn: 0.0466344\ttotal: 1m 1s\tremaining: 12.9s\n",
      "826:\tlearn: 0.0466327\ttotal: 1m 1s\tremaining: 12.8s\n",
      "827:\tlearn: 0.0466098\ttotal: 1m 1s\tremaining: 12.7s\n",
      "828:\tlearn: 0.0465474\ttotal: 1m 1s\tremaining: 12.7s\n",
      "829:\tlearn: 0.0465202\ttotal: 1m 1s\tremaining: 12.6s\n",
      "830:\tlearn: 0.0465200\ttotal: 1m 1s\tremaining: 12.5s\n",
      "831:\tlearn: 0.0465138\ttotal: 1m 1s\tremaining: 12.4s\n",
      "832:\tlearn: 0.0464976\ttotal: 1m 1s\tremaining: 12.4s\n",
      "833:\tlearn: 0.0464808\ttotal: 1m 1s\tremaining: 12.3s\n",
      "834:\tlearn: 0.0464693\ttotal: 1m 1s\tremaining: 12.2s\n",
      "835:\tlearn: 0.0464686\ttotal: 1m 1s\tremaining: 12.2s\n",
      "836:\tlearn: 0.0464587\ttotal: 1m 2s\tremaining: 12.1s\n",
      "837:\tlearn: 0.0464458\ttotal: 1m 2s\tremaining: 12s\n",
      "838:\tlearn: 0.0464177\ttotal: 1m 2s\tremaining: 11.9s\n",
      "839:\tlearn: 0.0464159\ttotal: 1m 2s\tremaining: 11.9s\n",
      "840:\tlearn: 0.0464038\ttotal: 1m 2s\tremaining: 11.8s\n",
      "841:\tlearn: 0.0463791\ttotal: 1m 2s\tremaining: 11.7s\n",
      "842:\tlearn: 0.0463789\ttotal: 1m 2s\tremaining: 11.6s\n",
      "843:\tlearn: 0.0463701\ttotal: 1m 2s\tremaining: 11.6s\n",
      "844:\tlearn: 0.0463644\ttotal: 1m 2s\tremaining: 11.5s\n",
      "845:\tlearn: 0.0463563\ttotal: 1m 2s\tremaining: 11.4s\n",
      "846:\tlearn: 0.0463550\ttotal: 1m 2s\tremaining: 11.3s\n",
      "847:\tlearn: 0.0463545\ttotal: 1m 2s\tremaining: 11.3s\n",
      "848:\tlearn: 0.0463540\ttotal: 1m 2s\tremaining: 11.2s\n",
      "849:\tlearn: 0.0463317\ttotal: 1m 3s\tremaining: 11.1s\n",
      "850:\tlearn: 0.0463283\ttotal: 1m 3s\tremaining: 11s\n",
      "851:\tlearn: 0.0463276\ttotal: 1m 3s\tremaining: 11s\n",
      "852:\tlearn: 0.0463176\ttotal: 1m 3s\tremaining: 10.9s\n",
      "853:\tlearn: 0.0463109\ttotal: 1m 3s\tremaining: 10.8s\n",
      "854:\tlearn: 0.0462979\ttotal: 1m 3s\tremaining: 10.8s\n",
      "855:\tlearn: 0.0462641\ttotal: 1m 3s\tremaining: 10.7s\n",
      "856:\tlearn: 0.0461986\ttotal: 1m 3s\tremaining: 10.6s\n",
      "857:\tlearn: 0.0461931\ttotal: 1m 3s\tremaining: 10.5s\n",
      "858:\tlearn: 0.0461516\ttotal: 1m 3s\tremaining: 10.5s\n",
      "859:\tlearn: 0.0461401\ttotal: 1m 3s\tremaining: 10.4s\n",
      "860:\tlearn: 0.0461285\ttotal: 1m 3s\tremaining: 10.3s\n",
      "861:\tlearn: 0.0461086\ttotal: 1m 3s\tremaining: 10.2s\n",
      "862:\tlearn: 0.0461054\ttotal: 1m 4s\tremaining: 10.2s\n",
      "863:\tlearn: 0.0460871\ttotal: 1m 4s\tremaining: 10.1s\n",
      "864:\tlearn: 0.0460843\ttotal: 1m 4s\tremaining: 10s\n",
      "865:\tlearn: 0.0460837\ttotal: 1m 4s\tremaining: 9.94s\n",
      "866:\tlearn: 0.0460667\ttotal: 1m 4s\tremaining: 9.87s\n",
      "867:\tlearn: 0.0460603\ttotal: 1m 4s\tremaining: 9.79s\n",
      "868:\tlearn: 0.0460588\ttotal: 1m 4s\tremaining: 9.72s\n",
      "869:\tlearn: 0.0460094\ttotal: 1m 4s\tremaining: 9.64s\n",
      "870:\tlearn: 0.0459756\ttotal: 1m 4s\tremaining: 9.57s\n",
      "871:\tlearn: 0.0459729\ttotal: 1m 4s\tremaining: 9.49s\n",
      "872:\tlearn: 0.0459347\ttotal: 1m 4s\tremaining: 9.42s\n",
      "873:\tlearn: 0.0459301\ttotal: 1m 4s\tremaining: 9.34s\n",
      "874:\tlearn: 0.0459235\ttotal: 1m 4s\tremaining: 9.27s\n",
      "875:\tlearn: 0.0459232\ttotal: 1m 4s\tremaining: 9.2s\n",
      "876:\tlearn: 0.0458927\ttotal: 1m 5s\tremaining: 9.12s\n",
      "877:\tlearn: 0.0458672\ttotal: 1m 5s\tremaining: 9.05s\n",
      "878:\tlearn: 0.0458592\ttotal: 1m 5s\tremaining: 8.97s\n",
      "879:\tlearn: 0.0458579\ttotal: 1m 5s\tremaining: 8.9s\n",
      "880:\tlearn: 0.0458253\ttotal: 1m 5s\tremaining: 8.82s\n",
      "881:\tlearn: 0.0458120\ttotal: 1m 5s\tremaining: 8.75s\n",
      "882:\tlearn: 0.0458088\ttotal: 1m 5s\tremaining: 8.67s\n",
      "883:\tlearn: 0.0458056\ttotal: 1m 5s\tremaining: 8.6s\n",
      "884:\tlearn: 0.0458040\ttotal: 1m 5s\tremaining: 8.53s\n",
      "885:\tlearn: 0.0457867\ttotal: 1m 5s\tremaining: 8.45s\n",
      "886:\tlearn: 0.0457847\ttotal: 1m 5s\tremaining: 8.38s\n",
      "887:\tlearn: 0.0457712\ttotal: 1m 5s\tremaining: 8.3s\n",
      "888:\tlearn: 0.0457691\ttotal: 1m 5s\tremaining: 8.23s\n",
      "889:\tlearn: 0.0457624\ttotal: 1m 6s\tremaining: 8.16s\n",
      "890:\tlearn: 0.0457578\ttotal: 1m 6s\tremaining: 8.08s\n",
      "891:\tlearn: 0.0457567\ttotal: 1m 6s\tremaining: 8.01s\n",
      "892:\tlearn: 0.0457555\ttotal: 1m 6s\tremaining: 7.93s\n",
      "893:\tlearn: 0.0457477\ttotal: 1m 6s\tremaining: 7.86s\n",
      "894:\tlearn: 0.0457457\ttotal: 1m 6s\tremaining: 7.79s\n",
      "895:\tlearn: 0.0457405\ttotal: 1m 6s\tremaining: 7.71s\n",
      "896:\tlearn: 0.0457320\ttotal: 1m 6s\tremaining: 7.64s\n",
      "897:\tlearn: 0.0457298\ttotal: 1m 6s\tremaining: 7.56s\n",
      "898:\tlearn: 0.0457128\ttotal: 1m 6s\tremaining: 7.49s\n",
      "899:\tlearn: 0.0457112\ttotal: 1m 6s\tremaining: 7.41s\n",
      "900:\tlearn: 0.0456922\ttotal: 1m 6s\tremaining: 7.34s\n",
      "901:\tlearn: 0.0456754\ttotal: 1m 6s\tremaining: 7.27s\n",
      "902:\tlearn: 0.0456671\ttotal: 1m 6s\tremaining: 7.19s\n",
      "903:\tlearn: 0.0456568\ttotal: 1m 7s\tremaining: 7.12s\n",
      "904:\tlearn: 0.0456269\ttotal: 1m 7s\tremaining: 7.04s\n",
      "905:\tlearn: 0.0456256\ttotal: 1m 7s\tremaining: 6.97s\n",
      "906:\tlearn: 0.0456197\ttotal: 1m 7s\tremaining: 6.9s\n",
      "907:\tlearn: 0.0456058\ttotal: 1m 7s\tremaining: 6.82s\n",
      "908:\tlearn: 0.0455561\ttotal: 1m 7s\tremaining: 6.75s\n",
      "909:\tlearn: 0.0455068\ttotal: 1m 7s\tremaining: 6.67s\n",
      "910:\tlearn: 0.0455062\ttotal: 1m 7s\tremaining: 6.6s\n",
      "911:\tlearn: 0.0454863\ttotal: 1m 7s\tremaining: 6.53s\n",
      "912:\tlearn: 0.0454699\ttotal: 1m 7s\tremaining: 6.45s\n",
      "913:\tlearn: 0.0454501\ttotal: 1m 7s\tremaining: 6.38s\n",
      "914:\tlearn: 0.0454394\ttotal: 1m 7s\tremaining: 6.3s\n",
      "915:\tlearn: 0.0454388\ttotal: 1m 7s\tremaining: 6.23s\n",
      "916:\tlearn: 0.0454382\ttotal: 1m 8s\tremaining: 6.16s\n",
      "917:\tlearn: 0.0454127\ttotal: 1m 8s\tremaining: 6.08s\n",
      "918:\tlearn: 0.0454122\ttotal: 1m 8s\tremaining: 6.01s\n",
      "919:\tlearn: 0.0454053\ttotal: 1m 8s\tremaining: 5.93s\n",
      "920:\tlearn: 0.0454010\ttotal: 1m 8s\tremaining: 5.86s\n",
      "921:\tlearn: 0.0454006\ttotal: 1m 8s\tremaining: 5.79s\n",
      "922:\tlearn: 0.0453907\ttotal: 1m 8s\tremaining: 5.71s\n",
      "923:\tlearn: 0.0453854\ttotal: 1m 8s\tremaining: 5.64s\n",
      "924:\tlearn: 0.0453719\ttotal: 1m 8s\tremaining: 5.57s\n",
      "925:\tlearn: 0.0453563\ttotal: 1m 8s\tremaining: 5.49s\n",
      "926:\tlearn: 0.0453333\ttotal: 1m 8s\tremaining: 5.42s\n",
      "927:\tlearn: 0.0453184\ttotal: 1m 8s\tremaining: 5.34s\n",
      "928:\tlearn: 0.0453118\ttotal: 1m 8s\tremaining: 5.27s\n",
      "929:\tlearn: 0.0453114\ttotal: 1m 9s\tremaining: 5.19s\n",
      "930:\tlearn: 0.0453059\ttotal: 1m 9s\tremaining: 5.12s\n",
      "931:\tlearn: 0.0452855\ttotal: 1m 9s\tremaining: 5.04s\n",
      "932:\tlearn: 0.0452539\ttotal: 1m 9s\tremaining: 4.97s\n",
      "933:\tlearn: 0.0452533\ttotal: 1m 9s\tremaining: 4.9s\n",
      "934:\tlearn: 0.0452298\ttotal: 1m 9s\tremaining: 4.83s\n",
      "935:\tlearn: 0.0452293\ttotal: 1m 9s\tremaining: 4.75s\n",
      "936:\tlearn: 0.0452061\ttotal: 1m 9s\tremaining: 4.68s\n",
      "937:\tlearn: 0.0452058\ttotal: 1m 9s\tremaining: 4.6s\n",
      "938:\tlearn: 0.0451846\ttotal: 1m 9s\tremaining: 4.53s\n",
      "939:\tlearn: 0.0451757\ttotal: 1m 9s\tremaining: 4.46s\n",
      "940:\tlearn: 0.0451754\ttotal: 1m 9s\tremaining: 4.38s\n",
      "941:\tlearn: 0.0451569\ttotal: 1m 9s\tremaining: 4.31s\n",
      "942:\tlearn: 0.0451563\ttotal: 1m 10s\tremaining: 4.23s\n",
      "943:\tlearn: 0.0451483\ttotal: 1m 10s\tremaining: 4.16s\n",
      "944:\tlearn: 0.0451473\ttotal: 1m 10s\tremaining: 4.08s\n",
      "945:\tlearn: 0.0451336\ttotal: 1m 10s\tremaining: 4.01s\n",
      "946:\tlearn: 0.0451047\ttotal: 1m 10s\tremaining: 3.93s\n",
      "947:\tlearn: 0.0450871\ttotal: 1m 10s\tremaining: 3.86s\n",
      "948:\tlearn: 0.0450775\ttotal: 1m 10s\tremaining: 3.79s\n",
      "949:\tlearn: 0.0450774\ttotal: 1m 10s\tremaining: 3.71s\n",
      "950:\tlearn: 0.0450724\ttotal: 1m 10s\tremaining: 3.64s\n",
      "951:\tlearn: 0.0450654\ttotal: 1m 10s\tremaining: 3.56s\n",
      "952:\tlearn: 0.0450647\ttotal: 1m 10s\tremaining: 3.49s\n",
      "953:\tlearn: 0.0450509\ttotal: 1m 10s\tremaining: 3.42s\n",
      "954:\tlearn: 0.0450497\ttotal: 1m 10s\tremaining: 3.34s\n",
      "955:\tlearn: 0.0450314\ttotal: 1m 10s\tremaining: 3.27s\n",
      "956:\tlearn: 0.0450230\ttotal: 1m 11s\tremaining: 3.19s\n",
      "957:\tlearn: 0.0450132\ttotal: 1m 11s\tremaining: 3.12s\n",
      "958:\tlearn: 0.0450109\ttotal: 1m 11s\tremaining: 3.04s\n",
      "959:\tlearn: 0.0450068\ttotal: 1m 11s\tremaining: 2.97s\n"
     ]
    },
    {
     "name": "stdout",
     "output_type": "stream",
     "text": [
      "960:\tlearn: 0.0450046\ttotal: 1m 11s\tremaining: 2.9s\n",
      "961:\tlearn: 0.0450045\ttotal: 1m 11s\tremaining: 2.82s\n",
      "962:\tlearn: 0.0449846\ttotal: 1m 11s\tremaining: 2.75s\n",
      "963:\tlearn: 0.0449689\ttotal: 1m 11s\tremaining: 2.67s\n",
      "964:\tlearn: 0.0449672\ttotal: 1m 11s\tremaining: 2.6s\n",
      "965:\tlearn: 0.0449345\ttotal: 1m 11s\tremaining: 2.52s\n",
      "966:\tlearn: 0.0449237\ttotal: 1m 11s\tremaining: 2.45s\n",
      "967:\tlearn: 0.0449032\ttotal: 1m 11s\tremaining: 2.38s\n",
      "968:\tlearn: 0.0449020\ttotal: 1m 11s\tremaining: 2.3s\n",
      "969:\tlearn: 0.0448948\ttotal: 1m 12s\tremaining: 2.23s\n",
      "970:\tlearn: 0.0448827\ttotal: 1m 12s\tremaining: 2.15s\n",
      "971:\tlearn: 0.0448815\ttotal: 1m 12s\tremaining: 2.08s\n",
      "972:\tlearn: 0.0448793\ttotal: 1m 12s\tremaining: 2s\n",
      "973:\tlearn: 0.0448670\ttotal: 1m 12s\tremaining: 1.93s\n",
      "974:\tlearn: 0.0448509\ttotal: 1m 12s\tremaining: 1.85s\n",
      "975:\tlearn: 0.0448502\ttotal: 1m 12s\tremaining: 1.78s\n",
      "976:\tlearn: 0.0448342\ttotal: 1m 12s\tremaining: 1.71s\n",
      "977:\tlearn: 0.0448316\ttotal: 1m 12s\tremaining: 1.63s\n",
      "978:\tlearn: 0.0447883\ttotal: 1m 12s\tremaining: 1.56s\n",
      "979:\tlearn: 0.0447835\ttotal: 1m 12s\tremaining: 1.48s\n",
      "980:\tlearn: 0.0447630\ttotal: 1m 12s\tremaining: 1.41s\n",
      "981:\tlearn: 0.0447434\ttotal: 1m 12s\tremaining: 1.33s\n",
      "982:\tlearn: 0.0447344\ttotal: 1m 12s\tremaining: 1.26s\n",
      "983:\tlearn: 0.0446934\ttotal: 1m 12s\tremaining: 1.19s\n",
      "984:\tlearn: 0.0446934\ttotal: 1m 12s\tremaining: 1.11s\n",
      "985:\tlearn: 0.0446921\ttotal: 1m 13s\tremaining: 1.04s\n",
      "986:\tlearn: 0.0446735\ttotal: 1m 13s\tremaining: 963ms\n",
      "987:\tlearn: 0.0446718\ttotal: 1m 13s\tremaining: 889ms\n",
      "988:\tlearn: 0.0446717\ttotal: 1m 13s\tremaining: 815ms\n",
      "989:\tlearn: 0.0446716\ttotal: 1m 13s\tremaining: 741ms\n",
      "990:\tlearn: 0.0446545\ttotal: 1m 13s\tremaining: 667ms\n",
      "991:\tlearn: 0.0446151\ttotal: 1m 13s\tremaining: 592ms\n",
      "992:\tlearn: 0.0446112\ttotal: 1m 13s\tremaining: 518ms\n",
      "993:\tlearn: 0.0446008\ttotal: 1m 13s\tremaining: 444ms\n",
      "994:\tlearn: 0.0446003\ttotal: 1m 13s\tremaining: 370ms\n",
      "995:\tlearn: 0.0445830\ttotal: 1m 13s\tremaining: 296ms\n",
      "996:\tlearn: 0.0445812\ttotal: 1m 13s\tremaining: 222ms\n",
      "997:\tlearn: 0.0445666\ttotal: 1m 13s\tremaining: 148ms\n",
      "998:\tlearn: 0.0445337\ttotal: 1m 13s\tremaining: 74ms\n",
      "999:\tlearn: 0.0444990\ttotal: 1m 13s\tremaining: 0us\n"
     ]
    }
   ],
   "source": [
    "#your code here"
   ]
  },
  {
   "cell_type": "markdown",
   "metadata": {},
   "source": [
    "# Задание\n",
    "\n",
    "Решите задачу классификации пассажиров Титаника с помощью XGBoost, CatBoost,LightGBM. Если у вас есть наработки по Титанику, используйте их. Помните о том, что CatBoost сам умеет кодировать категориальные признаки, попробуйте использовать это.\n",
    "\n",
    "Удалось ли улучшить качество с помощью какого-либо из этих алгоритмов?"
   ]
  },
  {
   "cell_type": "code",
   "execution_count": 3,
   "metadata": {},
   "outputs": [],
   "source": [
    "import pandas as pd\n",
    "\n",
    "df = pd.read_csv(\"titanic_train.csv\")\n",
    "\n",
    "#your code here"
   ]
  }
 ],
 "metadata": {
  "kernelspec": {
   "display_name": "MTS ED",
   "language": "python",
   "name": "shad"
  },
  "language_info": {
   "codemirror_mode": {
    "name": "ipython",
    "version": 3
   },
   "file_extension": ".py",
   "mimetype": "text/x-python",
   "name": "python",
   "nbconvert_exporter": "python",
   "pygments_lexer": "ipython3",
   "version": "3.7.3"
  }
 },
 "nbformat": 4,
 "nbformat_minor": 2
}
