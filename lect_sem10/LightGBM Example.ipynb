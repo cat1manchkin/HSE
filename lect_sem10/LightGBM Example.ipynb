{
 "cells": [
  {
   "cell_type": "markdown",
   "metadata": {},
   "source": [
    "### LightGBM. Пример решения задачи."
   ]
  },
  {
   "cell_type": "code",
   "execution_count": 1,
   "metadata": {
    "ExecuteTime": {
     "end_time": "2021-11-13T14:44:04.795970Z",
     "start_time": "2021-11-13T14:44:04.236461Z"
    }
   },
   "outputs": [],
   "source": [
    "import numpy as np\n",
    "import pandas as pd\n",
    "import lightgbm as lgb\n",
    "\n",
    "from sklearn.metrics import mean_squared_error\n",
    "from sklearn.model_selection import GridSearchCV\n",
    "\n",
    "from sklearn.datasets import load_boston\n",
    "from sklearn.model_selection import train_test_split\n",
    "\n",
    "data = load_boston()\n",
    "X_full = data.data\n",
    "y_full = data.target\n",
    "\n",
    "X_train, X_test, y_train, y_test = train_test_split(X_full, y_full, test_size=100, \n",
    "                                        random_state=241)"
   ]
  },
  {
   "cell_type": "markdown",
   "metadata": {},
   "source": [
    "Обучение"
   ]
  },
  {
   "cell_type": "code",
   "execution_count": 2,
   "metadata": {
    "ExecuteTime": {
     "end_time": "2021-11-13T14:44:05.824157Z",
     "start_time": "2021-11-13T14:44:05.588304Z"
    }
   },
   "outputs": [
    {
     "name": "stdout",
     "output_type": "stream",
     "text": [
      "Starting training...\n",
      "[1]\tvalid_0's l1: 6.55152\tvalid_0's l2: 76.761\n",
      "Training until validation scores don't improve for 5 rounds\n",
      "[2]\tvalid_0's l1: 6.29855\tvalid_0's l2: 71.5199\n",
      "[3]\tvalid_0's l1: 6.08526\tvalid_0's l2: 67.0386\n",
      "[4]\tvalid_0's l1: 5.88219\tvalid_0's l2: 62.9998\n",
      "[5]\tvalid_0's l1: 5.66549\tvalid_0's l2: 58.889\n",
      "[6]\tvalid_0's l1: 5.45931\tvalid_0's l2: 55.1763\n",
      "[7]\tvalid_0's l1: 5.29116\tvalid_0's l2: 52.2049\n",
      "[8]\tvalid_0's l1: 5.10806\tvalid_0's l2: 49.089\n",
      "[9]\tvalid_0's l1: 4.93583\tvalid_0's l2: 46.2628\n",
      "[10]\tvalid_0's l1: 4.79662\tvalid_0's l2: 44.0623\n",
      "[11]\tvalid_0's l1: 4.62366\tvalid_0's l2: 41.4139\n",
      "[12]\tvalid_0's l1: 4.48798\tvalid_0's l2: 39.5294\n",
      "[13]\tvalid_0's l1: 4.32989\tvalid_0's l2: 37.383\n",
      "[14]\tvalid_0's l1: 4.18449\tvalid_0's l2: 35.4853\n",
      "[15]\tvalid_0's l1: 4.07735\tvalid_0's l2: 34.094\n",
      "[16]\tvalid_0's l1: 3.96772\tvalid_0's l2: 32.4964\n",
      "[17]\tvalid_0's l1: 3.8743\tvalid_0's l2: 31.299\n",
      "[18]\tvalid_0's l1: 3.77696\tvalid_0's l2: 30.0159\n",
      "[19]\tvalid_0's l1: 3.68361\tvalid_0's l2: 28.8212\n",
      "[20]\tvalid_0's l1: 3.5872\tvalid_0's l2: 27.6637\n",
      "Did not meet early stopping. Best iteration is:\n",
      "[20]\tvalid_0's l1: 3.5872\tvalid_0's l2: 27.6637\n"
     ]
    },
    {
     "data": {
      "text/plain": [
       "LGBMRegressor(learning_rate=0.05, n_estimators=20)"
      ]
     },
     "execution_count": 2,
     "metadata": {},
     "output_type": "execute_result"
    }
   ],
   "source": [
    "print('Starting training...')\n",
    "# train\n",
    "gbm = lgb.LGBMRegressor(num_leaves=31,\n",
    "                        learning_rate=0.05,\n",
    "                        n_estimators=20)\n",
    "gbm.fit(X_train, y_train,\n",
    "        eval_set=[(X_test, y_test)],\n",
    "        eval_metric='l1',\n",
    "        early_stopping_rounds=5)"
   ]
  },
  {
   "cell_type": "markdown",
   "metadata": {},
   "source": [
    "Предсказание и оценка качества"
   ]
  },
  {
   "cell_type": "code",
   "execution_count": 3,
   "metadata": {
    "ExecuteTime": {
     "end_time": "2021-11-13T14:44:06.748383Z",
     "start_time": "2021-11-13T14:44:06.729316Z"
    }
   },
   "outputs": [
    {
     "name": "stdout",
     "output_type": "stream",
     "text": [
      "Starting predicting...\n",
      "The rmse of prediction is: 5.259625962258064\n",
      "Feature importances: [35, 0, 6, 0, 20, 70, 21, 31, 3, 7, 15, 4, 83]\n"
     ]
    }
   ],
   "source": [
    "print('Starting predicting...')\n",
    "\n",
    "y_pred = gbm.predict(X_test, num_iteration=gbm.best_iteration_)\n",
    "\n",
    "print('The rmse of prediction is:', mean_squared_error(y_test, y_pred) ** 0.5)\n",
    "\n",
    "# feature importances\n",
    "print('Feature importances:', list(gbm.feature_importances_))"
   ]
  },
  {
   "cell_type": "markdown",
   "metadata": {},
   "source": [
    "### Можно задать любую метрику качества - надо написать свою функцию."
   ]
  },
  {
   "cell_type": "code",
   "execution_count": 4,
   "metadata": {
    "ExecuteTime": {
     "end_time": "2021-11-13T14:44:10.398293Z",
     "start_time": "2021-11-13T14:44:07.145376Z"
    }
   },
   "outputs": [
    {
     "name": "stdout",
     "output_type": "stream",
     "text": [
      "Starting training with custom eval function...\n",
      "[1]\tvalid_0's l2: 76.761\tvalid_0's RMSLE: 0.395874\n",
      "Training until validation scores don't improve for 5 rounds\n",
      "[2]\tvalid_0's l2: 71.5199\tvalid_0's RMSLE: 0.383203\n",
      "[3]\tvalid_0's l2: 67.0386\tvalid_0's RMSLE: 0.372011\n",
      "[4]\tvalid_0's l2: 62.9998\tvalid_0's RMSLE: 0.361535\n",
      "[5]\tvalid_0's l2: 58.889\tvalid_0's RMSLE: 0.350227\n",
      "[6]\tvalid_0's l2: 55.1763\tvalid_0's RMSLE: 0.33954\n",
      "[7]\tvalid_0's l2: 52.2049\tvalid_0's RMSLE: 0.330704\n",
      "[8]\tvalid_0's l2: 49.089\tvalid_0's RMSLE: 0.320856\n",
      "[9]\tvalid_0's l2: 46.2628\tvalid_0's RMSLE: 0.311518\n",
      "[10]\tvalid_0's l2: 44.0623\tvalid_0's RMSLE: 0.304175\n",
      "[11]\tvalid_0's l2: 41.4139\tvalid_0's RMSLE: 0.295307\n",
      "[12]\tvalid_0's l2: 39.5294\tvalid_0's RMSLE: 0.288303\n",
      "[13]\tvalid_0's l2: 37.383\tvalid_0's RMSLE: 0.280462\n",
      "[14]\tvalid_0's l2: 35.4853\tvalid_0's RMSLE: 0.273098\n",
      "[15]\tvalid_0's l2: 34.094\tvalid_0's RMSLE: 0.26711\n",
      "[16]\tvalid_0's l2: 32.4964\tvalid_0's RMSLE: 0.260523\n",
      "[17]\tvalid_0's l2: 31.299\tvalid_0's RMSLE: 0.255064\n",
      "[18]\tvalid_0's l2: 30.0159\tvalid_0's RMSLE: 0.249275\n",
      "[19]\tvalid_0's l2: 28.8212\tvalid_0's RMSLE: 0.243547\n",
      "[20]\tvalid_0's l2: 27.6637\tvalid_0's RMSLE: 0.238014\n",
      "Did not meet early stopping. Best iteration is:\n",
      "[20]\tvalid_0's l2: 27.6637\tvalid_0's RMSLE: 0.238014\n",
      "Starting predicting...\n",
      "The rmsle of prediction is: 0.23801390867883926\n"
     ]
    }
   ],
   "source": [
    "# self-defined eval metric\n",
    "# f(y_true: array, y_pred: array) -> name: string, eval_result: float, is_higher_better: bool\n",
    "# Root Mean Squared Logarithmic Error (RMSLE)\n",
    "def rmsle(y_true, y_pred):\n",
    "    return 'RMSLE', np.sqrt(np.mean(np.power(np.log1p(y_pred) - np.log1p(y_true), 2))), False\n",
    "\n",
    "\n",
    "print('Starting training with custom eval function...')\n",
    "# train\n",
    "gbm.fit(X_train, y_train,\n",
    "        eval_set=[(X_test, y_test)],\n",
    "        eval_metric=rmsle,\n",
    "        early_stopping_rounds=5)\n",
    "\n",
    "print('Starting predicting...')\n",
    "# predict\n",
    "y_pred = gbm.predict(X_test, num_iteration=gbm.best_iteration_)\n",
    "# eval\n",
    "print('The rmsle of prediction is:', rmsle(y_test, y_pred)[1])"
   ]
  },
  {
   "cell_type": "markdown",
   "metadata": {},
   "source": [
    "### Подбор гиперпараметров."
   ]
  },
  {
   "cell_type": "code",
   "execution_count": 5,
   "metadata": {
    "ExecuteTime": {
     "end_time": "2021-11-13T14:44:16.114200Z",
     "start_time": "2021-11-13T14:44:10.399951Z"
    }
   },
   "outputs": [
    {
     "name": "stdout",
     "output_type": "stream",
     "text": [
      "Best parameters found by grid search are: {'learning_rate': 0.1, 'n_estimators': 40}\n"
     ]
    }
   ],
   "source": [
    "# other scikit-learn modules\n",
    "estimator = lgb.LGBMRegressor(num_leaves=31)\n",
    "\n",
    "param_grid = {\n",
    "    'learning_rate': [0.01, 0.1, 1],\n",
    "    'n_estimators': [20, 40]\n",
    "}\n",
    "\n",
    "gbm = GridSearchCV(estimator, param_grid, cv=3)\n",
    "gbm.fit(X_train, y_train)\n",
    "\n",
    "print('Best parameters found by grid search are:', gbm.best_params_)"
   ]
  },
  {
   "cell_type": "markdown",
   "metadata": {},
   "source": [
    "Предсказание и оценка качества"
   ]
  },
  {
   "cell_type": "code",
   "execution_count": 6,
   "metadata": {
    "ExecuteTime": {
     "end_time": "2021-11-13T14:44:16.122159Z",
     "start_time": "2021-11-13T14:44:16.116223Z"
    }
   },
   "outputs": [],
   "source": [
    "pred = gbm.predict(X_test)"
   ]
  },
  {
   "cell_type": "code",
   "execution_count": 7,
   "metadata": {
    "ExecuteTime": {
     "end_time": "2021-11-13T14:44:16.129342Z",
     "start_time": "2021-11-13T14:44:16.124403Z"
    }
   },
   "outputs": [
    {
     "data": {
      "text/plain": [
       "12.703535974721541"
      ]
     },
     "execution_count": 7,
     "metadata": {},
     "output_type": "execute_result"
    }
   ],
   "source": [
    "from sklearn.metrics import mean_squared_error\n",
    "mean_squared_error(y_test, pred)"
   ]
  },
  {
   "cell_type": "code",
   "execution_count": null,
   "metadata": {},
   "outputs": [],
   "source": []
  },
  {
   "cell_type": "code",
   "execution_count": null,
   "metadata": {},
   "outputs": [],
   "source": []
  },
  {
   "cell_type": "code",
   "execution_count": null,
   "metadata": {},
   "outputs": [],
   "source": []
  }
 ],
 "metadata": {
  "kernelspec": {
   "display_name": "MTS ED",
   "language": "python",
   "name": "shad"
  },
  "language_info": {
   "codemirror_mode": {
    "name": "ipython",
    "version": 3
   },
   "file_extension": ".py",
   "mimetype": "text/x-python",
   "name": "python",
   "nbconvert_exporter": "python",
   "pygments_lexer": "ipython3",
   "version": "3.7.3"
  }
 },
 "nbformat": 4,
 "nbformat_minor": 2
}
